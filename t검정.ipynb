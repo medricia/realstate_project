{
 "cells": [
  {
   "cell_type": "code",
   "execution_count": 3,
   "id": "0af97ef9",
   "metadata": {},
   "outputs": [],
   "source": [
    "import scipy.stats as stats\n",
    "import pandas as pd\n",
    "import numpy as np\n",
    "import matplotlib.pyplot as plt\n",
    "import seaborn as sns"
   ]
  },
  {
   "cell_type": "code",
   "execution_count": 4,
   "id": "8332b1a9",
   "metadata": {},
   "outputs": [],
   "source": [
    "df = pd.read_csv('../data/condeposit.csv')"
   ]
  },
  {
   "cell_type": "code",
   "execution_count": 6,
   "id": "799b43f3",
   "metadata": {},
   "outputs": [
    {
     "name": "stdout",
     "output_type": "stream",
     "text": [
      "-389.1261034010982 2.277237648148877e-146\n"
     ]
    }
   ],
   "source": [
    "t_statistic, p_value = stats.ttest_ind(df[\"deposit\"], df[\"contract\"], equal_var=False)\n",
    "\n",
    "print(t_statistic, p_value)"
   ]
  },
  {
   "cell_type": "code",
   "execution_count": 7,
   "id": "9a575bc7",
   "metadata": {},
   "outputs": [],
   "source": [
    "df1 = pd.read_csv('../data/conpredict.csv')"
   ]
  },
  {
   "cell_type": "code",
   "execution_count": 9,
   "id": "72db1e73",
   "metadata": {},
   "outputs": [
    {
     "name": "stdout",
     "output_type": "stream",
     "text": [
      "-1109.8062500799758 3.414661408909391e-194\n"
     ]
    }
   ],
   "source": [
    "t_statistic, p_value = stats.ttest_ind(df1[\"predict\"], df1[\"contract\"], equal_var=False)\n",
    "print(t_statistic, p_value)"
   ]
  },
  {
   "cell_type": "code",
   "execution_count": null,
   "id": "92bb19f3",
   "metadata": {},
   "outputs": [],
   "source": []
  }
 ],
 "metadata": {
  "kernelspec": {
   "display_name": "Python [conda env:tf_cpu] *",
   "language": "python",
   "name": "conda-env-tf_cpu-py"
  },
  "language_info": {
   "codemirror_mode": {
    "name": "ipython",
    "version": 3
   },
   "file_extension": ".py",
   "mimetype": "text/x-python",
   "name": "python",
   "nbconvert_exporter": "python",
   "pygments_lexer": "ipython3",
   "version": "3.8.16"
  }
 },
 "nbformat": 4,
 "nbformat_minor": 5
}
