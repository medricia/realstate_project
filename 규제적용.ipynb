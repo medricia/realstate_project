{
 "cells": [
  {
   "cell_type": "code",
   "execution_count": 1,
   "id": "30eefe1e",
   "metadata": {},
   "outputs": [],
   "source": [
    "from tensorflow import keras\n",
    "from tensorflow.keras.models import Sequential\n",
    "\n",
    "import keras\n",
    "from keras.models import Sequential\n",
    "from keras.layers import LSTM, Dense, Dropout, BatchNormalization\n",
    "\n",
    "import pandas as pd\n",
    "import numpy as np\n",
    "import matplotlib.pyplot as plt\n",
    "import seaborn as sns\n",
    "\n",
    "from sklearn.model_selection import train_test_split\n",
    "\n",
    "from sklearn.preprocessing import MinMaxScaler\n",
    "\n",
    "from tensorflow.keras.layers import LSTM, Dense\n",
    "\n",
    "from sklearn.metrics import mean_squared_error, r2_score,mean_absolute_error\n",
    "from sklearn.model_selection import cross_val_score"
   ]
  },
  {
   "cell_type": "code",
   "execution_count": 2,
   "id": "c924b156",
   "metadata": {},
   "outputs": [],
   "source": [
    "# 데이터 불러오기\n",
    "df = pd.read_csv('../data/df.csv')"
   ]
  },
  {
   "cell_type": "code",
   "execution_count": 3,
   "id": "dab06a7f",
   "metadata": {},
   "outputs": [
    {
     "data": {
      "text/html": [
       "<div>\n",
       "<style scoped>\n",
       "    .dataframe tbody tr th:only-of-type {\n",
       "        vertical-align: middle;\n",
       "    }\n",
       "\n",
       "    .dataframe tbody tr th {\n",
       "        vertical-align: top;\n",
       "    }\n",
       "\n",
       "    .dataframe thead th {\n",
       "        text-align: right;\n",
       "    }\n",
       "</style>\n",
       "<table border=\"1\" class=\"dataframe\">\n",
       "  <thead>\n",
       "    <tr style=\"text-align: right;\">\n",
       "      <th></th>\n",
       "      <th>동</th>\n",
       "      <th>단지명</th>\n",
       "      <th>전용면적</th>\n",
       "      <th>계약년월</th>\n",
       "      <th>층</th>\n",
       "      <th>건축년도</th>\n",
       "      <th>금리</th>\n",
       "      <th>부동산소비심리</th>\n",
       "      <th>보증금</th>\n",
       "    </tr>\n",
       "  </thead>\n",
       "  <tbody>\n",
       "    <tr>\n",
       "      <th>0</th>\n",
       "      <td>165</td>\n",
       "      <td>2059</td>\n",
       "      <td>79.97</td>\n",
       "      <td>201601</td>\n",
       "      <td>4</td>\n",
       "      <td>1987</td>\n",
       "      <td>1.5</td>\n",
       "      <td>117.6</td>\n",
       "      <td>44000</td>\n",
       "    </tr>\n",
       "    <tr>\n",
       "      <th>1</th>\n",
       "      <td>165</td>\n",
       "      <td>2059</td>\n",
       "      <td>79.97</td>\n",
       "      <td>201601</td>\n",
       "      <td>3</td>\n",
       "      <td>1987</td>\n",
       "      <td>1.5</td>\n",
       "      <td>117.6</td>\n",
       "      <td>42000</td>\n",
       "    </tr>\n",
       "    <tr>\n",
       "      <th>2</th>\n",
       "      <td>165</td>\n",
       "      <td>453</td>\n",
       "      <td>133.46</td>\n",
       "      <td>201601</td>\n",
       "      <td>8</td>\n",
       "      <td>1984</td>\n",
       "      <td>1.5</td>\n",
       "      <td>117.6</td>\n",
       "      <td>80000</td>\n",
       "    </tr>\n",
       "    <tr>\n",
       "      <th>3</th>\n",
       "      <td>165</td>\n",
       "      <td>453</td>\n",
       "      <td>104.43</td>\n",
       "      <td>201601</td>\n",
       "      <td>6</td>\n",
       "      <td>1984</td>\n",
       "      <td>1.5</td>\n",
       "      <td>117.6</td>\n",
       "      <td>52000</td>\n",
       "    </tr>\n",
       "    <tr>\n",
       "      <th>4</th>\n",
       "      <td>165</td>\n",
       "      <td>453</td>\n",
       "      <td>104.43</td>\n",
       "      <td>201601</td>\n",
       "      <td>3</td>\n",
       "      <td>1984</td>\n",
       "      <td>1.5</td>\n",
       "      <td>117.6</td>\n",
       "      <td>55000</td>\n",
       "    </tr>\n",
       "  </tbody>\n",
       "</table>\n",
       "</div>"
      ],
      "text/plain": [
       "     동   단지명    전용면적    계약년월  층  건축년도   금리  부동산소비심리    보증금\n",
       "0  165  2059   79.97  201601  4  1987  1.5    117.6  44000\n",
       "1  165  2059   79.97  201601  3  1987  1.5    117.6  42000\n",
       "2  165   453  133.46  201601  8  1984  1.5    117.6  80000\n",
       "3  165   453  104.43  201601  6  1984  1.5    117.6  52000\n",
       "4  165   453  104.43  201601  3  1984  1.5    117.6  55000"
      ]
     },
     "execution_count": 3,
     "metadata": {},
     "output_type": "execute_result"
    }
   ],
   "source": [
    "df.head()"
   ]
  },
  {
   "cell_type": "code",
   "execution_count": 4,
   "id": "9ad21175",
   "metadata": {},
   "outputs": [
    {
     "data": {
      "text/html": [
       "<div>\n",
       "<style scoped>\n",
       "    .dataframe tbody tr th:only-of-type {\n",
       "        vertical-align: middle;\n",
       "    }\n",
       "\n",
       "    .dataframe tbody tr th {\n",
       "        vertical-align: top;\n",
       "    }\n",
       "\n",
       "    .dataframe thead th {\n",
       "        text-align: right;\n",
       "    }\n",
       "</style>\n",
       "<table border=\"1\" class=\"dataframe\">\n",
       "  <thead>\n",
       "    <tr style=\"text-align: right;\">\n",
       "      <th></th>\n",
       "      <th>동</th>\n",
       "      <th>단지명</th>\n",
       "      <th>전용면적</th>\n",
       "      <th>계약년월</th>\n",
       "      <th>층</th>\n",
       "      <th>건축년도</th>\n",
       "      <th>금리</th>\n",
       "      <th>부동산소비심리</th>\n",
       "      <th>보증금</th>\n",
       "    </tr>\n",
       "  </thead>\n",
       "  <tbody>\n",
       "    <tr>\n",
       "      <th>count</th>\n",
       "      <td>320979.000000</td>\n",
       "      <td>320979.000000</td>\n",
       "      <td>320979.000000</td>\n",
       "      <td>320979.000000</td>\n",
       "      <td>320979.000000</td>\n",
       "      <td>320979.000000</td>\n",
       "      <td>320979.000000</td>\n",
       "      <td>320979.000000</td>\n",
       "      <td>320979.000000</td>\n",
       "    </tr>\n",
       "    <tr>\n",
       "      <th>mean</th>\n",
       "      <td>153.538200</td>\n",
       "      <td>2682.592419</td>\n",
       "      <td>76.076619</td>\n",
       "      <td>201711.545668</td>\n",
       "      <td>10.691213</td>\n",
       "      <td>1998.759458</td>\n",
       "      <td>1.388802</td>\n",
       "      <td>118.405118</td>\n",
       "      <td>39010.146888</td>\n",
       "    </tr>\n",
       "    <tr>\n",
       "      <th>std</th>\n",
       "      <td>88.406449</td>\n",
       "      <td>1679.933238</td>\n",
       "      <td>26.141417</td>\n",
       "      <td>82.104811</td>\n",
       "      <td>5.780531</td>\n",
       "      <td>10.723342</td>\n",
       "      <td>0.140256</td>\n",
       "      <td>8.987102</td>\n",
       "      <td>18613.787295</td>\n",
       "    </tr>\n",
       "    <tr>\n",
       "      <th>min</th>\n",
       "      <td>0.000000</td>\n",
       "      <td>0.000000</td>\n",
       "      <td>10.110000</td>\n",
       "      <td>201601.000000</td>\n",
       "      <td>0.000000</td>\n",
       "      <td>1961.000000</td>\n",
       "      <td>1.250000</td>\n",
       "      <td>93.900000</td>\n",
       "      <td>500.000000</td>\n",
       "    </tr>\n",
       "    <tr>\n",
       "      <th>25%</th>\n",
       "      <td>70.000000</td>\n",
       "      <td>1352.000000</td>\n",
       "      <td>59.680000</td>\n",
       "      <td>201610.000000</td>\n",
       "      <td>6.000000</td>\n",
       "      <td>1990.000000</td>\n",
       "      <td>1.250000</td>\n",
       "      <td>113.100000</td>\n",
       "      <td>26000.000000</td>\n",
       "    </tr>\n",
       "    <tr>\n",
       "      <th>50%</th>\n",
       "      <td>159.000000</td>\n",
       "      <td>2269.000000</td>\n",
       "      <td>80.920000</td>\n",
       "      <td>201707.000000</td>\n",
       "      <td>10.000000</td>\n",
       "      <td>1999.000000</td>\n",
       "      <td>1.500000</td>\n",
       "      <td>119.200000</td>\n",
       "      <td>37000.000000</td>\n",
       "    </tr>\n",
       "    <tr>\n",
       "      <th>75%</th>\n",
       "      <td>235.000000</td>\n",
       "      <td>3925.000000</td>\n",
       "      <td>84.960000</td>\n",
       "      <td>201804.000000</td>\n",
       "      <td>14.000000</td>\n",
       "      <td>2007.000000</td>\n",
       "      <td>1.500000</td>\n",
       "      <td>126.300000</td>\n",
       "      <td>50000.000000</td>\n",
       "    </tr>\n",
       "    <tr>\n",
       "      <th>max</th>\n",
       "      <td>331.000000</td>\n",
       "      <td>6632.000000</td>\n",
       "      <td>317.360000</td>\n",
       "      <td>201812.000000</td>\n",
       "      <td>68.000000</td>\n",
       "      <td>2018.000000</td>\n",
       "      <td>1.750000</td>\n",
       "      <td>134.100000</td>\n",
       "      <td>100000.000000</td>\n",
       "    </tr>\n",
       "  </tbody>\n",
       "</table>\n",
       "</div>"
      ],
      "text/plain": [
       "                   동            단지명           전용면적           계약년월  \\\n",
       "count  320979.000000  320979.000000  320979.000000  320979.000000   \n",
       "mean      153.538200    2682.592419      76.076619  201711.545668   \n",
       "std        88.406449    1679.933238      26.141417      82.104811   \n",
       "min         0.000000       0.000000      10.110000  201601.000000   \n",
       "25%        70.000000    1352.000000      59.680000  201610.000000   \n",
       "50%       159.000000    2269.000000      80.920000  201707.000000   \n",
       "75%       235.000000    3925.000000      84.960000  201804.000000   \n",
       "max       331.000000    6632.000000     317.360000  201812.000000   \n",
       "\n",
       "                   층           건축년도             금리        부동산소비심리  \\\n",
       "count  320979.000000  320979.000000  320979.000000  320979.000000   \n",
       "mean       10.691213    1998.759458       1.388802     118.405118   \n",
       "std         5.780531      10.723342       0.140256       8.987102   \n",
       "min         0.000000    1961.000000       1.250000      93.900000   \n",
       "25%         6.000000    1990.000000       1.250000     113.100000   \n",
       "50%        10.000000    1999.000000       1.500000     119.200000   \n",
       "75%        14.000000    2007.000000       1.500000     126.300000   \n",
       "max        68.000000    2018.000000       1.750000     134.100000   \n",
       "\n",
       "                 보증금  \n",
       "count  320979.000000  \n",
       "mean    39010.146888  \n",
       "std     18613.787295  \n",
       "min       500.000000  \n",
       "25%     26000.000000  \n",
       "50%     37000.000000  \n",
       "75%     50000.000000  \n",
       "max    100000.000000  "
      ]
     },
     "execution_count": 4,
     "metadata": {},
     "output_type": "execute_result"
    }
   ],
   "source": [
    "df.describe()"
   ]
  },
  {
   "cell_type": "code",
   "execution_count": 5,
   "id": "1823be48",
   "metadata": {},
   "outputs": [],
   "source": [
    "# 정규화하기\n",
    "# MinMaxScaler 클래스 생성\n",
    "scaler = MinMaxScaler()\n",
    "\n",
    "# MinMaxScaler 클래스의 fit_transform() 메서드 사용 데이터 정규화\n",
    "normalized_data = scaler.fit_transform(df)\n",
    "\n",
    "# 정규화된 데이터, 데이터 프레임으로 다시 변환\n",
    "normalized_df = pd.DataFrame(normalized_data, columns=df.columns)"
   ]
  },
  {
   "cell_type": "code",
   "execution_count": 6,
   "id": "cd021c3a",
   "metadata": {},
   "outputs": [
    {
     "data": {
      "text/html": [
       "<div>\n",
       "<style scoped>\n",
       "    .dataframe tbody tr th:only-of-type {\n",
       "        vertical-align: middle;\n",
       "    }\n",
       "\n",
       "    .dataframe tbody tr th {\n",
       "        vertical-align: top;\n",
       "    }\n",
       "\n",
       "    .dataframe thead th {\n",
       "        text-align: right;\n",
       "    }\n",
       "</style>\n",
       "<table border=\"1\" class=\"dataframe\">\n",
       "  <thead>\n",
       "    <tr style=\"text-align: right;\">\n",
       "      <th></th>\n",
       "      <th>동</th>\n",
       "      <th>단지명</th>\n",
       "      <th>전용면적</th>\n",
       "      <th>계약년월</th>\n",
       "      <th>층</th>\n",
       "      <th>건축년도</th>\n",
       "      <th>금리</th>\n",
       "      <th>부동산소비심리</th>\n",
       "      <th>보증금</th>\n",
       "    </tr>\n",
       "  </thead>\n",
       "  <tbody>\n",
       "    <tr>\n",
       "      <th>0</th>\n",
       "      <td>0.498489</td>\n",
       "      <td>0.310464</td>\n",
       "      <td>0.227372</td>\n",
       "      <td>0.0</td>\n",
       "      <td>0.058824</td>\n",
       "      <td>0.456140</td>\n",
       "      <td>0.5</td>\n",
       "      <td>0.589552</td>\n",
       "      <td>0.437186</td>\n",
       "    </tr>\n",
       "    <tr>\n",
       "      <th>1</th>\n",
       "      <td>0.498489</td>\n",
       "      <td>0.310464</td>\n",
       "      <td>0.227372</td>\n",
       "      <td>0.0</td>\n",
       "      <td>0.044118</td>\n",
       "      <td>0.456140</td>\n",
       "      <td>0.5</td>\n",
       "      <td>0.589552</td>\n",
       "      <td>0.417085</td>\n",
       "    </tr>\n",
       "    <tr>\n",
       "      <th>2</th>\n",
       "      <td>0.498489</td>\n",
       "      <td>0.068305</td>\n",
       "      <td>0.401465</td>\n",
       "      <td>0.0</td>\n",
       "      <td>0.117647</td>\n",
       "      <td>0.403509</td>\n",
       "      <td>0.5</td>\n",
       "      <td>0.589552</td>\n",
       "      <td>0.798995</td>\n",
       "    </tr>\n",
       "    <tr>\n",
       "      <th>3</th>\n",
       "      <td>0.498489</td>\n",
       "      <td>0.068305</td>\n",
       "      <td>0.306981</td>\n",
       "      <td>0.0</td>\n",
       "      <td>0.088235</td>\n",
       "      <td>0.403509</td>\n",
       "      <td>0.5</td>\n",
       "      <td>0.589552</td>\n",
       "      <td>0.517588</td>\n",
       "    </tr>\n",
       "    <tr>\n",
       "      <th>4</th>\n",
       "      <td>0.498489</td>\n",
       "      <td>0.068305</td>\n",
       "      <td>0.306981</td>\n",
       "      <td>0.0</td>\n",
       "      <td>0.044118</td>\n",
       "      <td>0.403509</td>\n",
       "      <td>0.5</td>\n",
       "      <td>0.589552</td>\n",
       "      <td>0.547739</td>\n",
       "    </tr>\n",
       "  </tbody>\n",
       "</table>\n",
       "</div>"
      ],
      "text/plain": [
       "          동       단지명      전용면적  계약년월         층      건축년도   금리   부동산소비심리  \\\n",
       "0  0.498489  0.310464  0.227372   0.0  0.058824  0.456140  0.5  0.589552   \n",
       "1  0.498489  0.310464  0.227372   0.0  0.044118  0.456140  0.5  0.589552   \n",
       "2  0.498489  0.068305  0.401465   0.0  0.117647  0.403509  0.5  0.589552   \n",
       "3  0.498489  0.068305  0.306981   0.0  0.088235  0.403509  0.5  0.589552   \n",
       "4  0.498489  0.068305  0.306981   0.0  0.044118  0.403509  0.5  0.589552   \n",
       "\n",
       "        보증금  \n",
       "0  0.437186  \n",
       "1  0.417085  \n",
       "2  0.798995  \n",
       "3  0.517588  \n",
       "4  0.547739  "
      ]
     },
     "execution_count": 6,
     "metadata": {},
     "output_type": "execute_result"
    }
   ],
   "source": [
    "normalized_df.head()"
   ]
  },
  {
   "cell_type": "code",
   "execution_count": 7,
   "id": "fee3268e",
   "metadata": {},
   "outputs": [],
   "source": [
    "ndf = normalized_df.copy()"
   ]
  },
  {
   "cell_type": "code",
   "execution_count": 8,
   "id": "25f84a8b",
   "metadata": {},
   "outputs": [],
   "source": [
    "# 데이터 나누기\n",
    "X = ndf.iloc[:, :-1]\n",
    "y = ndf.iloc[:,[-1]]\n",
    "\n",
    "X_train, X_test, y_train, y_test = train_test_split(X, y, test_size=0.2)"
   ]
  },
  {
   "cell_type": "code",
   "execution_count": 9,
   "id": "c0275764",
   "metadata": {},
   "outputs": [],
   "source": [
    "pd.DataFrame(X_test).to_csv('../data/X_test.csv', index=False)\n",
    "pd.DataFrame(y_test).to_csv('../data/y_test.csv', index=False)"
   ]
  },
  {
   "cell_type": "code",
   "execution_count": 10,
   "id": "e1cd80b0",
   "metadata": {},
   "outputs": [],
   "source": [
    "X_test = pd.read_csv('../data/X_test.csv')\n",
    "y_test = pd.read_csv('../data/y_test.csv')"
   ]
  },
  {
   "cell_type": "code",
   "execution_count": 11,
   "id": "388ca1aa",
   "metadata": {},
   "outputs": [
    {
     "data": {
      "text/html": [
       "<div>\n",
       "<style scoped>\n",
       "    .dataframe tbody tr th:only-of-type {\n",
       "        vertical-align: middle;\n",
       "    }\n",
       "\n",
       "    .dataframe tbody tr th {\n",
       "        vertical-align: top;\n",
       "    }\n",
       "\n",
       "    .dataframe thead th {\n",
       "        text-align: right;\n",
       "    }\n",
       "</style>\n",
       "<table border=\"1\" class=\"dataframe\">\n",
       "  <thead>\n",
       "    <tr style=\"text-align: right;\">\n",
       "      <th></th>\n",
       "      <th>동</th>\n",
       "      <th>단지명</th>\n",
       "      <th>전용면적</th>\n",
       "      <th>계약년월</th>\n",
       "      <th>층</th>\n",
       "      <th>건축년도</th>\n",
       "      <th>금리</th>\n",
       "      <th>부동산소비심리</th>\n",
       "    </tr>\n",
       "  </thead>\n",
       "  <tbody>\n",
       "    <tr>\n",
       "      <th>0</th>\n",
       "      <td>0.906344</td>\n",
       "      <td>0.838359</td>\n",
       "      <td>0.155899</td>\n",
       "      <td>0.971564</td>\n",
       "      <td>0.058824</td>\n",
       "      <td>0.456140</td>\n",
       "      <td>0.5</td>\n",
       "      <td>0.308458</td>\n",
       "    </tr>\n",
       "    <tr>\n",
       "      <th>1</th>\n",
       "      <td>0.864048</td>\n",
       "      <td>0.238540</td>\n",
       "      <td>0.242086</td>\n",
       "      <td>0.023697</td>\n",
       "      <td>0.132353</td>\n",
       "      <td>0.771930</td>\n",
       "      <td>0.5</td>\n",
       "      <td>0.813433</td>\n",
       "    </tr>\n",
       "    <tr>\n",
       "      <th>2</th>\n",
       "      <td>0.540785</td>\n",
       "      <td>0.174306</td>\n",
       "      <td>0.432937</td>\n",
       "      <td>1.000000</td>\n",
       "      <td>0.117647</td>\n",
       "      <td>0.912281</td>\n",
       "      <td>1.0</td>\n",
       "      <td>0.000000</td>\n",
       "    </tr>\n",
       "    <tr>\n",
       "      <th>3</th>\n",
       "      <td>0.163142</td>\n",
       "      <td>0.091526</td>\n",
       "      <td>0.161985</td>\n",
       "      <td>0.502370</td>\n",
       "      <td>0.220588</td>\n",
       "      <td>0.947368</td>\n",
       "      <td>0.0</td>\n",
       "      <td>1.000000</td>\n",
       "    </tr>\n",
       "    <tr>\n",
       "      <th>4</th>\n",
       "      <td>0.432024</td>\n",
       "      <td>0.302774</td>\n",
       "      <td>0.241725</td>\n",
       "      <td>0.962085</td>\n",
       "      <td>0.088235</td>\n",
       "      <td>0.596491</td>\n",
       "      <td>0.5</td>\n",
       "      <td>0.358209</td>\n",
       "    </tr>\n",
       "  </tbody>\n",
       "</table>\n",
       "</div>"
      ],
      "text/plain": [
       "          동       단지명      전용면적      계약년월         층      건축년도   금리   부동산소비심리\n",
       "0  0.906344  0.838359  0.155899  0.971564  0.058824  0.456140  0.5  0.308458\n",
       "1  0.864048  0.238540  0.242086  0.023697  0.132353  0.771930  0.5  0.813433\n",
       "2  0.540785  0.174306  0.432937  1.000000  0.117647  0.912281  1.0  0.000000\n",
       "3  0.163142  0.091526  0.161985  0.502370  0.220588  0.947368  0.0  1.000000\n",
       "4  0.432024  0.302774  0.241725  0.962085  0.088235  0.596491  0.5  0.358209"
      ]
     },
     "execution_count": 11,
     "metadata": {},
     "output_type": "execute_result"
    }
   ],
   "source": [
    "X_test.head()"
   ]
  },
  {
   "cell_type": "code",
   "execution_count": 12,
   "id": "7c05cccc",
   "metadata": {},
   "outputs": [
    {
     "data": {
      "text/html": [
       "<div>\n",
       "<style scoped>\n",
       "    .dataframe tbody tr th:only-of-type {\n",
       "        vertical-align: middle;\n",
       "    }\n",
       "\n",
       "    .dataframe tbody tr th {\n",
       "        vertical-align: top;\n",
       "    }\n",
       "\n",
       "    .dataframe thead th {\n",
       "        text-align: right;\n",
       "    }\n",
       "</style>\n",
       "<table border=\"1\" class=\"dataframe\">\n",
       "  <thead>\n",
       "    <tr style=\"text-align: right;\">\n",
       "      <th></th>\n",
       "      <th>보증금</th>\n",
       "    </tr>\n",
       "  </thead>\n",
       "  <tbody>\n",
       "    <tr>\n",
       "      <th>0</th>\n",
       "      <td>0.195980</td>\n",
       "    </tr>\n",
       "    <tr>\n",
       "      <th>1</th>\n",
       "      <td>0.326633</td>\n",
       "    </tr>\n",
       "    <tr>\n",
       "      <th>2</th>\n",
       "      <td>0.648241</td>\n",
       "    </tr>\n",
       "    <tr>\n",
       "      <th>3</th>\n",
       "      <td>0.547739</td>\n",
       "    </tr>\n",
       "    <tr>\n",
       "      <th>4</th>\n",
       "      <td>0.407035</td>\n",
       "    </tr>\n",
       "  </tbody>\n",
       "</table>\n",
       "</div>"
      ],
      "text/plain": [
       "        보증금\n",
       "0  0.195980\n",
       "1  0.326633\n",
       "2  0.648241\n",
       "3  0.547739\n",
       "4  0.407035"
      ]
     },
     "execution_count": 12,
     "metadata": {},
     "output_type": "execute_result"
    }
   ],
   "source": [
    "y_test.head()"
   ]
  },
  {
   "cell_type": "code",
   "execution_count": 13,
   "id": "0ec72dd8",
   "metadata": {},
   "outputs": [
    {
     "name": "stdout",
     "output_type": "stream",
     "text": [
      "(256783, 8)\n",
      "(256783, 1)\n"
     ]
    }
   ],
   "source": [
    "print(X_train.shape)\n",
    "print(y_train.shape)"
   ]
  },
  {
   "cell_type": "code",
   "execution_count": 14,
   "id": "60c01381",
   "metadata": {},
   "outputs": [
    {
     "name": "stdout",
     "output_type": "stream",
     "text": [
      "(64196, 8)\n",
      "(64196, 1)\n"
     ]
    }
   ],
   "source": [
    "print(X_test.shape)\n",
    "print(y_test.shape)"
   ]
  },
  {
   "cell_type": "code",
   "execution_count": 15,
   "id": "a1863b35",
   "metadata": {},
   "outputs": [
    {
     "name": "stdout",
     "output_type": "stream",
     "text": [
      "Model: \"sequential\"\n",
      "_________________________________________________________________\n",
      " Layer (type)                Output Shape              Param #   \n",
      "=================================================================\n",
      " lstm (LSTM)                 (None, 128)               66560     \n",
      "                                                                 \n",
      " dense (Dense)               (None, 1)                 129       \n",
      "                                                                 \n",
      "=================================================================\n",
      "Total params: 66,689\n",
      "Trainable params: 66,689\n",
      "Non-trainable params: 0\n",
      "_________________________________________________________________\n"
     ]
    }
   ],
   "source": [
    "model = Sequential()\n",
    "model.add(LSTM(128, input_shape=(ndf.shape[1] - 1, 1)))\n",
    "model.add(Dense(1))\n",
    "model.compile(optimizer=keras.optimizers.Adam(learning_rate=0.001), loss='mse')\n",
    "\n",
    "model.summary()"
   ]
  },
  {
   "cell_type": "code",
   "execution_count": 16,
   "id": "136ec2a2",
   "metadata": {},
   "outputs": [
    {
     "name": "stdout",
     "output_type": "stream",
     "text": [
      "Epoch 1/40\n",
      "8025/8025 [==============================] - 67s 8ms/step - loss: 0.0098\n",
      "Epoch 2/40\n",
      "8025/8025 [==============================] - 63s 8ms/step - loss: 0.0059\n",
      "Epoch 3/40\n",
      "8025/8025 [==============================] - 63s 8ms/step - loss: 0.0057\n",
      "Epoch 4/40\n",
      "8025/8025 [==============================] - 62s 8ms/step - loss: 0.0055\n",
      "Epoch 5/40\n",
      "8025/8025 [==============================] - 61s 8ms/step - loss: 0.0054\n",
      "Epoch 6/40\n",
      "8025/8025 [==============================] - 62s 8ms/step - loss: 0.0053\n",
      "Epoch 7/40\n",
      "8025/8025 [==============================] - 61s 8ms/step - loss: 0.0052\n",
      "Epoch 8/40\n",
      "8025/8025 [==============================] - 62s 8ms/step - loss: 0.0051\n",
      "Epoch 9/40\n",
      "8025/8025 [==============================] - 62s 8ms/step - loss: 0.0050\n",
      "Epoch 10/40\n",
      "8025/8025 [==============================] - 62s 8ms/step - loss: 0.0049\n",
      "Epoch 11/40\n",
      "8025/8025 [==============================] - 63s 8ms/step - loss: 0.0048\n",
      "Epoch 12/40\n",
      "8025/8025 [==============================] - 62s 8ms/step - loss: 0.0047\n",
      "Epoch 13/40\n",
      "8025/8025 [==============================] - 55s 7ms/step - loss: 0.0046\n",
      "Epoch 14/40\n",
      "8025/8025 [==============================] - 65s 8ms/step - loss: 0.0045\n",
      "Epoch 15/40\n",
      "8025/8025 [==============================] - 64s 8ms/step - loss: 0.0045\n",
      "Epoch 16/40\n",
      "8025/8025 [==============================] - 62s 8ms/step - loss: 0.0044\n",
      "Epoch 17/40\n",
      "8025/8025 [==============================] - 63s 8ms/step - loss: 0.0043\n",
      "Epoch 18/40\n",
      "8025/8025 [==============================] - 64s 8ms/step - loss: 0.0043\n",
      "Epoch 19/40\n",
      "8025/8025 [==============================] - 65s 8ms/step - loss: 0.0042\n",
      "Epoch 20/40\n",
      "8025/8025 [==============================] - 67s 8ms/step - loss: 0.0041\n",
      "Epoch 21/40\n",
      "8025/8025 [==============================] - 63s 8ms/step - loss: 0.0040\n",
      "Epoch 22/40\n",
      "8025/8025 [==============================] - 62s 8ms/step - loss: 0.0040\n",
      "Epoch 23/40\n",
      "8025/8025 [==============================] - 63s 8ms/step - loss: 0.0039\n",
      "Epoch 24/40\n",
      "8025/8025 [==============================] - 63s 8ms/step - loss: 0.0039\n",
      "Epoch 25/40\n",
      "8025/8025 [==============================] - 66s 8ms/step - loss: 0.0038\n",
      "Epoch 26/40\n",
      "8025/8025 [==============================] - 65s 8ms/step - loss: 0.0038\n",
      "Epoch 27/40\n",
      "8025/8025 [==============================] - 67s 8ms/step - loss: 0.0037\n",
      "Epoch 28/40\n",
      "8025/8025 [==============================] - 53s 7ms/step - loss: 0.0037\n",
      "Epoch 29/40\n",
      "8025/8025 [==============================] - 53s 7ms/step - loss: 0.0036\n",
      "Epoch 30/40\n",
      "8025/8025 [==============================] - 52s 7ms/step - loss: 0.0036\n",
      "Epoch 31/40\n",
      "8025/8025 [==============================] - 56s 7ms/step - loss: 0.0035\n",
      "Epoch 32/40\n",
      "8025/8025 [==============================] - 52s 7ms/step - loss: 0.0035\n",
      "Epoch 33/40\n",
      "8025/8025 [==============================] - 56s 7ms/step - loss: 0.0035\n",
      "Epoch 34/40\n",
      "8025/8025 [==============================] - 49s 6ms/step - loss: 0.0034\n",
      "Epoch 35/40\n",
      "8025/8025 [==============================] - 48s 6ms/step - loss: 0.0034\n",
      "Epoch 36/40\n",
      "8025/8025 [==============================] - 50s 6ms/step - loss: 0.0034\n",
      "Epoch 37/40\n",
      "8025/8025 [==============================] - 51s 6ms/step - loss: 0.0033\n",
      "Epoch 38/40\n",
      "8025/8025 [==============================] - 51s 6ms/step - loss: 0.0033\n",
      "Epoch 39/40\n",
      "8025/8025 [==============================] - 52s 7ms/step - loss: 0.0033\n",
      "Epoch 40/40\n",
      "8025/8025 [==============================] - 52s 6ms/step - loss: 0.0033\n"
     ]
    },
    {
     "data": {
      "text/plain": [
       "<keras.callbacks.History at 0x202a6ff9c10>"
      ]
     },
     "execution_count": 16,
     "metadata": {},
     "output_type": "execute_result"
    }
   ],
   "source": [
    "model.fit(X_train, y_train, epochs=40, batch_size=32, verbose=1)"
   ]
  },
  {
   "cell_type": "code",
   "execution_count": null,
   "id": "0281be1d",
   "metadata": {},
   "outputs": [],
   "source": [
    "pred = model.predict(X_test)\n",
    "print(y_test.shape, pred.shape)"
   ]
  },
  {
   "cell_type": "code",
   "execution_count": null,
   "id": "acb28a58",
   "metadata": {},
   "outputs": [],
   "source": [
    "# 실제값과 예측값을 계약년월별 평균값으로 계산\n",
    "predictions = np.array(pred)\n",
    "actual_values = np.array(y_test)"
   ]
  },
  {
   "cell_type": "code",
   "execution_count": null,
   "id": "f0d28b30",
   "metadata": {},
   "outputs": [],
   "source": [
    "contract_year_predictions = np.array([predictions[i:i + 12].mean() for i in range(0, len(predictions), 12)])\n",
    "contract_year_actual_values = np.array([actual_values[i:i + 12].mean() for i in range(0, len(actual_values), 12)])"
   ]
  },
  {
   "cell_type": "code",
   "execution_count": null,
   "id": "f8d17c52",
   "metadata": {},
   "outputs": [],
   "source": [
    "plt.plot(contract_year_predictions, label=\"Predictions\", linestyle='solid')\n",
    "plt.plot(contract_year_actual_values, label=\"Actual Values\")\n",
    "plt.xlabel(\"Contract Year\")\n",
    "plt.ylabel(\"Value\")\n",
    "plt.legend()\n",
    "plt.show()"
   ]
  },
  {
   "cell_type": "code",
   "execution_count": null,
   "id": "7737e417",
   "metadata": {},
   "outputs": [],
   "source": [
    "# RMSE를 계산(낮을 수록 정확함)\n",
    "rmse = mean_squared_error(y_test, predictions)\n",
    "print('rmse :',rmse)\n",
    "\n",
    "# R^2을 계산(R^2가 1에 가까울수록 모델이 데이터를 잘 설명)\n",
    "r2 = r2_score(y_test, predictions)\n",
    "print('r2 :',r2)\n",
    "\n",
    "# MAE를 계산(MAE가 낮을수록 예측값과 실제값이 가까워짐)\n",
    "mae = mean_absolute_error(y_test, predictions)\n",
    "print('mae :',mae)"
   ]
  },
  {
   "cell_type": "code",
   "execution_count": null,
   "id": "c14b6d56",
   "metadata": {},
   "outputs": [],
   "source": []
  },
  {
   "cell_type": "markdown",
   "id": "e836e5ff",
   "metadata": {},
   "source": [
    "# 과대적합 확인(모델 검증)"
   ]
  },
  {
   "cell_type": "code",
   "execution_count": 24,
   "id": "3558f1a8",
   "metadata": {},
   "outputs": [],
   "source": [
    "from sklearn.model_selection import KFold"
   ]
  },
  {
   "cell_type": "code",
   "execution_count": 23,
   "id": "ea8b4cdd",
   "metadata": {},
   "outputs": [
    {
     "ename": "SyntaxError",
     "evalue": "EOL while scanning string literal (2937764013.py, line 4)",
     "output_type": "error",
     "traceback": [
      "\u001b[1;36m  Cell \u001b[1;32mIn[23], line 4\u001b[1;36m\u001b[0m\n\u001b[1;33m    ''''\u001b[0m\n\u001b[1;37m        \n^\u001b[0m\n\u001b[1;31mSyntaxError\u001b[0m\u001b[1;31m:\u001b[0m EOL while scanning string literal\n"
     ]
    }
   ],
   "source": [
    "'''\n",
    "# 과적합되었는지 확인해보기\n",
    "X_tr, X_val, y_tr, y_val = train_test_split(X_train, y_train, test_size=0.2)\n",
    "''''"
   ]
  },
  {
   "cell_type": "code",
   "execution_count": null,
   "id": "75d6e96b",
   "metadata": {},
   "outputs": [],
   "source": [
    "'''\n",
    "model.fit(X_tr, y_tr, epochs=10, batch_size=32, verbose=1) \n",
    "'''"
   ]
  },
  {
   "cell_type": "code",
   "execution_count": null,
   "id": "745b6e8f",
   "metadata": {},
   "outputs": [],
   "source": [
    "'''\n",
    "y_pred = model.predict(X_val)\n",
    "print(np.mean(np.abs(y_pred - y_val)))\n",
    "'''"
   ]
  },
  {
   "cell_type": "code",
   "execution_count": 25,
   "id": "0aed26b7",
   "metadata": {},
   "outputs": [],
   "source": [
    "# K-Fold CV를 수행합니다.\n",
    "kfold = KFold(n_splits=5)\n",
    "cv_scores_mae = []\n",
    "cv_scores_r2 = []\n",
    "cv_scores_rmse = []\n",
    "cv_scores = []"
   ]
  },
  {
   "cell_type": "code",
   "execution_count": null,
   "id": "e8bff6ea",
   "metadata": {},
   "outputs": [],
   "source": [
    "for train_index, test_index in kfold.split(X_train):\n",
    "    X_train_cv, X_test_cv = X_train.iloc[train_index], X_train.iloc[test_index]\n",
    "    y_train_cv, y_test_cv = y_train.iloc[train_index], y_train.iloc[test_index]\n",
    "\n",
    "    # 모델을 학습시킵니다.\n",
    "    model.fit(X_train_cv, y_train_cv, epochs=10, batch_size=32, verbose=1)"
   ]
  },
  {
   "cell_type": "code",
   "execution_count": null,
   "id": "99782053",
   "metadata": {},
   "outputs": [],
   "source": [
    "    # 모델의 성능을 평가합니다.\n",
    "    y_pred = model.predict(X_test_cv)\n",
    "\n",
    "    mse = np.mean(np.square(y_pred - y_test_cv))\n",
    "    mae = np.mean(np.abs(y_pred - y_test_cv))\n",
    "    r2 = r2_score(y_test_cv, y_pred)\n",
    "    rmse = np.sqrt(mse)\n",
    "    \n",
    "    cv_scores_mae.append(mae)\n",
    "    cv_scores_r2.append(r2)\n",
    "    cv_scores_rmse.append(rmse)\n",
    "    \n",
    "    cv_scores.append([mae, r2, rmse])\n",
    "    \n",
    "   "
   ]
  },
  {
   "cell_type": "code",
   "execution_count": null,
   "id": "f9de9031",
   "metadata": {},
   "outputs": [],
   "source": [
    "# K-Fold CV의 결과를 출력합니다.\n",
    "cv_scores = list(cv_scores)\n",
    "print(cv_scores)"
   ]
  },
  {
   "cell_type": "code",
   "execution_count": null,
   "id": "fcf308ab",
   "metadata": {},
   "outputs": [],
   "source": []
  },
  {
   "cell_type": "code",
   "execution_count": null,
   "id": "7a933864",
   "metadata": {},
   "outputs": [],
   "source": []
  },
  {
   "cell_type": "code",
   "execution_count": null,
   "id": "24a6d983",
   "metadata": {},
   "outputs": [],
   "source": []
  },
  {
   "cell_type": "code",
   "execution_count": null,
   "id": "d4789f54",
   "metadata": {},
   "outputs": [],
   "source": []
  },
  {
   "cell_type": "code",
   "execution_count": null,
   "id": "2160b216",
   "metadata": {},
   "outputs": [],
   "source": [
    "# 계약년월을 기준으로 그룹핑을 합니다.\n",
    "df_mean = df.groupby('계약년월')['보증금'].mean()"
   ]
  },
  {
   "cell_type": "code",
   "execution_count": null,
   "id": "cd535172",
   "metadata": {},
   "outputs": [],
   "source": [
    "df_mean"
   ]
  },
  {
   "cell_type": "code",
   "execution_count": null,
   "id": "dba89fe3",
   "metadata": {},
   "outputs": [],
   "source": [
    "X_test['예측값'] = pred"
   ]
  },
  {
   "cell_type": "code",
   "execution_count": null,
   "id": "dc88c3da",
   "metadata": {},
   "outputs": [],
   "source": [
    "X_test.head()"
   ]
  },
  {
   "cell_type": "code",
   "execution_count": null,
   "id": "4c28b6a2",
   "metadata": {},
   "outputs": [],
   "source": [
    "pd.DataFrame(X_test).to_csv('../data/X_result.csv', index=False)"
   ]
  },
  {
   "cell_type": "code",
   "execution_count": null,
   "id": "a228a08c",
   "metadata": {},
   "outputs": [],
   "source": [
    "result = pd.read_csv('../data/X_result.csv')"
   ]
  },
  {
   "cell_type": "code",
   "execution_count": null,
   "id": "6e9c7d53",
   "metadata": {},
   "outputs": [],
   "source": [
    "result.head()"
   ]
  },
  {
   "cell_type": "code",
   "execution_count": null,
   "id": "dc4a52f9",
   "metadata": {},
   "outputs": [],
   "source": [
    "result = pd.concat([result, y_test], axis=1)"
   ]
  },
  {
   "cell_type": "code",
   "execution_count": null,
   "id": "3975d389",
   "metadata": {},
   "outputs": [],
   "source": [
    "result.head()"
   ]
  },
  {
   "cell_type": "code",
   "execution_count": null,
   "id": "791d763d",
   "metadata": {},
   "outputs": [],
   "source": [
    "result = result[['동', '단지명', '전용면적', '계약년월', '층', '건축년도', '금리', '부동산소비심리', '예측값', '보증금']]"
   ]
  },
  {
   "cell_type": "code",
   "execution_count": null,
   "id": "2c788ea3",
   "metadata": {},
   "outputs": [],
   "source": [
    "result.head()"
   ]
  },
  {
   "cell_type": "code",
   "execution_count": null,
   "id": "2c4fd55e",
   "metadata": {},
   "outputs": [],
   "source": [
    "result = result.groupby('계약년월').mean()\n",
    "result = result[['보증금', '예측값']]"
   ]
  },
  {
   "cell_type": "code",
   "execution_count": null,
   "id": "c6f43e57",
   "metadata": {},
   "outputs": [],
   "source": [
    "print(result)"
   ]
  },
  {
   "cell_type": "code",
   "execution_count": null,
   "id": "f4037cee",
   "metadata": {},
   "outputs": [],
   "source": [
    "plt.plot(result['보증금'], label='real')\n",
    "plt.plot(result['예측값'], linestyle='--', label='predict')\n",
    "plt.title('predict vs real')\n",
    "plt.xlabel('period')\n",
    "plt.ylabel('deposit')\n",
    "plt.legend()\n",
    "plt.show()"
   ]
  },
  {
   "cell_type": "code",
   "execution_count": null,
   "id": "97a76ebb",
   "metadata": {},
   "outputs": [],
   "source": [
    "# 본래값 확인해보기\n",
    "# 201601\n",
    "print('실제값 : ',0.362120 * (100000.0-500.0)+500)\n",
    "print('예측값 : ',0.362928 * (100000.0-500.0)+500)\n",
    "\n",
    "#201602\n",
    "print('실제값 : ',0.362120 * (100000.0-500.0)+500)\n",
    "print('예측값 : ',0.362928 * (100000.0-500.0)+500)\n",
    "\n",
    "# 201603\n",
    "print('실제값 : ',0.344907 * (100000.0-500.0)+500)\n",
    "print('예측값 : ',0.350313 * (100000.0-500.0)+500)"
   ]
  },
  {
   "cell_type": "code",
   "execution_count": null,
   "id": "83755184",
   "metadata": {},
   "outputs": [],
   "source": [
    "result = pd.DataFrame({\n",
    "  '계약년월': ['201601', '201602', '201603', '201604', '201605', '201606','201607', '201608', '201609','201610', '201611', '201612', \n",
    "                 '201701', '201702', '201703', '201704', '201705', '201706', '201707', '201708', '201709', '201710', '201711', '201712',\n",
    "                 '201801', '201802', '201803', '201804', '201805', '201806', '201807', '201808', '201809', '201810', '201811', '201812'],\n",
    "  '실제값': [0.362120 * (100000.0-500.0)+500, 0.362120 * (100000.0-500.0)+500, 0.344907 * (100000.0-500.0)+500,\n",
    "              0.346538 * (100000.0-500.0)+500, 0.348332 * (100000.0-500.0)+500, 0.359644 * (100000.0-500.0)+500,\n",
    "              0.359922 * (100000.0-500.0)+500, 0.349641 * (100000.0-500.0)+500, 0.375077 * (100000.0-500.0)+500,\n",
    "              0.385391 * (100000.0-500.0)+500, 0.392834 * (100000.0-500.0)+500, 0.407924 * (100000.0-500.0)+500,\n",
    "              0.388006 * (100000.0-500.0)+500, 0.381477 * (100000.0-500.0)+500, 0.362019 * (100000.0-500.0)+500,\n",
    "              0.385883 * (100000.0-500.0)+500, 0.380351 * (100000.0-500.0)+500, 0.381554 * (100000.0-500.0)+500,\n",
    "              0.382213 * (100000.0-500.0)+500, 0.376631 * (100000.0-500.0)+500, 0.389992 * (100000.0-500.0)+500,\n",
    "              0.390594 * (100000.0-500.0)+500, 0.408907 * (100000.0-500.0)+500, 0.415363 * (100000.0-500.0)+500,\n",
    "              0.404829 * (100000.0-500.0)+500, 0.404563 * (100000.0-500.0)+500, 0.389124 * (100000.0-500.0)+500,\n",
    "              0.390689 * (100000.0-500.0)+500, 0.398179 * (100000.0-500.0)+500, 0.403312 * (100000.0-500.0)+500,\n",
    "              0.395421 * (100000.0-500.0)+500, 0.396978 * (100000.0-500.0)+500, 0.403635 * (100000.0-500.0)+500,\n",
    "              0.417093 * (100000.0-500.0)+500, 0.424506 * (100000.0-500.0)+500, 0.433460 * (100000.0-500.0)+500 ],\n",
    "  '예측값': [0.362928 * (100000.0-500.0)+500, 0.362928 * (100000.0-500.0)+500, 0.350313 * (100000.0-500.0)+500,\n",
    "              0.350392 * (100000.0-500.0)+500, 0.350796 * (100000.0-500.0)+500, 0.359717 * (100000.0-500.0)+500,\n",
    "              0.359572 * (100000.0-500.0)+500, 0.354626 * (100000.0-500.0)+500, 0.369621 * (100000.0-500.0)+500,\n",
    "              0.377150 * (100000.0-500.0)+500, 0.386482 * (100000.0-500.0)+500, 0.405396 * (100000.0-500.0)+500,\n",
    "              0.389289 * (100000.0-500.0)+500, 0.385223 * (100000.0-500.0)+500, 0.371034 * (100000.0-500.0)+500,\n",
    "              0.388146 * (100000.0-500.0)+500, 0.378188 * (100000.0-500.0)+500, 0.378080 * (100000.0-500.0)+500,\n",
    "              0.375286 * (100000.0-500.0)+500, 0.373243 * (100000.0-500.0)+500, 0.377112 * (100000.0-500.0)+500,\n",
    "              0.380961 * (100000.0-500.0)+500, 0.397202 * (100000.0-500.0)+500, 0.405368 * (100000.0-500.0)+500,\n",
    "              0.403733 * (100000.0-500.0)+500, 0.404138 * (100000.0-500.0)+500, 0.388530 * (100000.0-500.0)+500,\n",
    "              0.390369 * (100000.0-500.0)+500, 0.403761 * (100000.0-500.0)+500, 0.403241 * (100000.0-500.0)+500,\n",
    "              0.396706 * (100000.0-500.0)+500, 0.395304 * (100000.0-500.0)+500, 0.394079 * (100000.0-500.0)+500,\n",
    "              0.406537 * (100000.0-500.0)+500, 0.413349 * (100000.0-500.0)+500, 0.422997 * (100000.0-500.0)+500 ]\n",
    "})"
   ]
  },
  {
   "cell_type": "code",
   "execution_count": null,
   "id": "27424195",
   "metadata": {},
   "outputs": [],
   "source": [
    "result"
   ]
  },
  {
   "cell_type": "code",
   "execution_count": null,
   "id": "15d137e7",
   "metadata": {},
   "outputs": [],
   "source": [
    "plt.plot(result['계약년월'], result['실제값'], label='real')\n",
    "plt.plot(result['계약년월'], result['예측값'], label='predict')\n",
    "\n",
    "plt.xlabel('period')\n",
    "plt.ylabel('real')\n",
    "plt.title('real vs predict')\n",
    "plt.legend()\n",
    "\n",
    "plt.show()"
   ]
  },
  {
   "cell_type": "code",
   "execution_count": null,
   "id": "0f3c152a",
   "metadata": {},
   "outputs": [],
   "source": []
  },
  {
   "cell_type": "code",
   "execution_count": null,
   "id": "482519a8",
   "metadata": {},
   "outputs": [],
   "source": []
  },
  {
   "cell_type": "code",
   "execution_count": null,
   "id": "98e6a3ed",
   "metadata": {},
   "outputs": [],
   "source": []
  },
  {
   "cell_type": "code",
   "execution_count": null,
   "id": "c567d857",
   "metadata": {},
   "outputs": [],
   "source": []
  },
  {
   "cell_type": "code",
   "execution_count": null,
   "id": "d1dc2c13",
   "metadata": {},
   "outputs": [],
   "source": []
  },
  {
   "cell_type": "code",
   "execution_count": null,
   "id": "2b3cde46",
   "metadata": {},
   "outputs": [],
   "source": []
  }
 ],
 "metadata": {
  "kernelspec": {
   "display_name": "Python [conda env:tf_cpu] *",
   "language": "python",
   "name": "conda-env-tf_cpu-py"
  },
  "language_info": {
   "codemirror_mode": {
    "name": "ipython",
    "version": 3
   },
   "file_extension": ".py",
   "mimetype": "text/x-python",
   "name": "python",
   "nbconvert_exporter": "python",
   "pygments_lexer": "ipython3",
   "version": "3.8.16"
  }
 },
 "nbformat": 4,
 "nbformat_minor": 5
}
