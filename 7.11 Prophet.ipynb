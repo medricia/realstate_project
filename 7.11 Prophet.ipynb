{
 "cells": [
  {
   "cell_type": "code",
   "execution_count": 1,
   "id": "f7e5ad83",
   "metadata": {},
   "outputs": [],
   "source": [
    "import pandas as pd\n",
    "import numpy as np\n",
    "import matplotlib.pyplot as plt\n",
    "import seaborn as sns\n",
    "from sklearn.preprocessing import  LabelEncoder\n",
    "from sklearn.preprocessing import StandardScaler\n",
    "from sklearn.preprocessing import MinMaxScaler\n",
    "from sklearn.decomposition import PCA\n",
    "from sklearn.metrics import mean_squared_error"
   ]
  },
  {
   "cell_type": "code",
   "execution_count": 2,
   "id": "8b81794d",
   "metadata": {},
   "outputs": [],
   "source": [
    "# 밑에 '''''' 는 확인해보시고 쓸지안쓸지? \n",
    "# 상관분석도 어떤걸로 쓸건지? \n",
    "# 기존 df로 선택해서 갈건지 아니면 차원축소한 버전으로 갈건지?"
   ]
  },
  {
   "cell_type": "code",
   "execution_count": null,
   "id": "016f3b7a",
   "metadata": {},
   "outputs": [],
   "source": []
  },
  {
   "cell_type": "markdown",
   "id": "e90bdf6c",
   "metadata": {},
   "source": [
    "# 데이터 불러오기"
   ]
  },
  {
   "cell_type": "code",
   "execution_count": 3,
   "id": "e7ce122d",
   "metadata": {},
   "outputs": [
    {
     "ename": "FileNotFoundError",
     "evalue": "[Errno 2] No such file or directory: 'data/apt161718.csv'",
     "output_type": "error",
     "traceback": [
      "\u001b[1;31m---------------------------------------------------------------------------\u001b[0m",
      "\u001b[1;31mFileNotFoundError\u001b[0m                         Traceback (most recent call last)",
      "Cell \u001b[1;32mIn[3], line 1\u001b[0m\n\u001b[1;32m----> 1\u001b[0m df \u001b[38;5;241m=\u001b[39m \u001b[43mpd\u001b[49m\u001b[38;5;241;43m.\u001b[39;49m\u001b[43mread_csv\u001b[49m\u001b[43m(\u001b[49m\u001b[38;5;124;43m'\u001b[39;49m\u001b[38;5;124;43mdata/apt161718.csv\u001b[39;49m\u001b[38;5;124;43m'\u001b[39;49m\u001b[43m,\u001b[49m\u001b[43m \u001b[49m\u001b[43mlow_memory\u001b[49m\u001b[38;5;241;43m=\u001b[39;49m\u001b[38;5;28;43;01mFalse\u001b[39;49;00m\u001b[43m,\u001b[49m\u001b[43m \u001b[49m\u001b[43mdtype\u001b[49m\u001b[38;5;241;43m=\u001b[39;49m\u001b[43m{\u001b[49m\u001b[38;5;124;43m'\u001b[39;49m\u001b[38;5;124;43mstatus\u001b[39;49m\u001b[38;5;124;43m'\u001b[39;49m\u001b[43m:\u001b[49m\u001b[43m \u001b[49m\u001b[38;5;124;43m'\u001b[39;49m\u001b[38;5;124;43mcategory\u001b[39;49m\u001b[38;5;124;43m'\u001b[39;49m\u001b[43m}\u001b[49m\u001b[43m)\u001b[49m\n",
      "File \u001b[1;32m~\\anaconda3\\envs\\tf_cpu\\lib\\site-packages\\pandas\\util\\_decorators.py:211\u001b[0m, in \u001b[0;36mdeprecate_kwarg.<locals>._deprecate_kwarg.<locals>.wrapper\u001b[1;34m(*args, **kwargs)\u001b[0m\n\u001b[0;32m    209\u001b[0m     \u001b[38;5;28;01melse\u001b[39;00m:\n\u001b[0;32m    210\u001b[0m         kwargs[new_arg_name] \u001b[38;5;241m=\u001b[39m new_arg_value\n\u001b[1;32m--> 211\u001b[0m \u001b[38;5;28;01mreturn\u001b[39;00m \u001b[43mfunc\u001b[49m\u001b[43m(\u001b[49m\u001b[38;5;241;43m*\u001b[39;49m\u001b[43margs\u001b[49m\u001b[43m,\u001b[49m\u001b[43m \u001b[49m\u001b[38;5;241;43m*\u001b[39;49m\u001b[38;5;241;43m*\u001b[39;49m\u001b[43mkwargs\u001b[49m\u001b[43m)\u001b[49m\n",
      "File \u001b[1;32m~\\anaconda3\\envs\\tf_cpu\\lib\\site-packages\\pandas\\util\\_decorators.py:331\u001b[0m, in \u001b[0;36mdeprecate_nonkeyword_arguments.<locals>.decorate.<locals>.wrapper\u001b[1;34m(*args, **kwargs)\u001b[0m\n\u001b[0;32m    325\u001b[0m \u001b[38;5;28;01mif\u001b[39;00m \u001b[38;5;28mlen\u001b[39m(args) \u001b[38;5;241m>\u001b[39m num_allow_args:\n\u001b[0;32m    326\u001b[0m     warnings\u001b[38;5;241m.\u001b[39mwarn(\n\u001b[0;32m    327\u001b[0m         msg\u001b[38;5;241m.\u001b[39mformat(arguments\u001b[38;5;241m=\u001b[39m_format_argument_list(allow_args)),\n\u001b[0;32m    328\u001b[0m         \u001b[38;5;167;01mFutureWarning\u001b[39;00m,\n\u001b[0;32m    329\u001b[0m         stacklevel\u001b[38;5;241m=\u001b[39mfind_stack_level(),\n\u001b[0;32m    330\u001b[0m     )\n\u001b[1;32m--> 331\u001b[0m \u001b[38;5;28;01mreturn\u001b[39;00m \u001b[43mfunc\u001b[49m\u001b[43m(\u001b[49m\u001b[38;5;241;43m*\u001b[39;49m\u001b[43margs\u001b[49m\u001b[43m,\u001b[49m\u001b[43m \u001b[49m\u001b[38;5;241;43m*\u001b[39;49m\u001b[38;5;241;43m*\u001b[39;49m\u001b[43mkwargs\u001b[49m\u001b[43m)\u001b[49m\n",
      "File \u001b[1;32m~\\anaconda3\\envs\\tf_cpu\\lib\\site-packages\\pandas\\io\\parsers\\readers.py:950\u001b[0m, in \u001b[0;36mread_csv\u001b[1;34m(filepath_or_buffer, sep, delimiter, header, names, index_col, usecols, squeeze, prefix, mangle_dupe_cols, dtype, engine, converters, true_values, false_values, skipinitialspace, skiprows, skipfooter, nrows, na_values, keep_default_na, na_filter, verbose, skip_blank_lines, parse_dates, infer_datetime_format, keep_date_col, date_parser, dayfirst, cache_dates, iterator, chunksize, compression, thousands, decimal, lineterminator, quotechar, quoting, doublequote, escapechar, comment, encoding, encoding_errors, dialect, error_bad_lines, warn_bad_lines, on_bad_lines, delim_whitespace, low_memory, memory_map, float_precision, storage_options)\u001b[0m\n\u001b[0;32m    935\u001b[0m kwds_defaults \u001b[38;5;241m=\u001b[39m _refine_defaults_read(\n\u001b[0;32m    936\u001b[0m     dialect,\n\u001b[0;32m    937\u001b[0m     delimiter,\n\u001b[1;32m   (...)\u001b[0m\n\u001b[0;32m    946\u001b[0m     defaults\u001b[38;5;241m=\u001b[39m{\u001b[38;5;124m\"\u001b[39m\u001b[38;5;124mdelimiter\u001b[39m\u001b[38;5;124m\"\u001b[39m: \u001b[38;5;124m\"\u001b[39m\u001b[38;5;124m,\u001b[39m\u001b[38;5;124m\"\u001b[39m},\n\u001b[0;32m    947\u001b[0m )\n\u001b[0;32m    948\u001b[0m kwds\u001b[38;5;241m.\u001b[39mupdate(kwds_defaults)\n\u001b[1;32m--> 950\u001b[0m \u001b[38;5;28;01mreturn\u001b[39;00m \u001b[43m_read\u001b[49m\u001b[43m(\u001b[49m\u001b[43mfilepath_or_buffer\u001b[49m\u001b[43m,\u001b[49m\u001b[43m \u001b[49m\u001b[43mkwds\u001b[49m\u001b[43m)\u001b[49m\n",
      "File \u001b[1;32m~\\anaconda3\\envs\\tf_cpu\\lib\\site-packages\\pandas\\io\\parsers\\readers.py:605\u001b[0m, in \u001b[0;36m_read\u001b[1;34m(filepath_or_buffer, kwds)\u001b[0m\n\u001b[0;32m    602\u001b[0m _validate_names(kwds\u001b[38;5;241m.\u001b[39mget(\u001b[38;5;124m\"\u001b[39m\u001b[38;5;124mnames\u001b[39m\u001b[38;5;124m\"\u001b[39m, \u001b[38;5;28;01mNone\u001b[39;00m))\n\u001b[0;32m    604\u001b[0m \u001b[38;5;66;03m# Create the parser.\u001b[39;00m\n\u001b[1;32m--> 605\u001b[0m parser \u001b[38;5;241m=\u001b[39m \u001b[43mTextFileReader\u001b[49m\u001b[43m(\u001b[49m\u001b[43mfilepath_or_buffer\u001b[49m\u001b[43m,\u001b[49m\u001b[43m \u001b[49m\u001b[38;5;241;43m*\u001b[39;49m\u001b[38;5;241;43m*\u001b[39;49m\u001b[43mkwds\u001b[49m\u001b[43m)\u001b[49m\n\u001b[0;32m    607\u001b[0m \u001b[38;5;28;01mif\u001b[39;00m chunksize \u001b[38;5;129;01mor\u001b[39;00m iterator:\n\u001b[0;32m    608\u001b[0m     \u001b[38;5;28;01mreturn\u001b[39;00m parser\n",
      "File \u001b[1;32m~\\anaconda3\\envs\\tf_cpu\\lib\\site-packages\\pandas\\io\\parsers\\readers.py:1442\u001b[0m, in \u001b[0;36mTextFileReader.__init__\u001b[1;34m(self, f, engine, **kwds)\u001b[0m\n\u001b[0;32m   1439\u001b[0m     \u001b[38;5;28mself\u001b[39m\u001b[38;5;241m.\u001b[39moptions[\u001b[38;5;124m\"\u001b[39m\u001b[38;5;124mhas_index_names\u001b[39m\u001b[38;5;124m\"\u001b[39m] \u001b[38;5;241m=\u001b[39m kwds[\u001b[38;5;124m\"\u001b[39m\u001b[38;5;124mhas_index_names\u001b[39m\u001b[38;5;124m\"\u001b[39m]\n\u001b[0;32m   1441\u001b[0m \u001b[38;5;28mself\u001b[39m\u001b[38;5;241m.\u001b[39mhandles: IOHandles \u001b[38;5;241m|\u001b[39m \u001b[38;5;28;01mNone\u001b[39;00m \u001b[38;5;241m=\u001b[39m \u001b[38;5;28;01mNone\u001b[39;00m\n\u001b[1;32m-> 1442\u001b[0m \u001b[38;5;28mself\u001b[39m\u001b[38;5;241m.\u001b[39m_engine \u001b[38;5;241m=\u001b[39m \u001b[38;5;28;43mself\u001b[39;49m\u001b[38;5;241;43m.\u001b[39;49m\u001b[43m_make_engine\u001b[49m\u001b[43m(\u001b[49m\u001b[43mf\u001b[49m\u001b[43m,\u001b[49m\u001b[43m \u001b[49m\u001b[38;5;28;43mself\u001b[39;49m\u001b[38;5;241;43m.\u001b[39;49m\u001b[43mengine\u001b[49m\u001b[43m)\u001b[49m\n",
      "File \u001b[1;32m~\\anaconda3\\envs\\tf_cpu\\lib\\site-packages\\pandas\\io\\parsers\\readers.py:1735\u001b[0m, in \u001b[0;36mTextFileReader._make_engine\u001b[1;34m(self, f, engine)\u001b[0m\n\u001b[0;32m   1733\u001b[0m     \u001b[38;5;28;01mif\u001b[39;00m \u001b[38;5;124m\"\u001b[39m\u001b[38;5;124mb\u001b[39m\u001b[38;5;124m\"\u001b[39m \u001b[38;5;129;01mnot\u001b[39;00m \u001b[38;5;129;01min\u001b[39;00m mode:\n\u001b[0;32m   1734\u001b[0m         mode \u001b[38;5;241m+\u001b[39m\u001b[38;5;241m=\u001b[39m \u001b[38;5;124m\"\u001b[39m\u001b[38;5;124mb\u001b[39m\u001b[38;5;124m\"\u001b[39m\n\u001b[1;32m-> 1735\u001b[0m \u001b[38;5;28mself\u001b[39m\u001b[38;5;241m.\u001b[39mhandles \u001b[38;5;241m=\u001b[39m \u001b[43mget_handle\u001b[49m\u001b[43m(\u001b[49m\n\u001b[0;32m   1736\u001b[0m \u001b[43m    \u001b[49m\u001b[43mf\u001b[49m\u001b[43m,\u001b[49m\n\u001b[0;32m   1737\u001b[0m \u001b[43m    \u001b[49m\u001b[43mmode\u001b[49m\u001b[43m,\u001b[49m\n\u001b[0;32m   1738\u001b[0m \u001b[43m    \u001b[49m\u001b[43mencoding\u001b[49m\u001b[38;5;241;43m=\u001b[39;49m\u001b[38;5;28;43mself\u001b[39;49m\u001b[38;5;241;43m.\u001b[39;49m\u001b[43moptions\u001b[49m\u001b[38;5;241;43m.\u001b[39;49m\u001b[43mget\u001b[49m\u001b[43m(\u001b[49m\u001b[38;5;124;43m\"\u001b[39;49m\u001b[38;5;124;43mencoding\u001b[39;49m\u001b[38;5;124;43m\"\u001b[39;49m\u001b[43m,\u001b[49m\u001b[43m \u001b[49m\u001b[38;5;28;43;01mNone\u001b[39;49;00m\u001b[43m)\u001b[49m\u001b[43m,\u001b[49m\n\u001b[0;32m   1739\u001b[0m \u001b[43m    \u001b[49m\u001b[43mcompression\u001b[49m\u001b[38;5;241;43m=\u001b[39;49m\u001b[38;5;28;43mself\u001b[39;49m\u001b[38;5;241;43m.\u001b[39;49m\u001b[43moptions\u001b[49m\u001b[38;5;241;43m.\u001b[39;49m\u001b[43mget\u001b[49m\u001b[43m(\u001b[49m\u001b[38;5;124;43m\"\u001b[39;49m\u001b[38;5;124;43mcompression\u001b[39;49m\u001b[38;5;124;43m\"\u001b[39;49m\u001b[43m,\u001b[49m\u001b[43m \u001b[49m\u001b[38;5;28;43;01mNone\u001b[39;49;00m\u001b[43m)\u001b[49m\u001b[43m,\u001b[49m\n\u001b[0;32m   1740\u001b[0m \u001b[43m    \u001b[49m\u001b[43mmemory_map\u001b[49m\u001b[38;5;241;43m=\u001b[39;49m\u001b[38;5;28;43mself\u001b[39;49m\u001b[38;5;241;43m.\u001b[39;49m\u001b[43moptions\u001b[49m\u001b[38;5;241;43m.\u001b[39;49m\u001b[43mget\u001b[49m\u001b[43m(\u001b[49m\u001b[38;5;124;43m\"\u001b[39;49m\u001b[38;5;124;43mmemory_map\u001b[39;49m\u001b[38;5;124;43m\"\u001b[39;49m\u001b[43m,\u001b[49m\u001b[43m \u001b[49m\u001b[38;5;28;43;01mFalse\u001b[39;49;00m\u001b[43m)\u001b[49m\u001b[43m,\u001b[49m\n\u001b[0;32m   1741\u001b[0m \u001b[43m    \u001b[49m\u001b[43mis_text\u001b[49m\u001b[38;5;241;43m=\u001b[39;49m\u001b[43mis_text\u001b[49m\u001b[43m,\u001b[49m\n\u001b[0;32m   1742\u001b[0m \u001b[43m    \u001b[49m\u001b[43merrors\u001b[49m\u001b[38;5;241;43m=\u001b[39;49m\u001b[38;5;28;43mself\u001b[39;49m\u001b[38;5;241;43m.\u001b[39;49m\u001b[43moptions\u001b[49m\u001b[38;5;241;43m.\u001b[39;49m\u001b[43mget\u001b[49m\u001b[43m(\u001b[49m\u001b[38;5;124;43m\"\u001b[39;49m\u001b[38;5;124;43mencoding_errors\u001b[39;49m\u001b[38;5;124;43m\"\u001b[39;49m\u001b[43m,\u001b[49m\u001b[43m \u001b[49m\u001b[38;5;124;43m\"\u001b[39;49m\u001b[38;5;124;43mstrict\u001b[39;49m\u001b[38;5;124;43m\"\u001b[39;49m\u001b[43m)\u001b[49m\u001b[43m,\u001b[49m\n\u001b[0;32m   1743\u001b[0m \u001b[43m    \u001b[49m\u001b[43mstorage_options\u001b[49m\u001b[38;5;241;43m=\u001b[39;49m\u001b[38;5;28;43mself\u001b[39;49m\u001b[38;5;241;43m.\u001b[39;49m\u001b[43moptions\u001b[49m\u001b[38;5;241;43m.\u001b[39;49m\u001b[43mget\u001b[49m\u001b[43m(\u001b[49m\u001b[38;5;124;43m\"\u001b[39;49m\u001b[38;5;124;43mstorage_options\u001b[39;49m\u001b[38;5;124;43m\"\u001b[39;49m\u001b[43m,\u001b[49m\u001b[43m \u001b[49m\u001b[38;5;28;43;01mNone\u001b[39;49;00m\u001b[43m)\u001b[49m\u001b[43m,\u001b[49m\n\u001b[0;32m   1744\u001b[0m \u001b[43m\u001b[49m\u001b[43m)\u001b[49m\n\u001b[0;32m   1745\u001b[0m \u001b[38;5;28;01massert\u001b[39;00m \u001b[38;5;28mself\u001b[39m\u001b[38;5;241m.\u001b[39mhandles \u001b[38;5;129;01mis\u001b[39;00m \u001b[38;5;129;01mnot\u001b[39;00m \u001b[38;5;28;01mNone\u001b[39;00m\n\u001b[0;32m   1746\u001b[0m f \u001b[38;5;241m=\u001b[39m \u001b[38;5;28mself\u001b[39m\u001b[38;5;241m.\u001b[39mhandles\u001b[38;5;241m.\u001b[39mhandle\n",
      "File \u001b[1;32m~\\anaconda3\\envs\\tf_cpu\\lib\\site-packages\\pandas\\io\\common.py:856\u001b[0m, in \u001b[0;36mget_handle\u001b[1;34m(path_or_buf, mode, encoding, compression, memory_map, is_text, errors, storage_options)\u001b[0m\n\u001b[0;32m    851\u001b[0m \u001b[38;5;28;01melif\u001b[39;00m \u001b[38;5;28misinstance\u001b[39m(handle, \u001b[38;5;28mstr\u001b[39m):\n\u001b[0;32m    852\u001b[0m     \u001b[38;5;66;03m# Check whether the filename is to be opened in binary mode.\u001b[39;00m\n\u001b[0;32m    853\u001b[0m     \u001b[38;5;66;03m# Binary mode does not support 'encoding' and 'newline'.\u001b[39;00m\n\u001b[0;32m    854\u001b[0m     \u001b[38;5;28;01mif\u001b[39;00m ioargs\u001b[38;5;241m.\u001b[39mencoding \u001b[38;5;129;01mand\u001b[39;00m \u001b[38;5;124m\"\u001b[39m\u001b[38;5;124mb\u001b[39m\u001b[38;5;124m\"\u001b[39m \u001b[38;5;129;01mnot\u001b[39;00m \u001b[38;5;129;01min\u001b[39;00m ioargs\u001b[38;5;241m.\u001b[39mmode:\n\u001b[0;32m    855\u001b[0m         \u001b[38;5;66;03m# Encoding\u001b[39;00m\n\u001b[1;32m--> 856\u001b[0m         handle \u001b[38;5;241m=\u001b[39m \u001b[38;5;28;43mopen\u001b[39;49m\u001b[43m(\u001b[49m\n\u001b[0;32m    857\u001b[0m \u001b[43m            \u001b[49m\u001b[43mhandle\u001b[49m\u001b[43m,\u001b[49m\n\u001b[0;32m    858\u001b[0m \u001b[43m            \u001b[49m\u001b[43mioargs\u001b[49m\u001b[38;5;241;43m.\u001b[39;49m\u001b[43mmode\u001b[49m\u001b[43m,\u001b[49m\n\u001b[0;32m    859\u001b[0m \u001b[43m            \u001b[49m\u001b[43mencoding\u001b[49m\u001b[38;5;241;43m=\u001b[39;49m\u001b[43mioargs\u001b[49m\u001b[38;5;241;43m.\u001b[39;49m\u001b[43mencoding\u001b[49m\u001b[43m,\u001b[49m\n\u001b[0;32m    860\u001b[0m \u001b[43m            \u001b[49m\u001b[43merrors\u001b[49m\u001b[38;5;241;43m=\u001b[39;49m\u001b[43merrors\u001b[49m\u001b[43m,\u001b[49m\n\u001b[0;32m    861\u001b[0m \u001b[43m            \u001b[49m\u001b[43mnewline\u001b[49m\u001b[38;5;241;43m=\u001b[39;49m\u001b[38;5;124;43m\"\u001b[39;49m\u001b[38;5;124;43m\"\u001b[39;49m\u001b[43m,\u001b[49m\n\u001b[0;32m    862\u001b[0m \u001b[43m        \u001b[49m\u001b[43m)\u001b[49m\n\u001b[0;32m    863\u001b[0m     \u001b[38;5;28;01melse\u001b[39;00m:\n\u001b[0;32m    864\u001b[0m         \u001b[38;5;66;03m# Binary mode\u001b[39;00m\n\u001b[0;32m    865\u001b[0m         handle \u001b[38;5;241m=\u001b[39m \u001b[38;5;28mopen\u001b[39m(handle, ioargs\u001b[38;5;241m.\u001b[39mmode)\n",
      "\u001b[1;31mFileNotFoundError\u001b[0m: [Errno 2] No such file or directory: 'data/apt161718.csv'"
     ]
    }
   ],
   "source": [
    "df = pd.read_csv('data/apt161718.csv', low_memory=False, dtype={'status': 'category'})"
   ]
  },
  {
   "cell_type": "markdown",
   "id": "65d06296",
   "metadata": {},
   "source": [
    "# 데이터 EDA 및 전처리 1"
   ]
  },
  {
   "cell_type": "markdown",
   "id": "ce0f4c43",
   "metadata": {},
   "source": [
    "# 분석에 맞는 데이터 필터링 & 컬럼 정리"
   ]
  },
  {
   "cell_type": "code",
   "execution_count": null,
   "id": "91ccc845",
   "metadata": {},
   "outputs": [],
   "source": [
    "df.head()\n",
    "# 문자, 숫자 섞여 있는 데이터"
   ]
  },
  {
   "cell_type": "code",
   "execution_count": null,
   "id": "f14a4962",
   "metadata": {},
   "outputs": [],
   "source": [
    "df.shape\n",
    "# 4,822,002 개의 레코드 데이터, 21개 컬럼"
   ]
  },
  {
   "cell_type": "code",
   "execution_count": null,
   "id": "a2ee62a4",
   "metadata": {},
   "outputs": [],
   "source": [
    "# 컬럼 : 시군구, 번지, 본번, 부번, 단지명, 전월세구분, 전용면적(㎡), 계약년월, 계약일, 보증금(만원), 월세(만원), 층, 건축년도, 도로명, 계약기간, 계약구분,\n",
    "#         갱신요구권 사용, 종전계약 보증금 (만원), 종전계약 월세 (만원), 금리, 부동산소비심리\n",
    "\n",
    "\n",
    "# 컬럼 중 시군구, 번지, 본번, 부번, 도로명은 서로 성격이 겹치는 컬럼이기에 하나로 대표할 수 있는 시군구 컬럼만 남김\n",
    "# 컬럼 중 계약년월, 계약일 중 계약일 컬럼만 남김\n",
    "# 알아내고자 하는 것이 보증금이기 때문에 계약기간(유효한 값이 거의 없기에 그냥 삭제하기로함), 계약구분, 개신요구권사용, 종전계약보증금(만원), 종전계약 월세(만원)은 삭제하여 활용하기로 함 \n",
    "# 이중에서도 전세에 관한 것을 알기 위해 전월세구분에서 전세로 필터링해 활용함\n",
    "\n",
    "\n",
    "# 단어 의미 확인하기\n",
    "# 시군구 : 행정 구역인 시와 군, 구를 아울러 이르는 말\n",
    "# 단지명 : 주택, 공장, 작물 재배지 따위가 집단을 이루고 있는 일정 구역의 이름\n",
    "# 전세 : 부동산의 소유주에게 일정한 돈을 맡기고 집이나 방을 빌려 쓰다가, 내놓을 때 그 돈의 전액을 돌려받는 제도 \n",
    "# 전용면적 : 아파트 따위의 공동 주택에서, 출입구나 엘리베이터, 계단 등의 공유 면적을 제외한 바닥 넓이\n",
    "# 계약년월 : 계약을 진행한 연도와 월\n",
    "# 보증금 : 입찰 또는 계약을 맺을 때 계약 이행의 담보로 내는 금전\n",
    "# 층 : 건물의 층 \n",
    "# 건축년도 : 건물 완공 년\n",
    "# 금리 : 금융 기관에서 빌려준 돈이나 예금 따위에 대한 이율\n",
    "# 부동산소비심리 : 부동산에서 반응하는 소비자들의 심리 수준, 형태 변화 및 인지 수준을 파악한 뒤 지수화한 값"
   ]
  },
  {
   "cell_type": "code",
   "execution_count": null,
   "id": "00099e91",
   "metadata": {},
   "outputs": [],
   "source": [
    "#우리가 알고자 하는 주제는 전세이기 때문에 필터링 진행\n",
    "df = df[df['전월세구분'] == '전세']\n",
    "\n",
    "\n",
    "# 서울시 동별 보증금이 다를 것이라는 가설을 전제로 '동' 컬럼 추가\n",
    "df['동'] = df['시군구'].str.replace('서울특별시', '')\n",
    "df = df[df['전월세구분'] == '전세']\n",
    "remove_gu = ['서울특별시 ', '강남구 ', '강동구 ', '강북구 ', '강서구 ', '관악구 ', '광진구 ','구로구 ', '금천구 ', '노원구 ', '도봉구 ', '동대문구 ', '동작구 ', '마포구 ', '서대문구 ', '서초구 ', '성동구 ', '성북구 ','송파구 ' , '양천구 ', '영등포구 ', '용산구 ', '은평구 ', '종로구 ', '중구 ', '중랑구 ']\n",
    "df['동'] = df['시군구'].str.replace('|'.join(remove_gu), '', regex=True)\n",
    "\n",
    "\n",
    "#데이터 보기 편하게 재배열\n",
    "df = df[['시군구', '동', '단지명','전월세구분','전용면적(㎡)','계약년월','층', '건축년도', '금리','부동산소비심리', '보증금(만원)']]\n",
    "\n",
    "\n",
    "# 보증금(만원) 컬럼이 문자로 저장되어 있어 숫자로 변환\n",
    "df['보증금(만원)'] = df['보증금(만원)'].str.replace(\",\", \"\").astype(int)\n",
    "\n",
    "\n",
    "# 전용면적(㎡), 보증금(만원) 컬럼명에서 ()가 들어가 삭제함\n",
    "df.rename(columns={'전용면적(㎡)': '전용면적'}, inplace=True)\n",
    "df.rename(columns={'보증금(만원)': '보증금'}, inplace=True)\n",
    "\n"
   ]
  },
  {
   "cell_type": "markdown",
   "id": "a0b4a275",
   "metadata": {},
   "source": [
    "# 각 컬럼에 대한 특징 파악하기"
   ]
  },
  {
   "cell_type": "code",
   "execution_count": null,
   "id": "08e49ae9",
   "metadata": {},
   "outputs": [],
   "source": [
    "# 1) 피처(Feature) 확인\n",
    "df.columns"
   ]
  },
  {
   "cell_type": "code",
   "execution_count": null,
   "id": "8c2e9347",
   "metadata": {},
   "outputs": [],
   "source": [
    "# 2) 데이터 프레임 정보 확인\n",
    "df.info()"
   ]
  },
  {
   "cell_type": "code",
   "execution_count": null,
   "id": "d83e2d1f",
   "metadata": {},
   "outputs": [],
   "source": [
    "# 3) 데이터 프레임 통계값 (전체)\n",
    "df.describe()"
   ]
  },
  {
   "cell_type": "code",
   "execution_count": null,
   "id": "ce006b69",
   "metadata": {},
   "outputs": [],
   "source": [
    "# 동 : 서울의 동을 나누었을 때 332개로 나누었으며(충무로1가, 장충동2가 등 포함) 가장 많은 거래(12,727건)가 상계동에서 있었다는 것을 알 수 있음\n",
    "df.동.describe()"
   ]
  },
  {
   "cell_type": "code",
   "execution_count": null,
   "id": "11ad87d0",
   "metadata": {},
   "outputs": [],
   "source": [
    "# 단지명 : 6735의 서로 다른 아파트들이 있다는 것을 알 수 있음 -> 아파트명이 많이 겹침\n",
    "# 겹쳐진 아파트병을 하나로 합칠 것인가 고민 -> 동일명아파트인데도 지역에 따라 전세 가격이 1억3천, 5억 이런 식으로 같은 아파트명인데도 차이가 많이남\n",
    "# 퍼포먼스가 많이 느리지만 우선은 감안하고 신뢰도 및 정화도 확보에 우선을 두고 우선은 진행하도록 함\n",
    "# 하지만 이것보다 1.5배 이상 더 많아지는 경우에는 이름을 그루핑해 전처리해 퍼포먼스 올릴 필요 있음\n",
    "df.단지명.describe()"
   ]
  },
  {
   "cell_type": "code",
   "execution_count": null,
   "id": "63b3b670",
   "metadata": {},
   "outputs": [],
   "source": [
    "df['단지명'].value_counts() \n",
    "# 아파트에 대한 전처리는 이후 보증금에 대한 이상치 확인 후 진행"
   ]
  },
  {
   "cell_type": "code",
   "execution_count": null,
   "id": "84193ee6",
   "metadata": {},
   "outputs": [],
   "source": [
    "# 전용면적 : 거래된 아파트 중 가장 작은 전용면적은 10.11(㎡), 가장 넓은 전용면적은 317.36(㎡) 임\n",
    "df.전용면적.describe()"
   ]
  },
  {
   "cell_type": "code",
   "execution_count": null,
   "id": "3585a62b",
   "metadata": {},
   "outputs": [],
   "source": [
    "plt.hist(df['전용면적'], bins=10, facecolor='blue', alpha=0.5)\n",
    "plt.show()\n",
    "#대부분 50~100사이의 면적거래가 있었다는 것을 알 수 있음"
   ]
  },
  {
   "cell_type": "code",
   "execution_count": null,
   "id": "727b2a5a",
   "metadata": {},
   "outputs": [],
   "source": [
    "# 계약년월 : 201601~201812 까지의 자료임을 알 수 있음\n",
    "df.계약년월.describe()"
   ]
  },
  {
   "cell_type": "code",
   "execution_count": null,
   "id": "5b0b9dd2",
   "metadata": {},
   "outputs": [],
   "source": [
    "# 층 : -2~68층까지 분포 (지하층이 있는지 확인)\n",
    "df.층.describe()"
   ]
  },
  {
   "cell_type": "code",
   "execution_count": null,
   "id": "0bd4ec19",
   "metadata": {},
   "outputs": [],
   "source": [
    "#지하층 있는 곳 파악 , -1층, 19곳\n",
    "df.loc[df['층']==-1]"
   ]
  },
  {
   "cell_type": "code",
   "execution_count": null,
   "id": "be208281",
   "metadata": {},
   "outputs": [],
   "source": [
    "#지하층 있는 곳 파악 , -2층, 6곳\n",
    "df.loc[df['층']==-2]"
   ]
  },
  {
   "cell_type": "code",
   "execution_count": null,
   "id": "fd340c31",
   "metadata": {},
   "outputs": [],
   "source": [
    "# 건축년도 : 1961년도~2022년도 신축까지 다양함\n",
    "# 왜 16~18 전세 자료인데 건축년도가 22년이 나오는가?\n",
    "# 장기계속공사의 경우 건설공사계약통계는 당해 연도 계약액을 기준으로 하고 있으며, 통계청 조사는 총 공사액을 기준으로 하고 있기 때문\n",
    "df.건축년도.describe()"
   ]
  },
  {
   "cell_type": "code",
   "execution_count": null,
   "id": "326e8d29",
   "metadata": {},
   "outputs": [],
   "source": [
    "# 19년, 20년, 22년 건축년도와 계약년도를 맞춤\n",
    "# 16~18 년도 계약이지만 건축년도가 미래에 있음. 그러나 전세 보증금의 기준은 계약년도였기 때문에 건축년도를 맞추어 데이터의 모순성 제거\n",
    "search = df[(df['건축년도'] == 2019) & (df['계약년월'] == 201707)]\n",
    "print(search)"
   ]
  },
  {
   "cell_type": "code",
   "execution_count": null,
   "id": "ca7ccb8c",
   "metadata": {},
   "outputs": [],
   "source": [
    "# 건축년도 2019년, 계약년월 201707 에 1건\n",
    "# 건축년도 2019년, 계약년월 201712 에 1건\n",
    "# 건축년도 2019년, 계약년월 201801 에 89건\n",
    "# 건축년도 2019년, 계약년월 201802 에 71건\n",
    "# 건축년도 2019년, 계약년월 201803 에 141건\n",
    "# 건축년도 2019년, 계약년월 201804 에 118건\n",
    "# 건축년도 2019년, 계약년월 201805 에 97건\n",
    "# 건축년도 2019년, 계약년월 201806 에 120건\n",
    "# 건축년도 2019년, 계약년월 201807 에 135건\n",
    "# 건축년도 2019년, 계약년월 201808 에 118건\n",
    "# 건축년도 2019년, 계약년월 201809 에 116건\n",
    "# 건축년도 2019년, 계약년월 201810 에 129건\n",
    "# 건축년도 2019년, 계약년월 201811 에 150건\n",
    "# 건축년도 2019년, 계약년월 201812 에 278건\n",
    "# ..."
   ]
  },
  {
   "cell_type": "code",
   "execution_count": null,
   "id": "7ebe8878",
   "metadata": {
    "scrolled": true
   },
   "outputs": [],
   "source": [
    "df.loc[(df['계약년월'].isin([201601, 201602, 201603, 201604, 201605, 201606, 201607, 201608, 201609, 201610, 201611, 201612])) & (df['건축년도'] == 2019), '건축년도'] = 2016\n",
    "df.loc[(df['계약년월'].isin([201601, 201602, 201603, 201604, 201605, 201606, 201607, 201608, 201609, 201610, 201611, 201612])) & (df['건축년도'] == 2020), '건축년도'] = 2016\n",
    "df.loc[(df['계약년월'].isin([201601, 201602, 201603, 201604, 201605, 201606, 201607, 201608, 201609, 201610, 201611, 201612])) & (df['건축년도'] == 2021), '건축년도'] = 2016\n",
    "df.loc[(df['계약년월'].isin([201601, 201602, 201603, 201604, 201605, 201606, 201607, 201608, 201609, 201610, 201611, 201612])) & (df['건축년도'] == 2022), '건축년도'] = 2016\n",
    "\n",
    "df.loc[(df['계약년월'].isin([201701, 201702, 201703, 201704, 201705, 201706, 201707, 201708, 201709, 201710, 201711, 201712])) & (df['건축년도'] == 2019), '건축년도'] = 2017\n",
    "df.loc[(df['계약년월'].isin([201701, 201702, 201703, 201704, 201705, 201706, 201707, 201708, 201709, 201710, 201711, 201712])) & (df['건축년도'] == 2020), '건축년도'] = 2017\n",
    "df.loc[(df['계약년월'].isin([201701, 201702, 201703, 201704, 201705, 201706, 201707, 201708, 201709, 201710, 201711, 201712])) & (df['건축년도'] == 2021), '건축년도'] = 2017\n",
    "df.loc[(df['계약년월'].isin([201701, 201702, 201703, 201704, 201705, 201706, 201707, 201708, 201709, 201710, 201711, 201712])) & (df['건축년도'] == 2022), '건축년도'] = 2017\n",
    "\n",
    "df.loc[(df['계약년월'].isin([201801, 201802, 201803, 201804, 201805, 201806, 201807, 201808, 201809, 201810, 201811, 201812])) & (df['건축년도'] == 2019), '건축년도'] = 2018\n",
    "df.loc[(df['계약년월'].isin([201801, 201802, 201803, 201804, 201805, 201806, 201807, 201808, 201809, 201810, 201811, 201812])) & (df['건축년도'] == 2020), '건축년도'] = 2018\n",
    "df.loc[(df['계약년월'].isin([201801, 201802, 201803, 201804, 201805, 201806, 201807, 201808, 201809, 201810, 201811, 201812])) & (df['건축년도'] == 2021), '건축년도'] = 2018\n",
    "df.loc[(df['계약년월'].isin([201801, 201802, 201803, 201804, 201805, 201806, 201807, 201808, 201809, 201810, 201811, 201812])) & (df['건축년도'] == 2022), '건축년도'] = 2018"
   ]
  },
  {
   "cell_type": "code",
   "execution_count": null,
   "id": "29045f8d",
   "metadata": {},
   "outputs": [],
   "source": [
    "# 확인\n",
    "search2 = df[(df['건축년도'] == 2019) & (df['계약년월'] == 201707)]\n",
    "print(search2)"
   ]
  },
  {
   "cell_type": "code",
   "execution_count": null,
   "id": "d7c5759f",
   "metadata": {},
   "outputs": [],
   "source": [
    "df"
   ]
  },
  {
   "cell_type": "code",
   "execution_count": null,
   "id": "9d56bcd8",
   "metadata": {},
   "outputs": [],
   "source": []
  },
  {
   "cell_type": "code",
   "execution_count": null,
   "id": "a2680916",
   "metadata": {},
   "outputs": [],
   "source": [
    "# 보증금 : 제일 저렴한 것은 500만원, 비싼 것은 500000만원(50억.. ㅎ)이 나온다는 것을 알 수 있음 \n",
    "df.보증금.describe()"
   ]
  },
  {
   "cell_type": "code",
   "execution_count": null,
   "id": "bdd858aa",
   "metadata": {},
   "outputs": [],
   "source": [
    "#저렴한 곳 : 500만원\n",
    "df.loc[df['보증금']==500]"
   ]
  },
  {
   "cell_type": "code",
   "execution_count": null,
   "id": "80fe7928",
   "metadata": {},
   "outputs": [],
   "source": [
    "#비싼곳 : 50억원\n",
    "df.loc[df['보증금']==500000]"
   ]
  },
  {
   "cell_type": "code",
   "execution_count": null,
   "id": "6aed0b63",
   "metadata": {},
   "outputs": [],
   "source": [
    "plt.hist(df['보증금'], bins=10, facecolor='blue', alpha=0.5)\n",
    "plt.show()\n",
    "# 10억이하, 5억 이하 주위로 많이 분포되어 있음을 알 수 있음"
   ]
  },
  {
   "cell_type": "code",
   "execution_count": null,
   "id": "2c2fcf2d",
   "metadata": {},
   "outputs": [],
   "source": [
    "plt.boxplot(df['보증금'])\n",
    "plt.show()"
   ]
  },
  {
   "cell_type": "code",
   "execution_count": null,
   "id": "1efc74a2",
   "metadata": {},
   "outputs": [],
   "source": [
    "# 누가봐도 10억 이상은 안될 것 같은 그래프 나옴\n",
    "# 10억 이상의 데이터를 이상치로 잡고 제거 or 평균화 -> 제거"
   ]
  },
  {
   "cell_type": "code",
   "execution_count": null,
   "id": "4ef7e20e",
   "metadata": {},
   "outputs": [],
   "source": [
    "# 보증금이 10억 이상인 데이터 카운트\n",
    "df_10억 = df[df['보증금'] > 100000]\n",
    "print(df_10억)"
   ]
  },
  {
   "cell_type": "code",
   "execution_count": null,
   "id": "0891292a",
   "metadata": {},
   "outputs": [],
   "source": [
    "# 보증금이 5억 이상인 데이터 카운트\n",
    "df_5억 = df[df['보증금'] >= 50000]\n",
    "print(df_5억)"
   ]
  },
  {
   "cell_type": "code",
   "execution_count": null,
   "id": "4e9153b1",
   "metadata": {},
   "outputs": [],
   "source": [
    "# 전체 328,695 건 중 10억 초과인 경우 : 7,716건 -> 전체의 약 2.3%"
   ]
  },
  {
   "cell_type": "code",
   "execution_count": null,
   "id": "cceb2c0c",
   "metadata": {},
   "outputs": [],
   "source": [
    "# 전체 328,695 건 중 5억 이상인 경우 : 90,337건 -> 전체의 약 27.4% "
   ]
  },
  {
   "cell_type": "code",
   "execution_count": null,
   "id": "d1d51cf3",
   "metadata": {},
   "outputs": [],
   "source": [
    "# 3분위수 이상값(5억이상)을 이상치로 잡을 것인가 vs 10이상을 이상치로 잡을 것인가\n",
    "# 값에 영향을 많이 받지 않도록 10억 이상의 값을 이상치로 잡아 하는 것으로?? "
   ]
  },
  {
   "cell_type": "markdown",
   "id": "39a32342",
   "metadata": {},
   "source": [
    "# 값에 영향을 많이 받지 않도록 10억 이상의 값을 이상치로 잡아 하는 것으로??"
   ]
  },
  {
   "cell_type": "markdown",
   "id": "4db1314a",
   "metadata": {},
   "source": [
    "# 값은 삭제할 것인지 아니면 평균값(또는 중간값)으로 넣을 것인지? 아니면 최대값으로 잡은 10억으로 잡을 것인지?, 비싼 것을 평균값으로 넣는것은 신뢰도가 떨어지고 최대값으로 넣으면 10억 자체가 이상치로 발견될 수 있기에 그냥 삭제하자."
   ]
  },
  {
   "cell_type": "code",
   "execution_count": null,
   "id": "a06a00ec",
   "metadata": {},
   "outputs": [],
   "source": [
    "# 삭제진행\n",
    "\n",
    "# 필터\n",
    "df = df[df['보증금'] <= 100000]\n",
    "\n",
    "# 이상치 데이터 삭제 후 확인 : 최대 10억, 최소 500, 중간값 3억7천, 평균값 3억 9천\n",
    "df.describe()"
   ]
  },
  {
   "cell_type": "code",
   "execution_count": null,
   "id": "136a304f",
   "metadata": {},
   "outputs": [],
   "source": []
  },
  {
   "cell_type": "code",
   "execution_count": null,
   "id": "b2451fb6",
   "metadata": {},
   "outputs": [],
   "source": [
    "# 아파트별 가격 평균 내림차순으로 정렬\n",
    "apt_price = df.groupby('단지명')['보증금'].agg('mean').sort_values(ascending=False)\n",
    "print('변환전\\n', apt_price[:5])"
   ]
  },
  {
   "cell_type": "code",
   "execution_count": null,
   "id": "471553db",
   "metadata": {},
   "outputs": [],
   "source": [
    "df.head()"
   ]
  },
  {
   "cell_type": "code",
   "execution_count": null,
   "id": "d4840c7c",
   "metadata": {},
   "outputs": [],
   "source": [
    "savemydata = df\n",
    "savemydata.head()\n",
    "\n",
    "savemydata[['계약년월', '보증금']].to_csv('data/savemydata.csv', index=False)"
   ]
  },
  {
   "cell_type": "code",
   "execution_count": null,
   "id": "68ccf624",
   "metadata": {},
   "outputs": [],
   "source": [
    "#가격별로 0~ 인코딩 해주기\n",
    "for i, a in enumerate(list(apt_price.index)):\n",
    "    df.loc[df['단지명'] == a, '단지명'] = i \n",
    "apt_price = df.groupby('단지명')['보증금'].agg('mean').sort_values(ascending=False)\n",
    "print('변환후\\n', apt_price[:5])"
   ]
  },
  {
   "cell_type": "code",
   "execution_count": null,
   "id": "e8d43c91",
   "metadata": {},
   "outputs": [],
   "source": [
    "# 완공연도에서 최소연도 빼서 완공연도 라벨인코딩\n",
    "print('변환전\\n', df['건축년도'].unique()[:5])\n",
    "df['건축년도'] = df['건축년도'] - df['건축년도'].min()\n",
    "print('변환후\\n', df['건축년도'].unique()[:5])"
   ]
  },
  {
   "cell_type": "code",
   "execution_count": null,
   "id": "3f8ffcb8",
   "metadata": {},
   "outputs": [],
   "source": [
    "# 연월 증가하는 순으로 라벨 인코딩 : 계약년월\n",
    "le = LabelEncoder()\n",
    "df['계약년월'] = le.fit_transform(df['계약년월'])\n",
    "print('변환후\\n', df['계약년월'].unique()[:5])"
   ]
  },
  {
   "cell_type": "code",
   "execution_count": null,
   "id": "891ed4bf",
   "metadata": {},
   "outputs": [],
   "source": [
    "# 중간 확인\n",
    "df.head()"
   ]
  },
  {
   "cell_type": "code",
   "execution_count": null,
   "id": "175cbde8",
   "metadata": {},
   "outputs": [],
   "source": [
    "# 동 인코딩하기\n",
    "\n",
    "#동 EDA\n",
    "dong_price = df.groupby('동')['보증금'].agg('mean').sort_values(ascending=False)\n",
    "dong_price[:20]\n",
    "\n",
    "#현재 데이터에서는 가장 비싼 동은 장충동1가 (10억 필터링 전에는 용산구5가였음)"
   ]
  },
  {
   "cell_type": "code",
   "execution_count": null,
   "id": "4b0a1ca3",
   "metadata": {},
   "outputs": [],
   "source": [
    "# 동별 인코딩 (평균값 비싼순서대로~)\n",
    "for i, d in enumerate(list(dong_price.index)):\n",
    "    df.loc[df['동'] == d, '동'] = i\n",
    "\n",
    "df"
   ]
  },
  {
   "cell_type": "code",
   "execution_count": null,
   "id": "58f2ccb6",
   "metadata": {
    "scrolled": true
   },
   "outputs": [],
   "source": [
    "# 층 수 확인 \n",
    "# 최소값이 -2이므로 2를 더해서 음수를 없애고 순서형 범주 처리\n",
    "# -2, -1, 1, 2와 같은 숫자와 함께 \"층\"이라는 레이블이 있음\n",
    "# 머신러닝 모델이 층수를 이해하기 위해서는 층수를 숫자만으로 변환하는 것뿐만 아니라 레이블의 변환도 필요\n",
    "print('변환전\\n', df['층'].values[:5])\n",
    "df['층'] = df['층'].map(lambda x: x+2)\n",
    "print('변환후\\n', df['층'].values[:5])"
   ]
  },
  {
   "cell_type": "code",
   "execution_count": null,
   "id": "e08485ed",
   "metadata": {},
   "outputs": [],
   "source": [
    "# 시군구,전세,apt_counts,transformed 컬럼 삭제\n",
    "df = df.drop(['시군구', '전월세구분'], axis=1)\n",
    "df.head()"
   ]
  },
  {
   "cell_type": "code",
   "execution_count": null,
   "id": "7888f948",
   "metadata": {},
   "outputs": [],
   "source": [
    "df.shape"
   ]
  },
  {
   "cell_type": "code",
   "execution_count": null,
   "id": "765c9d34",
   "metadata": {},
   "outputs": [],
   "source": []
  },
  {
   "cell_type": "markdown",
   "id": "e332c9c0",
   "metadata": {},
   "source": [
    "# 변수 살펴보기"
   ]
  },
  {
   "cell_type": "markdown",
   "id": "d1338de2",
   "metadata": {},
   "source": [
    "# 상관분석\n",
    "### -1~1 값, 0으로 가까울수록 관계없음, -1과 1로 갈 수록 음과 양의 관계 있음"
   ]
  },
  {
   "cell_type": "code",
   "execution_count": null,
   "id": "376ce027",
   "metadata": {},
   "outputs": [],
   "source": [
    "# 상관분석1: 상관 관계 행렬\n",
    "\n",
    "df_copy = df.copy()\n",
    "\n",
    "# 분석 보기 편하기 위해 컬럼명 변경\n",
    "df_copy = df_copy[['동', '단지명', '전용면적', '계약년월', '층', '건축년도', '부동산소비심리','금리','보증금']]\n",
    "df_copy.columns = ['dong', 'apt_name', 'area', 'contract_month', 'floor', 'construction_year', 'psychology','interest','deposit']\n",
    "\n",
    "\n",
    "#범주화된 항목 카테고리화 하기\n",
    "df_copy['dong'] = df_copy['dong'].astype('category').cat.codes\n",
    "df_copy['apt_name'] = df_copy['apt_name'].astype('category').cat.codes\n",
    "\n",
    "#상관관계 행렬\n",
    "df_corr=df_copy.corr()\n",
    "\n",
    "#히트맵\n",
    "plt.figure(figsize=(10,10))\n",
    "sns.set(font_scale=0.8)\n",
    "sns.heatmap(df_corr, annot=True, cmap=\"viridis\")\n",
    "plt.show()"
   ]
  },
  {
   "cell_type": "code",
   "execution_count": null,
   "id": "433299d3",
   "metadata": {},
   "outputs": [],
   "source": [
    "# 보증금과 상관관계가 높은 순으로 출력하기\n",
    "corr_order = df_copy.corr()['deposit'].abs().sort_values(ascending=False)\n",
    "corr_order"
   ]
  },
  {
   "cell_type": "code",
   "execution_count": null,
   "id": "0ee87b50",
   "metadata": {},
   "outputs": [],
   "source": [
    "print(df_corr)"
   ]
  },
  {
   "cell_type": "code",
   "execution_count": null,
   "id": "d7c105a2",
   "metadata": {},
   "outputs": [],
   "source": [
    "\n",
    "\n",
    "# psychology와 interest 간의 상관관계가 높음\n",
    "# psychology와 interest 중 하나를 제거 가능"
   ]
  },
  {
   "cell_type": "code",
   "execution_count": null,
   "id": "3daf4666",
   "metadata": {},
   "outputs": [],
   "source": [
    "# 상관분석2 :  선형회귀로 확인하기\n",
    "# 시각화로 상관분석할 피처 정하기1 : deposit 중심\n",
    "plot_cols = ['deposit', 'area','floor','construction_year','contract_month','psychology','interest']\n",
    "plot_df = df_copy.loc[:, plot_cols]\n",
    "\n",
    "plot_df.head()"
   ]
  },
  {
   "cell_type": "code",
   "execution_count": null,
   "id": "8800c995",
   "metadata": {},
   "outputs": [],
   "source": [
    "# regplot으로 선형회귀선 표시하기\n",
    "\n",
    "plt.figure(figsize=(10, 10))\n",
    "for idx, col in enumerate(plot_cols[1:]):\n",
    "    ax1 = plt.subplot(4, 2, idx + 1)\n",
    "    sns.regplot(x=col, y=plot_cols[0], data=plot_df, ax=ax1, color='gray', line_kws={'color': 'red'})\n",
    "plt.tight_layout()\n",
    "plt.show()"
   ]
  },
  {
   "cell_type": "code",
   "execution_count": null,
   "id": "52684f99",
   "metadata": {},
   "outputs": [],
   "source": [
    "# 보증금과 비교했을 시\n",
    "# 면적, 층, 계약년도은 양의 상관관계가 있음\n",
    "# 건축년도, 금리, 심리 : 미약한 상관관계가 보임"
   ]
  },
  {
   "cell_type": "code",
   "execution_count": null,
   "id": "f415db3f",
   "metadata": {},
   "outputs": [],
   "source": [
    "# 피처별로 살펴보기\n",
    "# 면적(area)와 다른 변수간의 관계\n",
    "plot_cols = ['area', 'deposit', 'floor','construction_year','contract_month','psychology','interest']\n",
    "plt.figure(figsize=(10, 10))\n",
    "for idx, col in enumerate(plot_cols[1:]):\n",
    "    ax1 = plt.subplot(4, 2, idx + 1)\n",
    "    sns.regplot(x=col, y=plot_cols[0], data=plot_df, ax=ax1, color='gray', line_kws={'color': 'red'})\n",
    "plt.tight_layout()\n",
    "plt.show()"
   ]
  },
  {
   "cell_type": "code",
   "execution_count": null,
   "id": "c3f5305b",
   "metadata": {},
   "outputs": [],
   "source": [
    "'''\n",
    "# 피처별로 살펴보기\n",
    "# 층(floor)와 다른 변수간의 관계\n",
    "plot_cols = ['floor', 'area', 'deposit', 'construction_year', 'contract_month', 'interest', 'psychology']\n",
    "\n",
    "plt.figure(figsize=(10, 10))\n",
    "for idx, col in enumerate(plot_cols[1:]):\n",
    "    ax1 = plt.subplot(4, 2, idx + 1)\n",
    "    sns.regplot(x=col, y='floor', data=df, ax=ax1, color='gray', line_kws={'color': 'red'})\n",
    "plt.tight_layout()\n",
    "plt.show()\n",
    "'''"
   ]
  },
  {
   "cell_type": "code",
   "execution_count": null,
   "id": "0af936bd",
   "metadata": {},
   "outputs": [],
   "source": [
    "'''\n",
    "# 피처별로 살펴보기\n",
    "# 건축년도(construction_year)와 다른 변수간의 관계\n",
    "plot_cols = ['construction_year', 'area', 'deposit', 'floor','contract_month','psychology','interest']\n",
    "plt.figure(figsize=(10, 10))\n",
    "for idx, col in enumerate(plot_cols[1:]):\n",
    "    ax1 = plt.subplot(4, 2, idx + 1)\n",
    "    sns.regplot(x=col, y=plot_cols[0], data=df, ax=ax1, color='gray', line_kws={'color': 'red'})\n",
    "plt.tight_layout()\n",
    "plt.show()\n",
    "'''"
   ]
  },
  {
   "cell_type": "code",
   "execution_count": null,
   "id": "8cb1d132",
   "metadata": {},
   "outputs": [],
   "source": [
    "'''\n",
    "# 피처별로 살펴보기\n",
    "# 계약년월(contract_month)와 다른 변수간의 관계\n",
    "plot_cols = ['contract_month', 'construction_year', 'area', 'deposit', 'floor','psychology','interest']\n",
    "plt.figure(figsize=(10, 10))\n",
    "for idx, col in enumerate(plot_cols[1:]):\n",
    "    ax1 = plt.subplot(4, 2, idx + 1)\n",
    "    sns.regplot(x=col, y=plot_cols[0], data=df, ax=ax1, color='gray', line_kws={'color': 'red'})\n",
    "plt.tight_layout()\n",
    "plt.show()\n",
    "'''"
   ]
  },
  {
   "cell_type": "code",
   "execution_count": null,
   "id": "5a99c6b5",
   "metadata": {},
   "outputs": [],
   "source": [
    "'''\n",
    "# 피처별로 살펴보기\n",
    "# 부동산소비심리(psychology)와 다른 변수간의 관계\n",
    "plot_cols = ['psychology', 'contract_month', 'construction_year', 'area', 'deposit', 'floor','interest']\n",
    "plt.figure(figsize=(10, 10))\n",
    "for idx, col in enumerate(plot_cols[1:]):\n",
    "    ax1 = plt.subplot(4, 2, idx + 1)\n",
    "    sns.regplot(x=col, y=plot_cols[0], data=df, ax=ax1, color='gray', line_kws={'color': 'red'})\n",
    "plt.tight_layout()\n",
    "plt.show()\n",
    "'''"
   ]
  },
  {
   "cell_type": "code",
   "execution_count": null,
   "id": "c780c592",
   "metadata": {},
   "outputs": [],
   "source": [
    "'''\n",
    "# 피처별로 살펴보기\n",
    "# 금리(interest)와 다른 변수간의 관계\n",
    "plot_cols = ['interest','psychology', 'contract_month', 'construction_year', 'area', 'deposit', 'floor']\n",
    "plt.figure(figsize=(10, 10))\n",
    "for idx, col in enumerate(plot_cols[1:]):\n",
    "    ax1 = plt.subplot(4, 2, idx + 1)\n",
    "    sns.regplot(x=col, y=plot_cols[0], data=df, ax=ax1, color='gray', line_kws={'color': 'red'})\n",
    "plt.tight_layout()\n",
    "plt.show()\n",
    "'''"
   ]
  },
  {
   "cell_type": "code",
   "execution_count": null,
   "id": "46d0e0d9",
   "metadata": {},
   "outputs": [],
   "source": []
  },
  {
   "cell_type": "code",
   "execution_count": null,
   "id": "98c27410",
   "metadata": {},
   "outputs": [],
   "source": [
    "# 상관분석3 : 스피어만 상관계수로 확인해보기\n",
    "# 두 변수가 선형적으로 관련되어 있을때 보는 상관분석"
   ]
  },
  {
   "cell_type": "code",
   "execution_count": null,
   "id": "74a450df",
   "metadata": {},
   "outputs": [],
   "source": [
    "df_copy = df.copy()\n",
    "df_copy = df_copy[['동', '단지명', '전용면적', '계약년월', '층', '건축년도', '부동산소비심리','금리','보증금']]\n",
    "df_copy.columns = ['dong', 'apt_name', 'area', 'contract_month', 'floor', 'construction_year', 'psychology','interest','deposit']\n",
    "\n",
    "# 범주형 변수 순위 변수로 변환\n",
    "df_copy['dong'] = df_copy['dong'].astype('category').cat.codes\n",
    "df_copy['apt_name'] = df_copy['apt_name'].astype('category').cat.codes\n",
    "\n",
    "# 스피어만 상관계수 계산\n",
    "r = df_copy.corr(method='spearman')\n",
    "\n",
    "# 스피어만 상관계수를 출력\n",
    "print(r)\n",
    "\n",
    "# 스피어만 상관계수 읽는 방법\n",
    "# 1에 가까울수록 두 변수 간의 상관관계가 강하고, -1에 가까울수록 두 변수 간의 상관관계가 약함 (설사약과 변비약)\n",
    "# 스피어만 상관계수 값이 0에 가까울수록 두 변수 간의 상관관계가 없음"
   ]
  },
  {
   "cell_type": "code",
   "execution_count": null,
   "id": "a79454ee",
   "metadata": {},
   "outputs": [],
   "source": [
    "# 행렬의 다른 상관 관계는 모두 비교적 약하며, 대부분은 통계적으로 유의하지 않음\n",
    "# 이는 데이터 세트의 다른 변수 쌍 사이에는 강한 관계가 없다는 것을 의미함\n",
    "# 물론, area와 deposit과의 사이에는 강한 상관관계가 보이지만 area가 학습 변수가 될 예정이기 때문에 논외로 침"
   ]
  },
  {
   "cell_type": "code",
   "execution_count": null,
   "id": "661d8a52",
   "metadata": {},
   "outputs": [],
   "source": [
    "# 히트맵으로 확인\n",
    "plt.imshow(r)\n",
    "plt.xticks(np.arange(len(r.columns)), r.columns, rotation='vertical')\n",
    "plt.yticks(np.arange(len(r.columns)), r.columns)\n",
    "plt.colorbar()\n",
    "plt.show()"
   ]
  },
  {
   "cell_type": "code",
   "execution_count": null,
   "id": "ee5fadd5",
   "metadata": {},
   "outputs": [],
   "source": [
    "# 산점도로 확인하기\n",
    "'''\n",
    "plt.figure(figsize=(10, 10))\n",
    "for idx, col in enumerate(plot_cols[1:]):\n",
    "  ax1 = plt.subplot(4, 2, idx + 1)\n",
    "  sns.regplot(x=col, y=plot_cols[0], data=plot_df, ax=ax1, color='gray', line_kws={'color': 'red'})\n",
    "  ax1.text(x=0, y=1, s='Spearman correlation: {0:.3f}'.format(plot_df[col].corr(plot_df['deposit'], method='spearman')))\n",
    "plt.tight_layout()\n",
    "plt.show()\n",
    "'''"
   ]
  },
  {
   "cell_type": "code",
   "execution_count": null,
   "id": "5908efea",
   "metadata": {},
   "outputs": [],
   "source": []
  },
  {
   "cell_type": "markdown",
   "id": "b1cbb55d",
   "metadata": {},
   "source": [
    "# 변수 간 연관분석 - 주성분분석"
   ]
  },
  {
   "cell_type": "code",
   "execution_count": null,
   "id": "a9c5ba0e",
   "metadata": {},
   "outputs": [],
   "source": [
    "# PCA를 수행 데이터\n",
    "df_copy = df.copy()\n",
    "df_copy = df_copy[['동', '단지명', '전용면적', '계약년월', '층', '건축년도', '부동산소비심리','금리','보증금']]\n",
    "df_copy.columns = ['dong', 'apt_name', 'area', 'contract_month', 'floor', 'construction_year', 'psychology','interest','deposit']\n",
    "\n",
    "# PCA를 수행\n",
    "pca = PCA()\n",
    "pca.fit(df_copy)\n",
    "\n",
    "# PCA 결과 해석\n",
    "print(pca.explained_variance_ratio_)"
   ]
  },
  {
   "cell_type": "code",
   "execution_count": null,
   "id": "ac13e3f6",
   "metadata": {},
   "outputs": [],
   "source": [
    "# 첫 번째 주성분이 데이터의 99.97%의 분산을 설명"
   ]
  },
  {
   "cell_type": "code",
   "execution_count": null,
   "id": "4c9b3da3",
   "metadata": {},
   "outputs": [],
   "source": [
    "'''\n",
    "from sklearn.decomposition import PCA\n",
    "\n",
    "# 주성분을 pcs 변수에 저장. 주성분은 데이터의 주요 변수\n",
    "pcs = pca.components_\n",
    "\n",
    "# 주성분이 설명하는 분산을 var_explained 변수에 저장(분산: 데이터의 다양성)\n",
    "var_explained = pca.explained_variance_ratio_\n",
    "\n",
    "# 분산이 90% 이상인 주성분만을 선택하여 pcs 변수에 저장\n",
    "pcs = pcs[:, var_explained > 0.9]\n",
    "reduced_df = pca.transform(df_copy)\n",
    "'''"
   ]
  },
  {
   "cell_type": "code",
   "execution_count": null,
   "id": "a417e9a3",
   "metadata": {},
   "outputs": [],
   "source": [
    "# reduced_df"
   ]
  },
  {
   "cell_type": "code",
   "execution_count": null,
   "id": "1fbe2023",
   "metadata": {},
   "outputs": [],
   "source": [
    " # 2번째 주성분을 사용하면 데이터의 차원이 두 개로 늘어나지만, 데이터의 성능은 향상되지 않고, 데이터의 성능이 떨어짐"
   ]
  },
  {
   "cell_type": "markdown",
   "id": "5d7ab344",
   "metadata": {},
   "source": [
    "# 차원축소해보기"
   ]
  },
  {
   "cell_type": "code",
   "execution_count": null,
   "id": "76cd470a",
   "metadata": {},
   "outputs": [],
   "source": [
    "# 2차원으로 만들기\n",
    "# 데이터표준화\n",
    "# 데이터의 크기를 동일하게 만드는 과정, 데이터차원 축소 & 데이터 특징을 비교 용이\n",
    "scaler = StandardScaler()\n",
    "df_copy = scaler.fit_transform(df_copy)\n",
    "\n",
    "\n",
    "# 데이터의 공분산 행렬을 계산합니다.\n",
    "# 공분산행렬 : 변수 간의 상관 관계 보여줌. 공분산행렬의 값이 크면 두 변수가 강하게 관련되어 있고, 공분산행렬의 값이 작으면 두 변수가 약하게 관련\n",
    "cov = np.cov(df_copy.T)\n",
    "\n",
    "# 공분산 행렬의 고유값과 고유벡터 계산\n",
    "# 고유값:  행렬이 데이터의 변수 간의 상관 관계를 나타내는 척도\n",
    "# 고유벡터: 행렬이 데이터의 변수 간의 관계를 나타내는 방향\n",
    "eig_vals, eig_vecs = np.linalg.eig(cov)"
   ]
  },
  {
   "cell_type": "code",
   "execution_count": null,
   "id": "1acdbed2",
   "metadata": {},
   "outputs": [],
   "source": [
    "# 분산이 큰 2개만 선택 (2차원 선택)\n",
    "# 고유값의 크기가 큰 고유벡터를 선택\n",
    "top_n = 2\n",
    "eig_vecs = eig_vecs[:, :top_n]\n",
    "\n",
    "new_df = df.dot(eig_vecs)\n",
    "\n",
    "# 주성분의 설명력 계산\n",
    "explained_variance = eig_vals[:top_n].sum() / cov.sum()\n",
    "\n",
    "# 주성분의 설명력\n",
    "print(f'주성분의 설명력: {explained_variance}')\n",
    "\n",
    "# 0.65"
   ]
  },
  {
   "cell_type": "code",
   "execution_count": null,
   "id": "63c635e6",
   "metadata": {},
   "outputs": [],
   "source": [
    "# 3차원 선택\n",
    "\n",
    "# 고유값의 크기가 큰 고유벡터를 선택\n",
    "top_n = 3\n",
    "eig_vecs = eig_vecs[:, :top_n]\n",
    "\n",
    "new_df3d = df.dot(eig_vecs)\n",
    "\n",
    "explained_variance_3d = eig_vals[:top_n].sum() / cov.sum()\n",
    "\n",
    "# 주성분의 설명력\n",
    "print(f'주성분의 설명력: {explained_variance_3d}')\n",
    "\n",
    "# 0.67"
   ]
  },
  {
   "cell_type": "code",
   "execution_count": null,
   "id": "c0c03ce1",
   "metadata": {},
   "outputs": [],
   "source": [
    "# 4차원  선택\n",
    "\n",
    "# 고유값의 크기가 큰 고유벡터를 선택\n",
    "top_n = 4\n",
    "eig_vecs = eig_vecs[:, :top_n]\n",
    "\n",
    "new_df4d = df.dot(eig_vecs)\n",
    "\n",
    "explained_variance_4d = eig_vals[:top_n].sum() / cov.sum()\n",
    "\n",
    "# 주성분의 설명력\n",
    "print(f'주성분의 설명력: {explained_variance_4d}')\n",
    "\n",
    "#0.70"
   ]
  },
  {
   "cell_type": "code",
   "execution_count": null,
   "id": "23aead82",
   "metadata": {},
   "outputs": [],
   "source": [
    "# 5차원  선택\n",
    "\n",
    "# 고유값의 크기가 큰 고유벡터를 선택\n",
    "top_n = 5\n",
    "eig_vecs = eig_vecs[:, :top_n]\n",
    "\n",
    "new_df5d = df.dot(eig_vecs)\n",
    "\n",
    "explained_variance_5d = eig_vals[:top_n].sum() / cov.sum()\n",
    "\n",
    "# 주성분의 설명력\n",
    "print(f'주성분의 설명력: {explained_variance_5d}')\n",
    "\n",
    "# 0.87"
   ]
  },
  {
   "cell_type": "code",
   "execution_count": null,
   "id": "b0c1f9f1",
   "metadata": {},
   "outputs": [],
   "source": [
    "# 6차원  선택\n",
    "\n",
    "# 고유값의 크기가 큰 고유벡터를 선택\n",
    "top_n = 6\n",
    "eig_vecs = eig_vecs[:, :top_n]\n",
    "\n",
    "new_df6d = df.dot(eig_vecs)\n",
    "\n",
    "explained_variance_6d = eig_vals[:top_n].sum() / cov.sum()\n",
    "\n",
    "# 주성분의 설명력\n",
    "print(f'주성분의 설명력: {explained_variance_6d}')\n",
    "\n",
    "# 0.94"
   ]
  },
  {
   "cell_type": "code",
   "execution_count": null,
   "id": "a9914369",
   "metadata": {},
   "outputs": [],
   "source": [
    "# 7차원  선택\n",
    "\n",
    "# 고유값의 크기가 큰 고유벡터를 선택\n",
    "top_n = 7\n",
    "eig_vecs = eig_vecs[:, :top_n]\n",
    "\n",
    "new_df7d = df.dot(eig_vecs)\n",
    "\n",
    "explained_variance_7d = eig_vals[:top_n].sum() / cov.sum()\n",
    "\n",
    "# 주성분의 설명력\n",
    "print(f'주성분의 설명력: {explained_variance_7d}')\n",
    "\n",
    "# 1.03 : 과대적합 상태"
   ]
  },
  {
   "cell_type": "code",
   "execution_count": null,
   "id": "458f1f53",
   "metadata": {},
   "outputs": [],
   "source": [
    "# 주성분은 원래 데이터의 특성을 재조합하여 만든 새로운 특성 : 컬럼이름 없어짐"
   ]
  },
  {
   "cell_type": "markdown",
   "id": "a37a68b9",
   "metadata": {},
   "source": [
    "# 학습 데이터 결정하기 : 확인 후 결정"
   ]
  },
  {
   "cell_type": "code",
   "execution_count": null,
   "id": "8ae21122",
   "metadata": {},
   "outputs": [],
   "source": [
    "df.head()\n",
    "# 0.9997"
   ]
  },
  {
   "cell_type": "code",
   "execution_count": null,
   "id": "ec336f1b",
   "metadata": {},
   "outputs": [],
   "source": [
    "df.to_csv('data/df.csv', index=False)"
   ]
  },
  {
   "cell_type": "code",
   "execution_count": null,
   "id": "5f4c9883",
   "metadata": {},
   "outputs": [],
   "source": [
    "new_df6d.head()\n",
    "# 0.94"
   ]
  },
  {
   "cell_type": "code",
   "execution_count": null,
   "id": "42556150",
   "metadata": {},
   "outputs": [],
   "source": [
    "new_df6d.to_csv('data/new_df6d.csv', index=False)"
   ]
  },
  {
   "cell_type": "markdown",
   "id": "ec918da9",
   "metadata": {},
   "source": [
    "# Prophet 모델링"
   ]
  },
  {
   "cell_type": "code",
   "execution_count": null,
   "id": "882652aa",
   "metadata": {},
   "outputs": [],
   "source": [
    "# Prophet import\n",
    "import prophet\n",
    "from prophet import Prophet\n",
    "from sklearn.model_selection import train_test_split\n",
    "from sklearn.preprocessing import LabelEncoder\n",
    "from datetime import datetime"
   ]
  },
  {
   "cell_type": "code",
   "execution_count": null,
   "id": "8a5ac4a9",
   "metadata": {
    "scrolled": false
   },
   "outputs": [],
   "source": [
    "# 계약년월당 평균보증금\n",
    "\n",
    "dff = pd.read_csv('data/average.csv', low_memory=False, dtype={'status': 'category'})\n",
    "yeardate = pd.read_csv('data/savemydata.csv', low_memory=False, dtype={'status': 'category'})\n",
    "data2019 = pd.read_csv('data/2019average.csv', low_memory=False, dtype={'status': 'category'})\n",
    "alldata = pd.read_csv('data/2016-2019avg.csv', low_memory=False, dtype={'status': 'category'})\n",
    "\n",
    "\n",
    "dff = dff.rename(columns={'계약년월': 'ds'})\n",
    "dff = dff.rename(columns={'평균보증금': 'y'})\n",
    "\n",
    "yeardate = yeardate.rename(columns={'계약년월': 'ds'})\n",
    "yeardate = yeardate.rename(columns={'보증금': 'y'})\n",
    "\n",
    "print(dff)"
   ]
  },
  {
   "cell_type": "code",
   "execution_count": null,
   "id": "07227bc2",
   "metadata": {},
   "outputs": [],
   "source": [
    "\n",
    "yeardate['ds'] = yeardate['ds'].astype(str).str[:4] + '-' + yeardate['ds'].astype(str).str[4:] + '-01'\n",
    "yeardate\n",
    "yeardate[['ds', 'y']].to_csv('data/yeardate.csv', index=False)"
   ]
  },
  {
   "cell_type": "code",
   "execution_count": null,
   "id": "d7dc01a6",
   "metadata": {},
   "outputs": [],
   "source": [
    "# 훈련용, 검증용 데이터 분리\n",
    "# Prophet은 내부적으로 자동적으로 차분(differencing)을 수행하여 추세 및 계절성 구성 요소를 추정하고 예측함! \n",
    "# 이러한 이유로 Prophet을 사용할 때 일반적으로 차분을 직접 적용할 필요없음.\n",
    "\n",
    "train_size = int(0.8 * len(dff))\n",
    "X_train = dff[:train_size]\n",
    "X_val = dff[train_size:]\n",
    "\n",
    "X_train.shape"
   ]
  },
  {
   "cell_type": "code",
   "execution_count": null,
   "id": "8cf702e9",
   "metadata": {},
   "outputs": [],
   "source": [
    "prophet_model = Prophet(changepoint_prior_scale=0.04, seasonality_mode='additive', seasonality_prior_scale = 8)\n",
    "#prophet_model.add_seasonality(name='monthly', period=30.5, fourier_order=5)\n",
    "\n",
    "# changepoint_prior_scale = 추세에 덜 유연하게 반영하려면 default 값인 0.05 보다 작게(과소적합 문제), 유연하게 반영하려면 0.05 보다 크게 설정(과적합 문제)\n",
    "# seasonality_mode = 'additive' : 시계열 데이터가 진폭이 일정할 때 사용, 'multiplicative' : 시계열 데이터의 진폭이 점점 증가하거나 감소할 때 사용\n",
    "# seasonality_prior_scale = 계절의 유연성을 제어하는 parameter 값이 크면 계절성의 영향이 커지고 값이 작아지면 계절성의 영향이 줄어듦. 합리적인 조정 범위는 [0.01,10] 사이\n",
    "\"\"\"\n",
    "prophet_model.add_regressor('동')\n",
    "prophet_model.add_regressor('단지명')\n",
    "prophet_model.add_regressor('전용면적')\n",
    "prophet_model.add_regressor('건축년도')\n",
    "prophet_model.add_regressor('금리')\n",
    "prophet_model.add_regressor('부동산소비심리')\n",
    "prophet_model.add_regressor('층')\n",
    "\n",
    "\"\"\"\n",
    "\n",
    "prophet_model.fit(dff)"
   ]
  },
  {
   "cell_type": "code",
   "execution_count": null,
   "id": "4ed1bc66",
   "metadata": {
    "scrolled": true
   },
   "outputs": [],
   "source": [
    "# 미래 예측 - 2018.04 까지 훈련시킨 데이터에 predict 시켜주면서 2018.12까지 예측 해줌\n",
    "\n",
    "#forecast = prophet_model.predict(dff)\n",
    "#plot = prophet_model.plot(forecast)"
   ]
  },
  {
   "cell_type": "code",
   "execution_count": null,
   "id": "0b71d215",
   "metadata": {
    "scrolled": false
   },
   "outputs": [],
   "source": [
    "# 그래프화\n",
    "\n",
    "future = prophet_model.make_future_dataframe(periods=12, freq='30D')\n",
    "forecast = prophet_model.predict(future)\n",
    "forecast\n",
    "plot = prophet_model.plot(forecast)\n",
    "#forecast.head()"
   ]
  },
  {
   "cell_type": "code",
   "execution_count": null,
   "id": "c0047967",
   "metadata": {},
   "outputs": [],
   "source": [
    "# 예측값과 실제값 비교\n",
    "predicted = forecast['yhat']\n",
    "actual = alldata['y']\n",
    "x_plt = forecast['ds'] \n",
    "x_labels = [date.strftime('%Y-%m') for date in x_plt] # 연도와 월만 표시되도록 설정\n",
    "\n",
    "plt.figure(figsize=(30, 10)) # 그래프 크기 조정\n",
    "\n",
    "plt.plot(predicted, label='Predicted') # 예측값\n",
    "plt.plot(actual, label='Actual') # 실제값\n",
    "\n",
    "plt.xticks(range(len(x_labels)), x_labels)\n",
    "plt.scatter(actual.index, actual, color='red', label='Data Points', s=5)\n",
    "plt.scatter(predicted.index, predicted, color='blue', label='Data Points', s=5)\n",
    "plt.xlabel('Date')\n",
    "plt.ylabel('deposit')\n",
    "plt.legend()\n",
    "plt.show()"
   ]
  },
  {
   "cell_type": "code",
   "execution_count": null,
   "id": "f4e9dddf",
   "metadata": {},
   "outputs": [],
   "source": [
    "# MSE\n",
    "mse = mean_squared_error(actual, predicted)\n",
    "print('MSE: ', mse)\n",
    "\n",
    "# RMSE를 계산(낮을 수록 정확함)\n",
    "rmse = mean_squared_error(actual, predicted)\n",
    "print('rmse :',rmse)\n",
    "\n",
    "# R^2을 계산(R^2가 1에 가까울수록 모델이 데이터를 잘 설명)\n",
    "r2 = r2_score(actual, predicted)\n",
    "print('r2 :',r2)\n",
    "\n",
    "# MAE를 계산(MAE가 낮을수록 예측값과 실제값이 가까워짐)\n",
    "mae = mean_absolute_error(actual, predicted)\n",
    "print('mae :',mae)\n"
   ]
  },
  {
   "cell_type": "code",
   "execution_count": null,
   "id": "20df2d9a",
   "metadata": {},
   "outputs": [],
   "source": [
    "#future = prophet_model.make_future_dataframe(periods=12, freq='30D')\n",
    "#forecast = prophet_model.predict(future)"
   ]
  },
  {
   "cell_type": "code",
   "execution_count": null,
   "id": "a585378c",
   "metadata": {},
   "outputs": [],
   "source": [
    "#predicted = forecast['yhat']\n",
    "#actual = dff['y']\n",
    "\n",
    "#plt.plot(predicted, label='Predicted')\n",
    "#plt.plot(actual, label='Actual')\n",
    "#plt.scatter(actual.index, actual, color='red', label='Data Points', s=5)\n",
    "#plt.scatter(predicted.index, predicted, color='blue', label='Data Points', s=5)\n",
    "#plt.xlabel('Date')\n",
    "#plt.ylabel('deposit')\n",
    "#plt.legend()\n",
    "#plt.show()"
   ]
  }
 ],
 "metadata": {
  "kernelspec": {
   "display_name": "Python [conda env:tf_cpu] *",
   "language": "python",
   "name": "conda-env-tf_cpu-py"
  },
  "language_info": {
   "codemirror_mode": {
    "name": "ipython",
    "version": 3
   },
   "file_extension": ".py",
   "mimetype": "text/x-python",
   "name": "python",
   "nbconvert_exporter": "python",
   "pygments_lexer": "ipython3",
   "version": "3.8.16"
  }
 },
 "nbformat": 4,
 "nbformat_minor": 5
}
