{
 "cells": [
  {
   "cell_type": "code",
   "execution_count": 1,
   "id": "dc0a01c8",
   "metadata": {},
   "outputs": [],
   "source": [
    "import pandas as pd\n",
    "import numpy as np\n",
    "import matplotlib.pyplot as plt\n",
    "import seaborn as sns\n",
    "import tensorflow as tf\n",
    "\n",
    "from sklearn.linear_model import LinearRegression\n",
    "from sklearn.tree import DecisionTreeRegressor\n",
    "from sklearn.ensemble import RandomForestRegressor\n",
    "from xgboost import XGBClassifier\n",
    "\n",
    "import xgboost as xgb\n",
    "\n",
    "from sklearn.preprocessing import  LabelEncoder\n",
    "from sklearn.model_selection import TimeSeriesSplit\n",
    "\n",
    "from sklearn.metrics import mean_squared_error, r2_score,mean_absolute_error\n",
    "from sklearn.model_selection import cross_val_score\n",
    "\n",
    "import re\n",
    "from sklearn.model_selection import train_test_split\n",
    "from sklearn.preprocessing import MinMaxScaler\n",
    "\n",
    "from sklearn.decomposition import PCA\n",
    "\n"
   ]
  },
  {
   "cell_type": "code",
   "execution_count": 2,
   "id": "4f680140",
   "metadata": {},
   "outputs": [],
   "source": [
    "# 데이터 불러오기\n",
    "df = pd.read_csv('../data/df.csv')"
   ]
  },
  {
   "cell_type": "code",
   "execution_count": 3,
   "id": "dccc3ac6",
   "metadata": {},
   "outputs": [
    {
     "data": {
      "text/html": [
       "<div>\n",
       "<style scoped>\n",
       "    .dataframe tbody tr th:only-of-type {\n",
       "        vertical-align: middle;\n",
       "    }\n",
       "\n",
       "    .dataframe tbody tr th {\n",
       "        vertical-align: top;\n",
       "    }\n",
       "\n",
       "    .dataframe thead th {\n",
       "        text-align: right;\n",
       "    }\n",
       "</style>\n",
       "<table border=\"1\" class=\"dataframe\">\n",
       "  <thead>\n",
       "    <tr style=\"text-align: right;\">\n",
       "      <th></th>\n",
       "      <th>동</th>\n",
       "      <th>단지명</th>\n",
       "      <th>전용면적</th>\n",
       "      <th>계약년월</th>\n",
       "      <th>층</th>\n",
       "      <th>건축년도</th>\n",
       "      <th>금리</th>\n",
       "      <th>부동산소비심리</th>\n",
       "      <th>보증금</th>\n",
       "    </tr>\n",
       "  </thead>\n",
       "  <tbody>\n",
       "    <tr>\n",
       "      <th>0</th>\n",
       "      <td>165</td>\n",
       "      <td>2059</td>\n",
       "      <td>79.97</td>\n",
       "      <td>0</td>\n",
       "      <td>4</td>\n",
       "      <td>26</td>\n",
       "      <td>1.5</td>\n",
       "      <td>117.6</td>\n",
       "      <td>44000</td>\n",
       "    </tr>\n",
       "    <tr>\n",
       "      <th>1</th>\n",
       "      <td>165</td>\n",
       "      <td>2059</td>\n",
       "      <td>79.97</td>\n",
       "      <td>0</td>\n",
       "      <td>3</td>\n",
       "      <td>26</td>\n",
       "      <td>1.5</td>\n",
       "      <td>117.6</td>\n",
       "      <td>42000</td>\n",
       "    </tr>\n",
       "    <tr>\n",
       "      <th>2</th>\n",
       "      <td>165</td>\n",
       "      <td>453</td>\n",
       "      <td>133.46</td>\n",
       "      <td>0</td>\n",
       "      <td>8</td>\n",
       "      <td>23</td>\n",
       "      <td>1.5</td>\n",
       "      <td>117.6</td>\n",
       "      <td>80000</td>\n",
       "    </tr>\n",
       "    <tr>\n",
       "      <th>3</th>\n",
       "      <td>165</td>\n",
       "      <td>453</td>\n",
       "      <td>104.43</td>\n",
       "      <td>0</td>\n",
       "      <td>6</td>\n",
       "      <td>23</td>\n",
       "      <td>1.5</td>\n",
       "      <td>117.6</td>\n",
       "      <td>52000</td>\n",
       "    </tr>\n",
       "    <tr>\n",
       "      <th>4</th>\n",
       "      <td>165</td>\n",
       "      <td>453</td>\n",
       "      <td>104.43</td>\n",
       "      <td>0</td>\n",
       "      <td>3</td>\n",
       "      <td>23</td>\n",
       "      <td>1.5</td>\n",
       "      <td>117.6</td>\n",
       "      <td>55000</td>\n",
       "    </tr>\n",
       "  </tbody>\n",
       "</table>\n",
       "</div>"
      ],
      "text/plain": [
       "     동   단지명    전용면적  계약년월  층  건축년도   금리  부동산소비심리    보증금\n",
       "0  165  2059   79.97     0  4    26  1.5    117.6  44000\n",
       "1  165  2059   79.97     0  3    26  1.5    117.6  42000\n",
       "2  165   453  133.46     0  8    23  1.5    117.6  80000\n",
       "3  165   453  104.43     0  6    23  1.5    117.6  52000\n",
       "4  165   453  104.43     0  3    23  1.5    117.6  55000"
      ]
     },
     "execution_count": 3,
     "metadata": {},
     "output_type": "execute_result"
    }
   ],
   "source": [
    "df.head()"
   ]
  },
  {
   "cell_type": "code",
   "execution_count": 4,
   "id": "7fb15b2a",
   "metadata": {},
   "outputs": [],
   "source": [
    "# 보증금 분산 정도 확인하기\n",
    "# 선형회귀의 가정은 데이터의 분포가 정규분포를 이루고 있다는 것"
   ]
  },
  {
   "cell_type": "code",
   "execution_count": 5,
   "id": "6f1a1fd6",
   "metadata": {},
   "outputs": [
    {
     "name": "stderr",
     "output_type": "stream",
     "text": [
      "C:\\Users\\tjoeun\\anaconda3\\envs\\tf_cpu\\lib\\site-packages\\seaborn\\axisgrid.py:118: UserWarning: Glyph 48372 (\\N{HANGUL SYLLABLE BO}) missing from current font.\n",
      "  self._figure.tight_layout(*args, **kwargs)\n",
      "C:\\Users\\tjoeun\\anaconda3\\envs\\tf_cpu\\lib\\site-packages\\seaborn\\axisgrid.py:118: UserWarning: Glyph 51613 (\\N{HANGUL SYLLABLE JEUNG}) missing from current font.\n",
      "  self._figure.tight_layout(*args, **kwargs)\n",
      "C:\\Users\\tjoeun\\anaconda3\\envs\\tf_cpu\\lib\\site-packages\\seaborn\\axisgrid.py:118: UserWarning: Glyph 44552 (\\N{HANGUL SYLLABLE GEUM}) missing from current font.\n",
      "  self._figure.tight_layout(*args, **kwargs)\n"
     ]
    },
    {
     "data": {
      "text/plain": [
       "<Figure size 640x480 with 0 Axes>"
      ]
     },
     "metadata": {},
     "output_type": "display_data"
    },
    {
     "data": {
      "image/png": "[encoded data removed]",
      "text/plain": [
       "<Figure size 500x500 with 1 Axes>"
      ]
     },
     "metadata": {},
     "output_type": "display_data"
    }
   ],
   "source": [
    "plt.figure()\n",
    "sns.displot(df['보증금'], bins=30, kde=True)\n",
    "plt.xlabel('Price(10000 won)')\n",
    "plt.title('Distribution of Price')\n",
    "plt.show()"
   ]
  },
  {
   "cell_type": "code",
   "execution_count": 6,
   "id": "b679d448",
   "metadata": {},
   "outputs": [],
   "source": [
    "# 많이는 아니지만 왼쪽으로 왜도가 치우침\n",
    "# 로그로 변환 해보기"
   ]
  },
  {
   "cell_type": "code",
   "execution_count": 7,
   "id": "bba42b37",
   "metadata": {},
   "outputs": [],
   "source": [
    "# 가격 로그 변환 후 원래 가격 따로 저장\n",
    "df['log_price'] = np.log1p(df['보증금'])\n",
    "real_price = df['보증금'] # 원래 가격"
   ]
  },
  {
   "cell_type": "code",
   "execution_count": 8,
   "id": "32555a85",
   "metadata": {},
   "outputs": [
    {
     "data": {
      "image/png": "[encoded data removed]",
      "text/plain": [
       "<Figure size 1200x600 with 2 Axes>"
      ]
     },
     "metadata": {},
     "output_type": "display_data"
    }
   ],
   "source": [
    "f, (ax1, ax2) = plt.subplots(1,2,figsize=(12,6))\n",
    "\n",
    "ax1.hist(real_price, bins=30)\n",
    "ax1.set_title('Price Distribution')\n",
    "ax1.set_xlabel('Price')\n",
    "\n",
    "ax2.hist(df['log_price'], bins=30)\n",
    "ax2.set_title('Log Price Distribution')\n",
    "ax2.set_xlabel('Log Price')\n",
    "\n",
    "plt.show()"
   ]
  },
  {
   "cell_type": "code",
   "execution_count": 9,
   "id": "7f9d4e58",
   "metadata": {},
   "outputs": [],
   "source": [
    "# 로그변환했을 때 오른쪽으로 더 치우침"
   ]
  },
  {
   "cell_type": "code",
   "execution_count": 10,
   "id": "3cfe51f5",
   "metadata": {},
   "outputs": [],
   "source": [
    "# 제곱근 변환 후 원래 가격 따로 저장\n",
    "df['sqrt_price'] = np.sqrt(df['보증금'])"
   ]
  },
  {
   "cell_type": "code",
   "execution_count": 11,
   "id": "22da18df",
   "metadata": {},
   "outputs": [
    {
     "data": {
      "image/png": "[encoded data removed]",
      "text/plain": [
       "<Figure size 1200x600 with 2 Axes>"
      ]
     },
     "metadata": {},
     "output_type": "display_data"
    }
   ],
   "source": [
    "f, (ax1, ax2) = plt.subplots(1,2,figsize=(12,6))\n",
    "\n",
    "ax1.hist(real_price, bins=30)\n",
    "ax1.set_title('Price Distribution')\n",
    "ax1.set_xlabel('Price')\n",
    "\n",
    "ax2.hist(df['sqrt_price'], bins=30)\n",
    "ax2.set_title('Sqrt Price Distribution')\n",
    "ax2.set_xlabel('sqrt_price')\n",
    "\n",
    "plt.show()"
   ]
  },
  {
   "cell_type": "code",
   "execution_count": 12,
   "id": "8ef5255a",
   "metadata": {},
   "outputs": [],
   "source": [
    "#제곱근으로 했을때 훨씬 정규화를 이루는 것을 알 수 있음"
   ]
  },
  {
   "cell_type": "code",
   "execution_count": 13,
   "id": "6a84942c",
   "metadata": {},
   "outputs": [
    {
     "data": {
      "text/html": [
       "<div>\n",
       "<style scoped>\n",
       "    .dataframe tbody tr th:only-of-type {\n",
       "        vertical-align: middle;\n",
       "    }\n",
       "\n",
       "    .dataframe tbody tr th {\n",
       "        vertical-align: top;\n",
       "    }\n",
       "\n",
       "    .dataframe thead th {\n",
       "        text-align: right;\n",
       "    }\n",
       "</style>\n",
       "<table border=\"1\" class=\"dataframe\">\n",
       "  <thead>\n",
       "    <tr style=\"text-align: right;\">\n",
       "      <th></th>\n",
       "      <th>동</th>\n",
       "      <th>단지명</th>\n",
       "      <th>전용면적</th>\n",
       "      <th>계약년월</th>\n",
       "      <th>층</th>\n",
       "      <th>건축년도</th>\n",
       "      <th>금리</th>\n",
       "      <th>부동산소비심리</th>\n",
       "      <th>보증금</th>\n",
       "      <th>log_price</th>\n",
       "      <th>sqrt_price</th>\n",
       "    </tr>\n",
       "  </thead>\n",
       "  <tbody>\n",
       "    <tr>\n",
       "      <th>0</th>\n",
       "      <td>165</td>\n",
       "      <td>2059</td>\n",
       "      <td>79.97</td>\n",
       "      <td>0</td>\n",
       "      <td>4</td>\n",
       "      <td>26</td>\n",
       "      <td>1.5</td>\n",
       "      <td>117.6</td>\n",
       "      <td>44000</td>\n",
       "      <td>10.691968</td>\n",
       "      <td>209.761770</td>\n",
       "    </tr>\n",
       "    <tr>\n",
       "      <th>1</th>\n",
       "      <td>165</td>\n",
       "      <td>2059</td>\n",
       "      <td>79.97</td>\n",
       "      <td>0</td>\n",
       "      <td>3</td>\n",
       "      <td>26</td>\n",
       "      <td>1.5</td>\n",
       "      <td>117.6</td>\n",
       "      <td>42000</td>\n",
       "      <td>10.645449</td>\n",
       "      <td>204.939015</td>\n",
       "    </tr>\n",
       "    <tr>\n",
       "      <th>2</th>\n",
       "      <td>165</td>\n",
       "      <td>453</td>\n",
       "      <td>133.46</td>\n",
       "      <td>0</td>\n",
       "      <td>8</td>\n",
       "      <td>23</td>\n",
       "      <td>1.5</td>\n",
       "      <td>117.6</td>\n",
       "      <td>80000</td>\n",
       "      <td>11.289794</td>\n",
       "      <td>282.842712</td>\n",
       "    </tr>\n",
       "    <tr>\n",
       "      <th>3</th>\n",
       "      <td>165</td>\n",
       "      <td>453</td>\n",
       "      <td>104.43</td>\n",
       "      <td>0</td>\n",
       "      <td>6</td>\n",
       "      <td>23</td>\n",
       "      <td>1.5</td>\n",
       "      <td>117.6</td>\n",
       "      <td>52000</td>\n",
       "      <td>10.859018</td>\n",
       "      <td>228.035085</td>\n",
       "    </tr>\n",
       "    <tr>\n",
       "      <th>4</th>\n",
       "      <td>165</td>\n",
       "      <td>453</td>\n",
       "      <td>104.43</td>\n",
       "      <td>0</td>\n",
       "      <td>3</td>\n",
       "      <td>23</td>\n",
       "      <td>1.5</td>\n",
       "      <td>117.6</td>\n",
       "      <td>55000</td>\n",
       "      <td>10.915107</td>\n",
       "      <td>234.520788</td>\n",
       "    </tr>\n",
       "  </tbody>\n",
       "</table>\n",
       "</div>"
      ],
      "text/plain": [
       "     동   단지명    전용면적  계약년월  층  건축년도   금리  부동산소비심리    보증금  log_price  \\\n",
       "0  165  2059   79.97     0  4    26  1.5    117.6  44000  10.691968   \n",
       "1  165  2059   79.97     0  3    26  1.5    117.6  42000  10.645449   \n",
       "2  165   453  133.46     0  8    23  1.5    117.6  80000  11.289794   \n",
       "3  165   453  104.43     0  6    23  1.5    117.6  52000  10.859018   \n",
       "4  165   453  104.43     0  3    23  1.5    117.6  55000  10.915107   \n",
       "\n",
       "   sqrt_price  \n",
       "0  209.761770  \n",
       "1  204.939015  \n",
       "2  282.842712  \n",
       "3  228.035085  \n",
       "4  234.520788  "
      ]
     },
     "execution_count": 13,
     "metadata": {},
     "output_type": "execute_result"
    }
   ],
   "source": [
    "df.head()"
   ]
  },
  {
   "cell_type": "code",
   "execution_count": 14,
   "id": "b5f06441",
   "metadata": {},
   "outputs": [],
   "source": [
    "# 데이터 정리하기\n",
    "df.drop('log_price', axis=1, inplace=True)"
   ]
  },
  {
   "cell_type": "code",
   "execution_count": 15,
   "id": "f6821cd0",
   "metadata": {},
   "outputs": [
    {
     "data": {
      "text/html": [
       "<div>\n",
       "<style scoped>\n",
       "    .dataframe tbody tr th:only-of-type {\n",
       "        vertical-align: middle;\n",
       "    }\n",
       "\n",
       "    .dataframe tbody tr th {\n",
       "        vertical-align: top;\n",
       "    }\n",
       "\n",
       "    .dataframe thead th {\n",
       "        text-align: right;\n",
       "    }\n",
       "</style>\n",
       "<table border=\"1\" class=\"dataframe\">\n",
       "  <thead>\n",
       "    <tr style=\"text-align: right;\">\n",
       "      <th></th>\n",
       "      <th>동</th>\n",
       "      <th>단지명</th>\n",
       "      <th>전용면적</th>\n",
       "      <th>계약년월</th>\n",
       "      <th>층</th>\n",
       "      <th>건축년도</th>\n",
       "      <th>금리</th>\n",
       "      <th>부동산소비심리</th>\n",
       "      <th>보증금</th>\n",
       "      <th>sqrt_price</th>\n",
       "    </tr>\n",
       "  </thead>\n",
       "  <tbody>\n",
       "    <tr>\n",
       "      <th>0</th>\n",
       "      <td>165</td>\n",
       "      <td>2059</td>\n",
       "      <td>79.97</td>\n",
       "      <td>0</td>\n",
       "      <td>4</td>\n",
       "      <td>26</td>\n",
       "      <td>1.5</td>\n",
       "      <td>117.6</td>\n",
       "      <td>44000</td>\n",
       "      <td>209.761770</td>\n",
       "    </tr>\n",
       "    <tr>\n",
       "      <th>1</th>\n",
       "      <td>165</td>\n",
       "      <td>2059</td>\n",
       "      <td>79.97</td>\n",
       "      <td>0</td>\n",
       "      <td>3</td>\n",
       "      <td>26</td>\n",
       "      <td>1.5</td>\n",
       "      <td>117.6</td>\n",
       "      <td>42000</td>\n",
       "      <td>204.939015</td>\n",
       "    </tr>\n",
       "    <tr>\n",
       "      <th>2</th>\n",
       "      <td>165</td>\n",
       "      <td>453</td>\n",
       "      <td>133.46</td>\n",
       "      <td>0</td>\n",
       "      <td>8</td>\n",
       "      <td>23</td>\n",
       "      <td>1.5</td>\n",
       "      <td>117.6</td>\n",
       "      <td>80000</td>\n",
       "      <td>282.842712</td>\n",
       "    </tr>\n",
       "    <tr>\n",
       "      <th>3</th>\n",
       "      <td>165</td>\n",
       "      <td>453</td>\n",
       "      <td>104.43</td>\n",
       "      <td>0</td>\n",
       "      <td>6</td>\n",
       "      <td>23</td>\n",
       "      <td>1.5</td>\n",
       "      <td>117.6</td>\n",
       "      <td>52000</td>\n",
       "      <td>228.035085</td>\n",
       "    </tr>\n",
       "    <tr>\n",
       "      <th>4</th>\n",
       "      <td>165</td>\n",
       "      <td>453</td>\n",
       "      <td>104.43</td>\n",
       "      <td>0</td>\n",
       "      <td>3</td>\n",
       "      <td>23</td>\n",
       "      <td>1.5</td>\n",
       "      <td>117.6</td>\n",
       "      <td>55000</td>\n",
       "      <td>234.520788</td>\n",
       "    </tr>\n",
       "  </tbody>\n",
       "</table>\n",
       "</div>"
      ],
      "text/plain": [
       "     동   단지명    전용면적  계약년월  층  건축년도   금리  부동산소비심리    보증금  sqrt_price\n",
       "0  165  2059   79.97     0  4    26  1.5    117.6  44000  209.761770\n",
       "1  165  2059   79.97     0  3    26  1.5    117.6  42000  204.939015\n",
       "2  165   453  133.46     0  8    23  1.5    117.6  80000  282.842712\n",
       "3  165   453  104.43     0  6    23  1.5    117.6  52000  228.035085\n",
       "4  165   453  104.43     0  3    23  1.5    117.6  55000  234.520788"
      ]
     },
     "execution_count": 15,
     "metadata": {},
     "output_type": "execute_result"
    }
   ],
   "source": [
    "df.head()"
   ]
  },
  {
   "cell_type": "code",
   "execution_count": 16,
   "id": "6727f442",
   "metadata": {},
   "outputs": [],
   "source": [
    "# 면적 확인하기"
   ]
  },
  {
   "cell_type": "code",
   "execution_count": 17,
   "id": "87be4fe9",
   "metadata": {},
   "outputs": [
    {
     "name": "stderr",
     "output_type": "stream",
     "text": [
      "C:\\Users\\tjoeun\\anaconda3\\envs\\tf_cpu\\lib\\site-packages\\seaborn\\axisgrid.py:118: UserWarning: Glyph 51204 (\\N{HANGUL SYLLABLE JEON}) missing from current font.\n",
      "  self._figure.tight_layout(*args, **kwargs)\n",
      "C:\\Users\\tjoeun\\anaconda3\\envs\\tf_cpu\\lib\\site-packages\\seaborn\\axisgrid.py:118: UserWarning: Glyph 50857 (\\N{HANGUL SYLLABLE YONG}) missing from current font.\n",
      "  self._figure.tight_layout(*args, **kwargs)\n",
      "C:\\Users\\tjoeun\\anaconda3\\envs\\tf_cpu\\lib\\site-packages\\seaborn\\axisgrid.py:118: UserWarning: Glyph 47732 (\\N{HANGUL SYLLABLE MYEON}) missing from current font.\n",
      "  self._figure.tight_layout(*args, **kwargs)\n",
      "C:\\Users\\tjoeun\\anaconda3\\envs\\tf_cpu\\lib\\site-packages\\seaborn\\axisgrid.py:118: UserWarning: Glyph 51201 (\\N{HANGUL SYLLABLE JEOG}) missing from current font.\n",
      "  self._figure.tight_layout(*args, **kwargs)\n"
     ]
    },
    {
     "data": {
      "text/plain": [
       "<Figure size 640x480 with 0 Axes>"
      ]
     },
     "metadata": {},
     "output_type": "display_data"
    },
    {
     "data": {
      "image/png": "[encoded data removed]",
      "text/plain": [
       "<Figure size 500x500 with 1 Axes>"
      ]
     },
     "metadata": {},
     "output_type": "display_data"
    }
   ],
   "source": [
    "plt.figure()\n",
    "sns.displot(df['전용면적'], bins=30)\n",
    "plt.xlabel('Area(Square meter)')\n",
    "plt.title('Distribution of Area')\n",
    "plt.show()"
   ]
  },
  {
   "cell_type": "code",
   "execution_count": 18,
   "id": "c1645849",
   "metadata": {},
   "outputs": [
    {
     "data": {
      "image/png": "[encoded data removed]",
      "text/plain": [
       "<Figure size 1200x600 with 2 Axes>"
      ]
     },
     "metadata": {},
     "output_type": "display_data"
    }
   ],
   "source": [
    "# 제곱근\n",
    "df['sqrt_area'] = np.sqrt(df['전용면적'])\n",
    "real_area = df['전용면적']\n",
    "\n",
    "f, (ax1, ax2) = plt.subplots(1,2,figsize=(12,6))\n",
    "\n",
    "ax1.hist(real_area, bins=30)\n",
    "ax1.set_title('Distribution of Area')\n",
    "ax1.set_xlabel('Area')\n",
    "\n",
    "ax2.hist(df['sqrt_area'], bins=30)\n",
    "ax2.set_title('Distribution of Sqrt Area')\n",
    "ax2.set_xlabel('Area')\n",
    "\n",
    "plt.show()"
   ]
  },
  {
   "cell_type": "code",
   "execution_count": 19,
   "id": "9e97b82b",
   "metadata": {},
   "outputs": [
    {
     "data": {
      "text/html": [
       "<div>\n",
       "<style scoped>\n",
       "    .dataframe tbody tr th:only-of-type {\n",
       "        vertical-align: middle;\n",
       "    }\n",
       "\n",
       "    .dataframe tbody tr th {\n",
       "        vertical-align: top;\n",
       "    }\n",
       "\n",
       "    .dataframe thead th {\n",
       "        text-align: right;\n",
       "    }\n",
       "</style>\n",
       "<table border=\"1\" class=\"dataframe\">\n",
       "  <thead>\n",
       "    <tr style=\"text-align: right;\">\n",
       "      <th></th>\n",
       "      <th>동</th>\n",
       "      <th>단지명</th>\n",
       "      <th>전용면적</th>\n",
       "      <th>계약년월</th>\n",
       "      <th>층</th>\n",
       "      <th>건축년도</th>\n",
       "      <th>금리</th>\n",
       "      <th>부동산소비심리</th>\n",
       "      <th>보증금</th>\n",
       "      <th>sqrt_price</th>\n",
       "      <th>sqrt_area</th>\n",
       "    </tr>\n",
       "  </thead>\n",
       "  <tbody>\n",
       "    <tr>\n",
       "      <th>0</th>\n",
       "      <td>165</td>\n",
       "      <td>2059</td>\n",
       "      <td>79.97</td>\n",
       "      <td>0</td>\n",
       "      <td>4</td>\n",
       "      <td>26</td>\n",
       "      <td>1.5</td>\n",
       "      <td>117.6</td>\n",
       "      <td>44000</td>\n",
       "      <td>209.761770</td>\n",
       "      <td>8.942595</td>\n",
       "    </tr>\n",
       "    <tr>\n",
       "      <th>1</th>\n",
       "      <td>165</td>\n",
       "      <td>2059</td>\n",
       "      <td>79.97</td>\n",
       "      <td>0</td>\n",
       "      <td>3</td>\n",
       "      <td>26</td>\n",
       "      <td>1.5</td>\n",
       "      <td>117.6</td>\n",
       "      <td>42000</td>\n",
       "      <td>204.939015</td>\n",
       "      <td>8.942595</td>\n",
       "    </tr>\n",
       "    <tr>\n",
       "      <th>2</th>\n",
       "      <td>165</td>\n",
       "      <td>453</td>\n",
       "      <td>133.46</td>\n",
       "      <td>0</td>\n",
       "      <td>8</td>\n",
       "      <td>23</td>\n",
       "      <td>1.5</td>\n",
       "      <td>117.6</td>\n",
       "      <td>80000</td>\n",
       "      <td>282.842712</td>\n",
       "      <td>11.552489</td>\n",
       "    </tr>\n",
       "    <tr>\n",
       "      <th>3</th>\n",
       "      <td>165</td>\n",
       "      <td>453</td>\n",
       "      <td>104.43</td>\n",
       "      <td>0</td>\n",
       "      <td>6</td>\n",
       "      <td>23</td>\n",
       "      <td>1.5</td>\n",
       "      <td>117.6</td>\n",
       "      <td>52000</td>\n",
       "      <td>228.035085</td>\n",
       "      <td>10.219100</td>\n",
       "    </tr>\n",
       "    <tr>\n",
       "      <th>4</th>\n",
       "      <td>165</td>\n",
       "      <td>453</td>\n",
       "      <td>104.43</td>\n",
       "      <td>0</td>\n",
       "      <td>3</td>\n",
       "      <td>23</td>\n",
       "      <td>1.5</td>\n",
       "      <td>117.6</td>\n",
       "      <td>55000</td>\n",
       "      <td>234.520788</td>\n",
       "      <td>10.219100</td>\n",
       "    </tr>\n",
       "  </tbody>\n",
       "</table>\n",
       "</div>"
      ],
      "text/plain": [
       "     동   단지명    전용면적  계약년월  층  건축년도   금리  부동산소비심리    보증금  sqrt_price  \\\n",
       "0  165  2059   79.97     0  4    26  1.5    117.6  44000  209.761770   \n",
       "1  165  2059   79.97     0  3    26  1.5    117.6  42000  204.939015   \n",
       "2  165   453  133.46     0  8    23  1.5    117.6  80000  282.842712   \n",
       "3  165   453  104.43     0  6    23  1.5    117.6  52000  228.035085   \n",
       "4  165   453  104.43     0  3    23  1.5    117.6  55000  234.520788   \n",
       "\n",
       "   sqrt_area  \n",
       "0   8.942595  \n",
       "1   8.942595  \n",
       "2  11.552489  \n",
       "3  10.219100  \n",
       "4  10.219100  "
      ]
     },
     "execution_count": 19,
     "metadata": {},
     "output_type": "execute_result"
    }
   ],
   "source": [
    "df.head()"
   ]
  },
  {
   "cell_type": "code",
   "execution_count": 20,
   "id": "af06a2c8",
   "metadata": {},
   "outputs": [],
   "source": [
    "# 자료 정리하기\n",
    "df.drop('전용면적', axis=1, inplace=True)\n",
    "df.drop('보증금', axis=1, inplace=True)\n",
    "\n",
    "df= df[['동', '단지명', '계약년월', '층', '건축년도', '금리', '부동산소비심리', 'sqrt_area', 'sqrt_price']]"
   ]
  },
  {
   "cell_type": "code",
   "execution_count": 21,
   "id": "c9d5da0d",
   "metadata": {},
   "outputs": [
    {
     "data": {
      "text/html": [
       "<div>\n",
       "<style scoped>\n",
       "    .dataframe tbody tr th:only-of-type {\n",
       "        vertical-align: middle;\n",
       "    }\n",
       "\n",
       "    .dataframe tbody tr th {\n",
       "        vertical-align: top;\n",
       "    }\n",
       "\n",
       "    .dataframe thead th {\n",
       "        text-align: right;\n",
       "    }\n",
       "</style>\n",
       "<table border=\"1\" class=\"dataframe\">\n",
       "  <thead>\n",
       "    <tr style=\"text-align: right;\">\n",
       "      <th></th>\n",
       "      <th>동</th>\n",
       "      <th>단지명</th>\n",
       "      <th>계약년월</th>\n",
       "      <th>층</th>\n",
       "      <th>건축년도</th>\n",
       "      <th>금리</th>\n",
       "      <th>부동산소비심리</th>\n",
       "      <th>sqrt_area</th>\n",
       "      <th>sqrt_price</th>\n",
       "    </tr>\n",
       "  </thead>\n",
       "  <tbody>\n",
       "    <tr>\n",
       "      <th>0</th>\n",
       "      <td>165</td>\n",
       "      <td>2059</td>\n",
       "      <td>0</td>\n",
       "      <td>4</td>\n",
       "      <td>26</td>\n",
       "      <td>1.5</td>\n",
       "      <td>117.6</td>\n",
       "      <td>8.942595</td>\n",
       "      <td>209.761770</td>\n",
       "    </tr>\n",
       "    <tr>\n",
       "      <th>1</th>\n",
       "      <td>165</td>\n",
       "      <td>2059</td>\n",
       "      <td>0</td>\n",
       "      <td>3</td>\n",
       "      <td>26</td>\n",
       "      <td>1.5</td>\n",
       "      <td>117.6</td>\n",
       "      <td>8.942595</td>\n",
       "      <td>204.939015</td>\n",
       "    </tr>\n",
       "    <tr>\n",
       "      <th>2</th>\n",
       "      <td>165</td>\n",
       "      <td>453</td>\n",
       "      <td>0</td>\n",
       "      <td>8</td>\n",
       "      <td>23</td>\n",
       "      <td>1.5</td>\n",
       "      <td>117.6</td>\n",
       "      <td>11.552489</td>\n",
       "      <td>282.842712</td>\n",
       "    </tr>\n",
       "    <tr>\n",
       "      <th>3</th>\n",
       "      <td>165</td>\n",
       "      <td>453</td>\n",
       "      <td>0</td>\n",
       "      <td>6</td>\n",
       "      <td>23</td>\n",
       "      <td>1.5</td>\n",
       "      <td>117.6</td>\n",
       "      <td>10.219100</td>\n",
       "      <td>228.035085</td>\n",
       "    </tr>\n",
       "    <tr>\n",
       "      <th>4</th>\n",
       "      <td>165</td>\n",
       "      <td>453</td>\n",
       "      <td>0</td>\n",
       "      <td>3</td>\n",
       "      <td>23</td>\n",
       "      <td>1.5</td>\n",
       "      <td>117.6</td>\n",
       "      <td>10.219100</td>\n",
       "      <td>234.520788</td>\n",
       "    </tr>\n",
       "  </tbody>\n",
       "</table>\n",
       "</div>"
      ],
      "text/plain": [
       "     동   단지명  계약년월  층  건축년도   금리  부동산소비심리  sqrt_area  sqrt_price\n",
       "0  165  2059     0  4    26  1.5    117.6   8.942595  209.761770\n",
       "1  165  2059     0  3    26  1.5    117.6   8.942595  204.939015\n",
       "2  165   453     0  8    23  1.5    117.6  11.552489  282.842712\n",
       "3  165   453     0  6    23  1.5    117.6  10.219100  228.035085\n",
       "4  165   453     0  3    23  1.5    117.6  10.219100  234.520788"
      ]
     },
     "execution_count": 21,
     "metadata": {},
     "output_type": "execute_result"
    }
   ],
   "source": [
    "df.head()"
   ]
  },
  {
   "cell_type": "code",
   "execution_count": 22,
   "id": "beac5f42",
   "metadata": {},
   "outputs": [
    {
     "name": "stdout",
     "output_type": "stream",
     "text": [
      "<class 'pandas.core.frame.DataFrame'>\n",
      "RangeIndex: 320979 entries, 0 to 320978\n",
      "Data columns (total 9 columns):\n",
      " #   Column      Non-Null Count   Dtype  \n",
      "---  ------      --------------   -----  \n",
      " 0   동           320979 non-null  int64  \n",
      " 1   단지명         320979 non-null  int64  \n",
      " 2   계약년월        320979 non-null  int64  \n",
      " 3   층           320979 non-null  int64  \n",
      " 4   건축년도        320979 non-null  int64  \n",
      " 5   금리          320979 non-null  float64\n",
      " 6   부동산소비심리     320979 non-null  float64\n",
      " 7   sqrt_area   320979 non-null  float64\n",
      " 8   sqrt_price  320979 non-null  float64\n",
      "dtypes: float64(4), int64(5)\n",
      "memory usage: 22.0 MB\n"
     ]
    }
   ],
   "source": [
    "df.info()"
   ]
  },
  {
   "cell_type": "markdown",
   "id": "9cac723f",
   "metadata": {},
   "source": [
    "# 데이터 정규화하기"
   ]
  },
  {
   "cell_type": "code",
   "execution_count": 23,
   "id": "72dbf4cf",
   "metadata": {},
   "outputs": [],
   "source": [
    "# MinMaxScaler 클래스 생성\n",
    "scaler = MinMaxScaler()\n",
    "\n",
    "# MinMaxScaler 클래스의 fit_transform() 메서드 사용 데이터 정규화\n",
    "normalized_data = scaler.fit_transform(df)\n",
    "\n",
    "# 정규화된 데이터, 데이터 프레임으로 다시 변환\n",
    "normalized_df = pd.DataFrame(normalized_data, columns=df.columns)"
   ]
  },
  {
   "cell_type": "code",
   "execution_count": 24,
   "id": "9d25d0ec",
   "metadata": {},
   "outputs": [
    {
     "data": {
      "text/html": [
       "<div>\n",
       "<style scoped>\n",
       "    .dataframe tbody tr th:only-of-type {\n",
       "        vertical-align: middle;\n",
       "    }\n",
       "\n",
       "    .dataframe tbody tr th {\n",
       "        vertical-align: top;\n",
       "    }\n",
       "\n",
       "    .dataframe thead th {\n",
       "        text-align: right;\n",
       "    }\n",
       "</style>\n",
       "<table border=\"1\" class=\"dataframe\">\n",
       "  <thead>\n",
       "    <tr style=\"text-align: right;\">\n",
       "      <th></th>\n",
       "      <th>동</th>\n",
       "      <th>단지명</th>\n",
       "      <th>계약년월</th>\n",
       "      <th>층</th>\n",
       "      <th>건축년도</th>\n",
       "      <th>금리</th>\n",
       "      <th>부동산소비심리</th>\n",
       "      <th>sqrt_area</th>\n",
       "      <th>sqrt_price</th>\n",
       "    </tr>\n",
       "  </thead>\n",
       "  <tbody>\n",
       "    <tr>\n",
       "      <th>0</th>\n",
       "      <td>0.498489</td>\n",
       "      <td>0.310464</td>\n",
       "      <td>0.0</td>\n",
       "      <td>0.058824</td>\n",
       "      <td>0.456140</td>\n",
       "      <td>0.5</td>\n",
       "      <td>0.589552</td>\n",
       "      <td>0.393781</td>\n",
       "      <td>0.637707</td>\n",
       "    </tr>\n",
       "    <tr>\n",
       "      <th>1</th>\n",
       "      <td>0.498489</td>\n",
       "      <td>0.310464</td>\n",
       "      <td>0.0</td>\n",
       "      <td>0.044118</td>\n",
       "      <td>0.456140</td>\n",
       "      <td>0.5</td>\n",
       "      <td>0.589552</td>\n",
       "      <td>0.393781</td>\n",
       "      <td>0.621296</td>\n",
       "    </tr>\n",
       "    <tr>\n",
       "      <th>2</th>\n",
       "      <td>0.498489</td>\n",
       "      <td>0.068305</td>\n",
       "      <td>0.0</td>\n",
       "      <td>0.117647</td>\n",
       "      <td>0.403509</td>\n",
       "      <td>0.5</td>\n",
       "      <td>0.589552</td>\n",
       "      <td>0.572113</td>\n",
       "      <td>0.886394</td>\n",
       "    </tr>\n",
       "    <tr>\n",
       "      <th>3</th>\n",
       "      <td>0.498489</td>\n",
       "      <td>0.068305</td>\n",
       "      <td>0.0</td>\n",
       "      <td>0.088235</td>\n",
       "      <td>0.403509</td>\n",
       "      <td>0.5</td>\n",
       "      <td>0.589552</td>\n",
       "      <td>0.481004</td>\n",
       "      <td>0.699889</td>\n",
       "    </tr>\n",
       "    <tr>\n",
       "      <th>4</th>\n",
       "      <td>0.498489</td>\n",
       "      <td>0.068305</td>\n",
       "      <td>0.0</td>\n",
       "      <td>0.044118</td>\n",
       "      <td>0.403509</td>\n",
       "      <td>0.5</td>\n",
       "      <td>0.589552</td>\n",
       "      <td>0.481004</td>\n",
       "      <td>0.721959</td>\n",
       "    </tr>\n",
       "  </tbody>\n",
       "</table>\n",
       "</div>"
      ],
      "text/plain": [
       "          동       단지명  계약년월         층      건축년도   금리   부동산소비심리  sqrt_area  \\\n",
       "0  0.498489  0.310464   0.0  0.058824  0.456140  0.5  0.589552   0.393781   \n",
       "1  0.498489  0.310464   0.0  0.044118  0.456140  0.5  0.589552   0.393781   \n",
       "2  0.498489  0.068305   0.0  0.117647  0.403509  0.5  0.589552   0.572113   \n",
       "3  0.498489  0.068305   0.0  0.088235  0.403509  0.5  0.589552   0.481004   \n",
       "4  0.498489  0.068305   0.0  0.044118  0.403509  0.5  0.589552   0.481004   \n",
       "\n",
       "   sqrt_price  \n",
       "0    0.637707  \n",
       "1    0.621296  \n",
       "2    0.886394  \n",
       "3    0.699889  \n",
       "4    0.721959  "
      ]
     },
     "execution_count": 24,
     "metadata": {},
     "output_type": "execute_result"
    }
   ],
   "source": [
    "normalized_df.head()"
   ]
  },
  {
   "cell_type": "code",
   "execution_count": 25,
   "id": "9875d725",
   "metadata": {},
   "outputs": [],
   "source": [
    " ndf = normalized_df.copy()"
   ]
  },
  {
   "cell_type": "markdown",
   "id": "72e0edb6",
   "metadata": {},
   "source": [
    "# 데이터  나누기"
   ]
  },
  {
   "cell_type": "code",
   "execution_count": 26,
   "id": "64d05fe0",
   "metadata": {},
   "outputs": [],
   "source": [
    "X = ndf.iloc[:, :-1]\n",
    "y = ndf.iloc[:, -1]\n",
    "\n",
    "X_train, X_test, y_train, y_test = train_test_split(X, y, test_size=0.2)"
   ]
  },
  {
   "cell_type": "code",
   "execution_count": 27,
   "id": "f95296bc",
   "metadata": {},
   "outputs": [
    {
     "name": "stdout",
     "output_type": "stream",
     "text": [
      "(256783, 8) (256783,)\n"
     ]
    }
   ],
   "source": [
    "print(X_train.shape, y_train.shape)"
   ]
  },
  {
   "cell_type": "code",
   "execution_count": 28,
   "id": "5f75f6cd",
   "metadata": {},
   "outputs": [
    {
     "name": "stdout",
     "output_type": "stream",
     "text": [
      "(256783, 8) (64196, 8)\n",
      "(231104, 8) (25679, 8)\n"
     ]
    }
   ],
   "source": [
    "# 위에서 만든 X_train, y_train을 다시 쪼개서 90%는 학습, 10%는 검증용 데이터로 분리\n",
    "X_tr, X_val, y_tr, y_val= train_test_split(X_train, y_train, test_size=0.1, random_state=156)\n",
    "\n",
    "print(X_train.shape, X_test.shape)\n",
    "print(X_tr.shape, X_val.shape)"
   ]
  },
  {
   "cell_type": "markdown",
   "id": "7b0f03c2",
   "metadata": {},
   "source": [
    "# DecisionTreeRegresson"
   ]
  },
  {
   "cell_type": "code",
   "execution_count": 29,
   "id": "92df5d27",
   "metadata": {
    "scrolled": true
   },
   "outputs": [
    {
     "name": "stderr",
     "output_type": "stream",
     "text": [
      "C:\\Users\\tjoeun\\anaconda3\\envs\\tf_cpu\\lib\\site-packages\\sklearn\\tree\\_classes.py:277: FutureWarning: `max_features='auto'` has been deprecated in 1.1 and will be removed in 1.3. To keep the past behaviour, explicitly set `max_features=1.0'`.\n",
      "  warnings.warn(\n"
     ]
    },
    {
     "name": "stdout",
     "output_type": "stream",
     "text": [
      "rmse : 0.002474222199329261\n",
      "r2 : 0.906081351967796\n",
      "mae : 0.029049021210036222\n"
     ]
    }
   ],
   "source": [
    "# 클래스 생성\n",
    "regressor = DecisionTreeRegressor(max_depth=23, min_samples_split=10, min_samples_leaf=15, max_features='auto', criterion='squared_error')\n",
    "\n",
    "# 학습\n",
    "regressor.fit(X_train, y_train)\n",
    "\n",
    "# 예측값\n",
    "y_pred = regressor.predict(X_test)\n",
    "\n",
    "# RMSE를 계산(낮을 수록 정확함)\n",
    "rmse = mean_squared_error(y_test, y_pred)\n",
    "print('rmse :',rmse)\n",
    "\n",
    "# R^2을 계산(R^2가 1에 가까울수록 모델이 데이터를 잘 설명)\n",
    "r2 = r2_score(y_test, y_pred)\n",
    "print('r2 :',r2)\n",
    "\n",
    "# MAE를 계산(MAE가 낮을수록 예측값과 실제값이 가까워짐)\n",
    "mae = mean_absolute_error(y_test, y_pred)\n",
    "print('mae :',mae)"
   ]
  },
  {
   "cell_type": "code",
   "execution_count": 30,
   "id": "17e14dff",
   "metadata": {},
   "outputs": [
    {
     "name": "stderr",
     "output_type": "stream",
     "text": [
      "C:\\Users\\tjoeun\\anaconda3\\envs\\tf_cpu\\lib\\site-packages\\sklearn\\tree\\_classes.py:277: FutureWarning: `max_features='auto'` has been deprecated in 1.1 and will be removed in 1.3. To keep the past behaviour, explicitly set `max_features=1.0'`.\n",
      "  warnings.warn(\n",
      "C:\\Users\\tjoeun\\anaconda3\\envs\\tf_cpu\\lib\\site-packages\\sklearn\\tree\\_classes.py:277: FutureWarning: `max_features='auto'` has been deprecated in 1.1 and will be removed in 1.3. To keep the past behaviour, explicitly set `max_features=1.0'`.\n",
      "  warnings.warn(\n",
      "C:\\Users\\tjoeun\\anaconda3\\envs\\tf_cpu\\lib\\site-packages\\sklearn\\tree\\_classes.py:277: FutureWarning: `max_features='auto'` has been deprecated in 1.1 and will be removed in 1.3. To keep the past behaviour, explicitly set `max_features=1.0'`.\n",
      "  warnings.warn(\n",
      "C:\\Users\\tjoeun\\anaconda3\\envs\\tf_cpu\\lib\\site-packages\\sklearn\\tree\\_classes.py:277: FutureWarning: `max_features='auto'` has been deprecated in 1.1 and will be removed in 1.3. To keep the past behaviour, explicitly set `max_features=1.0'`.\n",
      "  warnings.warn(\n",
      "C:\\Users\\tjoeun\\anaconda3\\envs\\tf_cpu\\lib\\site-packages\\sklearn\\tree\\_classes.py:277: FutureWarning: `max_features='auto'` has been deprecated in 1.1 and will be removed in 1.3. To keep the past behaviour, explicitly set `max_features=1.0'`.\n",
      "  warnings.warn(\n"
     ]
    },
    {
     "name": "stdout",
     "output_type": "stream",
     "text": [
      "[0.90375132 0.90173307 0.9024679  0.90009398 0.90185685]\n"
     ]
    }
   ],
   "source": [
    "# 크로스 밸리데이션을 수행합니다.\n",
    "scores = cross_val_score(regressor, X_train, y_train, cv=5)\n",
    "print(scores)"
   ]
  },
  {
   "cell_type": "code",
   "execution_count": null,
   "id": "893c8d75",
   "metadata": {},
   "outputs": [],
   "source": [
    "# rmse : 0.002474222199329261 : 정확도 괜찮음\n",
    "# r2 : 0.906081351967796 : 데이터를 잘 반영하고 있음\n",
    "# mae : 0.029049021210036222 : 성능 많이 훌륭하진 않지만 준수한 모델\n",
    "# cv : [0.90375132 0.90173307 0.9024679  0.90009398 0.90185685] : 과대적합x"
   ]
  },
  {
   "cell_type": "code",
   "execution_count": null,
   "id": "f993fec4",
   "metadata": {},
   "outputs": [],
   "source": []
  },
  {
   "cell_type": "code",
   "execution_count": 35,
   "id": "b9a18d80",
   "metadata": {},
   "outputs": [
    {
     "data": {
      "text/html": [
       "<div>\n",
       "<style scoped>\n",
       "    .dataframe tbody tr th:only-of-type {\n",
       "        vertical-align: middle;\n",
       "    }\n",
       "\n",
       "    .dataframe tbody tr th {\n",
       "        vertical-align: top;\n",
       "    }\n",
       "\n",
       "    .dataframe thead th {\n",
       "        text-align: right;\n",
       "    }\n",
       "</style>\n",
       "<table border=\"1\" class=\"dataframe\">\n",
       "  <thead>\n",
       "    <tr style=\"text-align: right;\">\n",
       "      <th></th>\n",
       "      <th>동</th>\n",
       "      <th>단지명</th>\n",
       "      <th>계약년월</th>\n",
       "      <th>층</th>\n",
       "      <th>건축년도</th>\n",
       "      <th>금리</th>\n",
       "      <th>부동산소비심리</th>\n",
       "      <th>sqrt_area</th>\n",
       "      <th>sqrt_price</th>\n",
       "    </tr>\n",
       "  </thead>\n",
       "  <tbody>\n",
       "    <tr>\n",
       "      <th>0</th>\n",
       "      <td>165.0</td>\n",
       "      <td>2059.0</td>\n",
       "      <td>0.0</td>\n",
       "      <td>4.0</td>\n",
       "      <td>26.0</td>\n",
       "      <td>1.5</td>\n",
       "      <td>117.6</td>\n",
       "      <td>8.942595</td>\n",
       "      <td>209.761770</td>\n",
       "    </tr>\n",
       "    <tr>\n",
       "      <th>1</th>\n",
       "      <td>165.0</td>\n",
       "      <td>2059.0</td>\n",
       "      <td>0.0</td>\n",
       "      <td>3.0</td>\n",
       "      <td>26.0</td>\n",
       "      <td>1.5</td>\n",
       "      <td>117.6</td>\n",
       "      <td>8.942595</td>\n",
       "      <td>204.939015</td>\n",
       "    </tr>\n",
       "    <tr>\n",
       "      <th>2</th>\n",
       "      <td>165.0</td>\n",
       "      <td>453.0</td>\n",
       "      <td>0.0</td>\n",
       "      <td>8.0</td>\n",
       "      <td>23.0</td>\n",
       "      <td>1.5</td>\n",
       "      <td>117.6</td>\n",
       "      <td>11.552489</td>\n",
       "      <td>282.842712</td>\n",
       "    </tr>\n",
       "    <tr>\n",
       "      <th>3</th>\n",
       "      <td>165.0</td>\n",
       "      <td>453.0</td>\n",
       "      <td>0.0</td>\n",
       "      <td>6.0</td>\n",
       "      <td>23.0</td>\n",
       "      <td>1.5</td>\n",
       "      <td>117.6</td>\n",
       "      <td>10.219100</td>\n",
       "      <td>228.035085</td>\n",
       "    </tr>\n",
       "    <tr>\n",
       "      <th>4</th>\n",
       "      <td>165.0</td>\n",
       "      <td>453.0</td>\n",
       "      <td>0.0</td>\n",
       "      <td>3.0</td>\n",
       "      <td>23.0</td>\n",
       "      <td>1.5</td>\n",
       "      <td>117.6</td>\n",
       "      <td>10.219100</td>\n",
       "      <td>234.520788</td>\n",
       "    </tr>\n",
       "  </tbody>\n",
       "</table>\n",
       "</div>"
      ],
      "text/plain": [
       "       동     단지명  계약년월    층  건축년도   금리  부동산소비심리  sqrt_area  sqrt_price\n",
       "0  165.0  2059.0   0.0  4.0  26.0  1.5    117.6   8.942595  209.761770\n",
       "1  165.0  2059.0   0.0  3.0  26.0  1.5    117.6   8.942595  204.939015\n",
       "2  165.0   453.0   0.0  8.0  23.0  1.5    117.6  11.552489  282.842712\n",
       "3  165.0   453.0   0.0  6.0  23.0  1.5    117.6  10.219100  228.035085\n",
       "4  165.0   453.0   0.0  3.0  23.0  1.5    117.6  10.219100  234.520788"
      ]
     },
     "execution_count": 35,
     "metadata": {},
     "output_type": "execute_result"
    }
   ],
   "source": [
    "#역정규화...\n",
    "inverse_normalized_values = scaler.inverse_transform(normalized_df)\n",
    "inverse_normalized_df = pd.DataFrame(inverse_normalized_values, columns=df.columns)\n",
    "inverse_normalized_df.head()"
   ]
  },
  {
   "cell_type": "code",
   "execution_count": null,
   "id": "34e8f00d",
   "metadata": {},
   "outputs": [],
   "source": [
    "plt.plot(inverse_normalized_values)\n",
    "plt.show()"
   ]
  },
  {
   "cell_type": "code",
   "execution_count": null,
   "id": "9c762a18",
   "metadata": {},
   "outputs": [],
   "source": [
    "# 시각화 해보기"
   ]
  },
  {
   "cell_type": "code",
   "execution_count": 31,
   "id": "4558a32c",
   "metadata": {},
   "outputs": [
    {
     "ename": "KeyError",
     "evalue": "'계약년월'",
     "output_type": "error",
     "traceback": [
      "\u001b[1;31m---------------------------------------------------------------------------\u001b[0m",
      "\u001b[1;31mKeyError\u001b[0m                                  Traceback (most recent call last)",
      "Cell \u001b[1;32mIn[31], line 9\u001b[0m\n\u001b[0;32m      6\u001b[0m y_pred \u001b[38;5;241m=\u001b[39m regressor\u001b[38;5;241m.\u001b[39mpredict(X_test)\n\u001b[0;32m      7\u001b[0m y_pred \u001b[38;5;241m=\u001b[39m pd\u001b[38;5;241m.\u001b[39mDataFrame(y_pred)\n\u001b[1;32m----> 9\u001b[0m y_pred_avg \u001b[38;5;241m=\u001b[39m \u001b[43my_pred\u001b[49m\u001b[38;5;241;43m.\u001b[39;49m\u001b[43mgroupby\u001b[49m\u001b[43m(\u001b[49m\u001b[38;5;124;43m'\u001b[39;49m\u001b[38;5;124;43m계약년월\u001b[39;49m\u001b[38;5;124;43m'\u001b[39;49m\u001b[43m)\u001b[49m\u001b[38;5;241m.\u001b[39mmean()\n\u001b[0;32m     10\u001b[0m y_actual_avg \u001b[38;5;241m=\u001b[39m y_actual\u001b[38;5;241m.\u001b[39mgroupby(\u001b[38;5;124m'\u001b[39m\u001b[38;5;124m계약년월\u001b[39m\u001b[38;5;124m'\u001b[39m)\u001b[38;5;241m.\u001b[39mmean()\n",
      "File \u001b[1;32m~\\anaconda3\\envs\\tf_cpu\\lib\\site-packages\\pandas\\core\\frame.py:8402\u001b[0m, in \u001b[0;36mDataFrame.groupby\u001b[1;34m(self, by, axis, level, as_index, sort, group_keys, squeeze, observed, dropna)\u001b[0m\n\u001b[0;32m   8399\u001b[0m     \u001b[38;5;28;01mraise\u001b[39;00m \u001b[38;5;167;01mTypeError\u001b[39;00m(\u001b[38;5;124m\"\u001b[39m\u001b[38;5;124mYou have to supply one of \u001b[39m\u001b[38;5;124m'\u001b[39m\u001b[38;5;124mby\u001b[39m\u001b[38;5;124m'\u001b[39m\u001b[38;5;124m and \u001b[39m\u001b[38;5;124m'\u001b[39m\u001b[38;5;124mlevel\u001b[39m\u001b[38;5;124m'\u001b[39m\u001b[38;5;124m\"\u001b[39m)\n\u001b[0;32m   8400\u001b[0m axis \u001b[38;5;241m=\u001b[39m \u001b[38;5;28mself\u001b[39m\u001b[38;5;241m.\u001b[39m_get_axis_number(axis)\n\u001b[1;32m-> 8402\u001b[0m \u001b[38;5;28;01mreturn\u001b[39;00m \u001b[43mDataFrameGroupBy\u001b[49m\u001b[43m(\u001b[49m\n\u001b[0;32m   8403\u001b[0m \u001b[43m    \u001b[49m\u001b[43mobj\u001b[49m\u001b[38;5;241;43m=\u001b[39;49m\u001b[38;5;28;43mself\u001b[39;49m\u001b[43m,\u001b[49m\n\u001b[0;32m   8404\u001b[0m \u001b[43m    \u001b[49m\u001b[43mkeys\u001b[49m\u001b[38;5;241;43m=\u001b[39;49m\u001b[43mby\u001b[49m\u001b[43m,\u001b[49m\n\u001b[0;32m   8405\u001b[0m \u001b[43m    \u001b[49m\u001b[43maxis\u001b[49m\u001b[38;5;241;43m=\u001b[39;49m\u001b[43maxis\u001b[49m\u001b[43m,\u001b[49m\n\u001b[0;32m   8406\u001b[0m \u001b[43m    \u001b[49m\u001b[43mlevel\u001b[49m\u001b[38;5;241;43m=\u001b[39;49m\u001b[43mlevel\u001b[49m\u001b[43m,\u001b[49m\n\u001b[0;32m   8407\u001b[0m \u001b[43m    \u001b[49m\u001b[43mas_index\u001b[49m\u001b[38;5;241;43m=\u001b[39;49m\u001b[43mas_index\u001b[49m\u001b[43m,\u001b[49m\n\u001b[0;32m   8408\u001b[0m \u001b[43m    \u001b[49m\u001b[43msort\u001b[49m\u001b[38;5;241;43m=\u001b[39;49m\u001b[43msort\u001b[49m\u001b[43m,\u001b[49m\n\u001b[0;32m   8409\u001b[0m \u001b[43m    \u001b[49m\u001b[43mgroup_keys\u001b[49m\u001b[38;5;241;43m=\u001b[39;49m\u001b[43mgroup_keys\u001b[49m\u001b[43m,\u001b[49m\n\u001b[0;32m   8410\u001b[0m \u001b[43m    \u001b[49m\u001b[43msqueeze\u001b[49m\u001b[38;5;241;43m=\u001b[39;49m\u001b[43msqueeze\u001b[49m\u001b[43m,\u001b[49m\n\u001b[0;32m   8411\u001b[0m \u001b[43m    \u001b[49m\u001b[43mobserved\u001b[49m\u001b[38;5;241;43m=\u001b[39;49m\u001b[43mobserved\u001b[49m\u001b[43m,\u001b[49m\n\u001b[0;32m   8412\u001b[0m \u001b[43m    \u001b[49m\u001b[43mdropna\u001b[49m\u001b[38;5;241;43m=\u001b[39;49m\u001b[43mdropna\u001b[49m\u001b[43m,\u001b[49m\n\u001b[0;32m   8413\u001b[0m \u001b[43m\u001b[49m\u001b[43m)\u001b[49m\n",
      "File \u001b[1;32m~\\anaconda3\\envs\\tf_cpu\\lib\\site-packages\\pandas\\core\\groupby\\groupby.py:965\u001b[0m, in \u001b[0;36mGroupBy.__init__\u001b[1;34m(self, obj, keys, axis, level, grouper, exclusions, selection, as_index, sort, group_keys, squeeze, observed, mutated, dropna)\u001b[0m\n\u001b[0;32m    962\u001b[0m \u001b[38;5;28;01mif\u001b[39;00m grouper \u001b[38;5;129;01mis\u001b[39;00m \u001b[38;5;28;01mNone\u001b[39;00m:\n\u001b[0;32m    963\u001b[0m     \u001b[38;5;28;01mfrom\u001b[39;00m \u001b[38;5;21;01mpandas\u001b[39;00m\u001b[38;5;21;01m.\u001b[39;00m\u001b[38;5;21;01mcore\u001b[39;00m\u001b[38;5;21;01m.\u001b[39;00m\u001b[38;5;21;01mgroupby\u001b[39;00m\u001b[38;5;21;01m.\u001b[39;00m\u001b[38;5;21;01mgrouper\u001b[39;00m \u001b[38;5;28;01mimport\u001b[39;00m get_grouper\n\u001b[1;32m--> 965\u001b[0m     grouper, exclusions, obj \u001b[38;5;241m=\u001b[39m \u001b[43mget_grouper\u001b[49m\u001b[43m(\u001b[49m\n\u001b[0;32m    966\u001b[0m \u001b[43m        \u001b[49m\u001b[43mobj\u001b[49m\u001b[43m,\u001b[49m\n\u001b[0;32m    967\u001b[0m \u001b[43m        \u001b[49m\u001b[43mkeys\u001b[49m\u001b[43m,\u001b[49m\n\u001b[0;32m    968\u001b[0m \u001b[43m        \u001b[49m\u001b[43maxis\u001b[49m\u001b[38;5;241;43m=\u001b[39;49m\u001b[43maxis\u001b[49m\u001b[43m,\u001b[49m\n\u001b[0;32m    969\u001b[0m \u001b[43m        \u001b[49m\u001b[43mlevel\u001b[49m\u001b[38;5;241;43m=\u001b[39;49m\u001b[43mlevel\u001b[49m\u001b[43m,\u001b[49m\n\u001b[0;32m    970\u001b[0m \u001b[43m        \u001b[49m\u001b[43msort\u001b[49m\u001b[38;5;241;43m=\u001b[39;49m\u001b[43msort\u001b[49m\u001b[43m,\u001b[49m\n\u001b[0;32m    971\u001b[0m \u001b[43m        \u001b[49m\u001b[43mobserved\u001b[49m\u001b[38;5;241;43m=\u001b[39;49m\u001b[43mobserved\u001b[49m\u001b[43m,\u001b[49m\n\u001b[0;32m    972\u001b[0m \u001b[43m        \u001b[49m\u001b[43mmutated\u001b[49m\u001b[38;5;241;43m=\u001b[39;49m\u001b[38;5;28;43mself\u001b[39;49m\u001b[38;5;241;43m.\u001b[39;49m\u001b[43mmutated\u001b[49m\u001b[43m,\u001b[49m\n\u001b[0;32m    973\u001b[0m \u001b[43m        \u001b[49m\u001b[43mdropna\u001b[49m\u001b[38;5;241;43m=\u001b[39;49m\u001b[38;5;28;43mself\u001b[39;49m\u001b[38;5;241;43m.\u001b[39;49m\u001b[43mdropna\u001b[49m\u001b[43m,\u001b[49m\n\u001b[0;32m    974\u001b[0m \u001b[43m    \u001b[49m\u001b[43m)\u001b[49m\n\u001b[0;32m    976\u001b[0m \u001b[38;5;28mself\u001b[39m\u001b[38;5;241m.\u001b[39mobj \u001b[38;5;241m=\u001b[39m obj\n\u001b[0;32m    977\u001b[0m \u001b[38;5;28mself\u001b[39m\u001b[38;5;241m.\u001b[39maxis \u001b[38;5;241m=\u001b[39m obj\u001b[38;5;241m.\u001b[39m_get_axis_number(axis)\n",
      "File \u001b[1;32m~\\anaconda3\\envs\\tf_cpu\\lib\\site-packages\\pandas\\core\\groupby\\grouper.py:888\u001b[0m, in \u001b[0;36mget_grouper\u001b[1;34m(obj, key, axis, level, sort, observed, mutated, validate, dropna)\u001b[0m\n\u001b[0;32m    886\u001b[0m         in_axis, level, gpr \u001b[38;5;241m=\u001b[39m \u001b[38;5;28;01mFalse\u001b[39;00m, gpr, \u001b[38;5;28;01mNone\u001b[39;00m\n\u001b[0;32m    887\u001b[0m     \u001b[38;5;28;01melse\u001b[39;00m:\n\u001b[1;32m--> 888\u001b[0m         \u001b[38;5;28;01mraise\u001b[39;00m \u001b[38;5;167;01mKeyError\u001b[39;00m(gpr)\n\u001b[0;32m    889\u001b[0m \u001b[38;5;28;01melif\u001b[39;00m \u001b[38;5;28misinstance\u001b[39m(gpr, Grouper) \u001b[38;5;129;01mand\u001b[39;00m gpr\u001b[38;5;241m.\u001b[39mkey \u001b[38;5;129;01mis\u001b[39;00m \u001b[38;5;129;01mnot\u001b[39;00m \u001b[38;5;28;01mNone\u001b[39;00m:\n\u001b[0;32m    890\u001b[0m     \u001b[38;5;66;03m# Add key to exclusions\u001b[39;00m\n\u001b[0;32m    891\u001b[0m     exclusions\u001b[38;5;241m.\u001b[39madd(gpr\u001b[38;5;241m.\u001b[39mkey)\n",
      "\u001b[1;31mKeyError\u001b[0m: '계약년월'"
     ]
    }
   ],
   "source": [
    "y_actual = ndf.iloc[:, -1]\n",
    "y_actual = pd.DataFrame(y_actual)\n",
    "\n",
    "y_actual['계약년월'] = ndf['계약년월']\n",
    "\n",
    "y_pred = regressor.predict(X_test)\n",
    "y_pred = pd.DataFrame(y_pred)\n",
    "\n",
    "y_pred_avg = y_pred.groupby('계약년월').mean()\n",
    "y_actual_avg = y_actual.groupby('계약년월').mean()"
   ]
  },
  {
   "cell_type": "code",
   "execution_count": null,
   "id": "f7ec9af5",
   "metadata": {},
   "outputs": [],
   "source": [
    "\n"
   ]
  },
  {
   "cell_type": "code",
   "execution_count": null,
   "id": "7b5634fe",
   "metadata": {},
   "outputs": [],
   "source": [
    "# 예측값과 실제값을 그래프로 그립니다.\n",
    "plt.plot(y_pred_avg, label='predict_price')\n",
    "plt.plot(y_actual_avg, label='real_price')\n",
    "plt.xlabel('contract_month')\n",
    "plt.ylabel('price')\n",
    "plt.legend()\n",
    "plt.show()"
   ]
  },
  {
   "cell_type": "markdown",
   "id": "ad8b4a23",
   "metadata": {},
   "source": [
    "# DecisionTreeRegresson"
   ]
  },
  {
   "cell_type": "code",
   "execution_count": null,
   "id": "db94af4d",
   "metadata": {},
   "outputs": [],
   "source": [
    "# 클래스 생성\n",
    "regressor = RandomForestRegressor(n_estimators=500, criterion='squared_error', max_depth=9, min_samples_split=50, min_samples_leaf=5, random_state=1, n_jobs=-1)\n",
    "\n",
    "# 모델 학습\n",
    "regressor.fit(X_train, y_train)\n",
    "\n",
    "# 예측값\n",
    "y_pred = regressor.predict(X_test)\n",
    "\n",
    "# RMSE 계산\n",
    "rmse = mean_squared_error(y_test, y_pred)\n",
    "print(rmse)\n"
   ]
  },
  {
   "cell_type": "code",
   "execution_count": null,
   "id": "01ed097d",
   "metadata": {},
   "outputs": [],
   "source": []
  }
 ],
 "metadata": {
  "kernelspec": {
   "display_name": "Python [conda env:tf_cpu] *",
   "language": "python",
   "name": "conda-env-tf_cpu-py"
  },
  "language_info": {
   "codemirror_mode": {
    "name": "ipython",
    "version": 3
   },
   "file_extension": ".py",
   "mimetype": "text/x-python",
   "name": "python",
   "nbconvert_exporter": "python",
   "pygments_lexer": "ipython3",
   "version": "3.8.16"
  }
 },
 "nbformat": 4,
 "nbformat_minor": 5
}
