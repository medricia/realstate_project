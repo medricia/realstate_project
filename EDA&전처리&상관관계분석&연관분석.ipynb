{
 "cells": [
  {
   "cell_type": "code",
   "execution_count": 1,
   "id": "9322c715",
   "metadata": {},
   "outputs": [],
   "source": [
    "import pandas as pd\n",
    "import numpy as np\n",
    "import matplotlib.pyplot as plt\n",
    "import seaborn as sns\n",
    "from sklearn.linear_model import LinearRegression, ElasticNet, Lasso, Ridge\n",
    "from sklearn.tree import DecisionTreeRegressor\n",
    "from sklearn.ensemble import RandomForestRegressor\n",
    "from sklearn.preprocessing import  LabelEncoder\n",
    "from sklearn.model_selection import TimeSeriesSplit\n",
    "from sklearn.metrics import mean_squared_error\n",
    "import xgboost as xgb\n",
    "import re\n",
    "from sklearn.model_selection import train_test_split\n",
    "from sklearn.preprocessing import MinMaxScaler\n",
    "from sklearn.decomposition import PCA # 추가(230703 재은)"
   ]
  },
  {
   "cell_type": "code",
   "execution_count": 2,
   "id": "b4f1aca2",
   "metadata": {},
   "outputs": [],
   "source": [
    "# 데이터 불러오기\n",
    "df = pd.read_csv('../data/apt_200101_200131.csv')"
   ]
  },
  {
   "cell_type": "markdown",
   "id": "0449bcf8",
   "metadata": {},
   "source": [
    "# EDA 1"
   ]
  },
  {
   "cell_type": "code",
   "execution_count": 3,
   "id": "0a521403",
   "metadata": {},
   "outputs": [],
   "source": [
    "# 보증금 전세\n",
    "# 최근 전세 사기로 인한 피해자가 늘어남에 따라 실제 보증금의 금액을 유추하고 이상금액을 찾아 전세 사기를 막는 모델을 막는다\n",
    "\n",
    "# 모델 1 : 보증금 금액 유추하는 모델 \n",
    "# 모델 2 : 사기인지 아닌지 유추하는 모델(이상치 확인)"
   ]
  },
  {
   "cell_type": "code",
   "execution_count": 4,
   "id": "4083e288",
   "metadata": {},
   "outputs": [
    {
     "data": {
      "text/html": [
       "<div>\n",
       "<style scoped>\n",
       "    .dataframe tbody tr th:only-of-type {\n",
       "        vertical-align: middle;\n",
       "    }\n",
       "\n",
       "    .dataframe tbody tr th {\n",
       "        vertical-align: top;\n",
       "    }\n",
       "\n",
       "    .dataframe thead th {\n",
       "        text-align: right;\n",
       "    }\n",
       "</style>\n",
       "<table border=\"1\" class=\"dataframe\">\n",
       "  <thead>\n",
       "    <tr style=\"text-align: right;\">\n",
       "      <th></th>\n",
       "      <th>시군구</th>\n",
       "      <th>번지</th>\n",
       "      <th>본번</th>\n",
       "      <th>부번</th>\n",
       "      <th>단지명</th>\n",
       "      <th>전월세구분</th>\n",
       "      <th>전용면적(㎡)</th>\n",
       "      <th>계약년월</th>\n",
       "      <th>계약일</th>\n",
       "      <th>보증금(만원)</th>\n",
       "      <th>월세(만원)</th>\n",
       "      <th>층</th>\n",
       "      <th>건축년도</th>\n",
       "      <th>도로명</th>\n",
       "      <th>계약기간</th>\n",
       "      <th>계약구분</th>\n",
       "      <th>갱신요구권 사용</th>\n",
       "      <th>종전계약 보증금 (만원)</th>\n",
       "      <th>종전계약 월세 (만원)</th>\n",
       "    </tr>\n",
       "  </thead>\n",
       "  <tbody>\n",
       "    <tr>\n",
       "      <th>0</th>\n",
       "      <td>서울특별시 강남구 개포동</td>\n",
       "      <td>658-1</td>\n",
       "      <td>658.0</td>\n",
       "      <td>1.0</td>\n",
       "      <td>개포6차우성아파트1동~8동</td>\n",
       "      <td>전세</td>\n",
       "      <td>79.97</td>\n",
       "      <td>202001</td>\n",
       "      <td>3</td>\n",
       "      <td>43,000</td>\n",
       "      <td>0</td>\n",
       "      <td>1</td>\n",
       "      <td>1987</td>\n",
       "      <td>언주로 3</td>\n",
       "      <td>-</td>\n",
       "      <td>-</td>\n",
       "      <td>-</td>\n",
       "      <td>NaN</td>\n",
       "      <td>NaN</td>\n",
       "    </tr>\n",
       "    <tr>\n",
       "      <th>1</th>\n",
       "      <td>서울특별시 강남구 개포동</td>\n",
       "      <td>658-1</td>\n",
       "      <td>658.0</td>\n",
       "      <td>1.0</td>\n",
       "      <td>개포6차우성아파트1동~8동</td>\n",
       "      <td>전세</td>\n",
       "      <td>79.97</td>\n",
       "      <td>202001</td>\n",
       "      <td>17</td>\n",
       "      <td>45,000</td>\n",
       "      <td>0</td>\n",
       "      <td>5</td>\n",
       "      <td>1987</td>\n",
       "      <td>언주로 3</td>\n",
       "      <td>-</td>\n",
       "      <td>-</td>\n",
       "      <td>-</td>\n",
       "      <td>NaN</td>\n",
       "      <td>NaN</td>\n",
       "    </tr>\n",
       "    <tr>\n",
       "      <th>2</th>\n",
       "      <td>서울특별시 강남구 개포동</td>\n",
       "      <td>658-1</td>\n",
       "      <td>658.0</td>\n",
       "      <td>1.0</td>\n",
       "      <td>개포6차우성아파트1동~8동</td>\n",
       "      <td>전세</td>\n",
       "      <td>79.97</td>\n",
       "      <td>202001</td>\n",
       "      <td>18</td>\n",
       "      <td>44,000</td>\n",
       "      <td>0</td>\n",
       "      <td>4</td>\n",
       "      <td>1987</td>\n",
       "      <td>언주로 3</td>\n",
       "      <td>-</td>\n",
       "      <td>-</td>\n",
       "      <td>-</td>\n",
       "      <td>NaN</td>\n",
       "      <td>NaN</td>\n",
       "    </tr>\n",
       "    <tr>\n",
       "      <th>3</th>\n",
       "      <td>서울특별시 강남구 개포동</td>\n",
       "      <td>652</td>\n",
       "      <td>652.0</td>\n",
       "      <td>0.0</td>\n",
       "      <td>개포우성3차</td>\n",
       "      <td>전세</td>\n",
       "      <td>133.46</td>\n",
       "      <td>202001</td>\n",
       "      <td>15</td>\n",
       "      <td>90,000</td>\n",
       "      <td>0</td>\n",
       "      <td>11</td>\n",
       "      <td>1984</td>\n",
       "      <td>개포로 307</td>\n",
       "      <td>-</td>\n",
       "      <td>-</td>\n",
       "      <td>-</td>\n",
       "      <td>NaN</td>\n",
       "      <td>NaN</td>\n",
       "    </tr>\n",
       "    <tr>\n",
       "      <th>4</th>\n",
       "      <td>서울특별시 강남구 개포동</td>\n",
       "      <td>652</td>\n",
       "      <td>652.0</td>\n",
       "      <td>0.0</td>\n",
       "      <td>개포우성3차</td>\n",
       "      <td>전세</td>\n",
       "      <td>133.46</td>\n",
       "      <td>202001</td>\n",
       "      <td>18</td>\n",
       "      <td>85,000</td>\n",
       "      <td>0</td>\n",
       "      <td>11</td>\n",
       "      <td>1984</td>\n",
       "      <td>개포로 307</td>\n",
       "      <td>-</td>\n",
       "      <td>-</td>\n",
       "      <td>-</td>\n",
       "      <td>NaN</td>\n",
       "      <td>NaN</td>\n",
       "    </tr>\n",
       "  </tbody>\n",
       "</table>\n",
       "</div>"
      ],
      "text/plain": [
       "             시군구     번지     본번   부번             단지명 전월세구분  전용면적(㎡)    계약년월  \\\n",
       "0  서울특별시 강남구 개포동  658-1  658.0  1.0  개포6차우성아파트1동~8동    전세    79.97  202001   \n",
       "1  서울특별시 강남구 개포동  658-1  658.0  1.0  개포6차우성아파트1동~8동    전세    79.97  202001   \n",
       "2  서울특별시 강남구 개포동  658-1  658.0  1.0  개포6차우성아파트1동~8동    전세    79.97  202001   \n",
       "3  서울특별시 강남구 개포동    652  652.0  0.0          개포우성3차    전세   133.46  202001   \n",
       "4  서울특별시 강남구 개포동    652  652.0  0.0          개포우성3차    전세   133.46  202001   \n",
       "\n",
       "   계약일 보증금(만원)  월세(만원)   층  건축년도      도로명 계약기간 계약구분 갱신요구권 사용  종전계약 보증금 (만원)  \\\n",
       "0    3  43,000       0   1  1987    언주로 3    -    -        -            NaN   \n",
       "1   17  45,000       0   5  1987    언주로 3    -    -        -            NaN   \n",
       "2   18  44,000       0   4  1987    언주로 3    -    -        -            NaN   \n",
       "3   15  90,000       0  11  1984  개포로 307    -    -        -            NaN   \n",
       "4   18  85,000       0  11  1984  개포로 307    -    -        -            NaN   \n",
       "\n",
       "   종전계약 월세 (만원)  \n",
       "0           NaN  \n",
       "1           NaN  \n",
       "2           NaN  \n",
       "3           NaN  \n",
       "4           NaN  "
      ]
     },
     "execution_count": 4,
     "metadata": {},
     "output_type": "execute_result"
    }
   ],
   "source": [
    "df.head()\n",
    "# 문자, 숫자 섞여 있는 데이터"
   ]
  },
  {
   "cell_type": "code",
   "execution_count": 5,
   "id": "a29c2fb8",
   "metadata": {},
   "outputs": [
    {
     "data": {
      "text/plain": [
       "(16614, 19)"
      ]
     },
     "execution_count": 5,
     "metadata": {},
     "output_type": "execute_result"
    }
   ],
   "source": [
    "df.shape\n",
    "\n",
    "# 16614 개의 레코드 데이터, 19개 컬럼"
   ]
  },
  {
   "cell_type": "code",
   "execution_count": null,
   "id": "9153109a",
   "metadata": {},
   "outputs": [],
   "source": [
    "# 컬럼 : 시군구, 번지, 본번, 부번, 단지명, 전월세구분, 전용면적(㎡), 계약년월, 계약일, 보증금(만원), 월세(만원), 층, 건축년도, 도로명, 계약기간, 계약구분,\n",
    "#         갱신요구권 사용, 종전계약 보증금 (만원), 종전계약 월세 (만원)\n",
    "\n",
    "\n",
    "# 컬럼 중 시군구, 번지, 본번, 부번, 도로명은 서로 성격이 겹치는 컬럼이기에 하나로 대표할 수 있는 시군구 컬럼만 남김\n",
    "# 컬럼 중 계약년월, 계약일 중 계약일 컬럼만 남김\n",
    "# 알아내고자 하는 것이 보증금이기 때문에 계약기간(유효한 값이 거의 없기에 그냥 삭제하기로함), 계약구분, 개신요구권사용, 종전계약보증금(만원), 종전계약 월세(만원)은 삭제하여 활용하기로 함 \n",
    "# 이중에서도 전세에 관한 것을 알기 위해 전월세구분에서 전세로 필터링해 활용함\n",
    "\n",
    "\n",
    "# 단어 의미 확인하기\n",
    "# 시군구 : 행정 구역인 시와 군, 구를 아울러 이르는 말\n",
    "# 단지명 : 주택, 공장, 작물 재배지 따위가 집단을 이루고 있는 일정 구역의 이름\n",
    "# 전세 : 부동산의 소유주에게 일정한 돈을 맡기고 집이나 방을 빌려 쓰다가, 내놓을 때 그 돈의 전액을 돌려받는 제도 \n",
    "# 전용면적 : 아파트 따위의 공동 주택에서, 출입구나 엘리베이터, 계단 등의 공유 면적을 제외한 바닥 넓이\n",
    "# 계약년월 : 계약을 진행한 연도와 월\n",
    "# 보증금 : 입찰 또는 계약을 맺을 때 계약 이행의 담보로 내는 금전\n",
    "# 층 : 건물의 층 \n",
    "# 건축년도 : 건물 완공 년"
   ]
  },
  {
   "cell_type": "markdown",
   "id": "7ef6cd9a",
   "metadata": {},
   "source": [
    "# 데이터 전처리1"
   ]
  },
  {
   "cell_type": "code",
   "execution_count": 6,
   "id": "8ca688eb",
   "metadata": {},
   "outputs": [
    {
     "data": {
      "text/html": [
       "<div>\n",
       "<style scoped>\n",
       "    .dataframe tbody tr th:only-of-type {\n",
       "        vertical-align: middle;\n",
       "    }\n",
       "\n",
       "    .dataframe tbody tr th {\n",
       "        vertical-align: top;\n",
       "    }\n",
       "\n",
       "    .dataframe thead th {\n",
       "        text-align: right;\n",
       "    }\n",
       "</style>\n",
       "<table border=\"1\" class=\"dataframe\">\n",
       "  <thead>\n",
       "    <tr style=\"text-align: right;\">\n",
       "      <th></th>\n",
       "      <th>시군구</th>\n",
       "      <th>동</th>\n",
       "      <th>단지명</th>\n",
       "      <th>전월세구분</th>\n",
       "      <th>전용면적(㎡)</th>\n",
       "      <th>계약년월</th>\n",
       "      <th>층</th>\n",
       "      <th>건축년도</th>\n",
       "      <th>보증금(만원)</th>\n",
       "    </tr>\n",
       "  </thead>\n",
       "  <tbody>\n",
       "    <tr>\n",
       "      <th>0</th>\n",
       "      <td>서울특별시 강남구 개포동</td>\n",
       "      <td>개포동</td>\n",
       "      <td>개포6차우성아파트1동~8동</td>\n",
       "      <td>전세</td>\n",
       "      <td>79.97</td>\n",
       "      <td>202001</td>\n",
       "      <td>1</td>\n",
       "      <td>1987</td>\n",
       "      <td>43,000</td>\n",
       "    </tr>\n",
       "    <tr>\n",
       "      <th>1</th>\n",
       "      <td>서울특별시 강남구 개포동</td>\n",
       "      <td>개포동</td>\n",
       "      <td>개포6차우성아파트1동~8동</td>\n",
       "      <td>전세</td>\n",
       "      <td>79.97</td>\n",
       "      <td>202001</td>\n",
       "      <td>5</td>\n",
       "      <td>1987</td>\n",
       "      <td>45,000</td>\n",
       "    </tr>\n",
       "    <tr>\n",
       "      <th>2</th>\n",
       "      <td>서울특별시 강남구 개포동</td>\n",
       "      <td>개포동</td>\n",
       "      <td>개포6차우성아파트1동~8동</td>\n",
       "      <td>전세</td>\n",
       "      <td>79.97</td>\n",
       "      <td>202001</td>\n",
       "      <td>4</td>\n",
       "      <td>1987</td>\n",
       "      <td>44,000</td>\n",
       "    </tr>\n",
       "    <tr>\n",
       "      <th>3</th>\n",
       "      <td>서울특별시 강남구 개포동</td>\n",
       "      <td>개포동</td>\n",
       "      <td>개포우성3차</td>\n",
       "      <td>전세</td>\n",
       "      <td>133.46</td>\n",
       "      <td>202001</td>\n",
       "      <td>11</td>\n",
       "      <td>1984</td>\n",
       "      <td>90,000</td>\n",
       "    </tr>\n",
       "    <tr>\n",
       "      <th>4</th>\n",
       "      <td>서울특별시 강남구 개포동</td>\n",
       "      <td>개포동</td>\n",
       "      <td>개포우성3차</td>\n",
       "      <td>전세</td>\n",
       "      <td>133.46</td>\n",
       "      <td>202001</td>\n",
       "      <td>11</td>\n",
       "      <td>1984</td>\n",
       "      <td>85,000</td>\n",
       "    </tr>\n",
       "  </tbody>\n",
       "</table>\n",
       "</div>"
      ],
      "text/plain": [
       "             시군구    동             단지명 전월세구분  전용면적(㎡)    계약년월   층  건축년도 보증금(만원)\n",
       "0  서울특별시 강남구 개포동  개포동  개포6차우성아파트1동~8동    전세    79.97  202001   1  1987  43,000\n",
       "1  서울특별시 강남구 개포동  개포동  개포6차우성아파트1동~8동    전세    79.97  202001   5  1987  45,000\n",
       "2  서울특별시 강남구 개포동  개포동  개포6차우성아파트1동~8동    전세    79.97  202001   4  1987  44,000\n",
       "3  서울특별시 강남구 개포동  개포동          개포우성3차    전세   133.46  202001  11  1984  90,000\n",
       "4  서울특별시 강남구 개포동  개포동          개포우성3차    전세   133.46  202001  11  1984  85,000"
      ]
     },
     "execution_count": 6,
     "metadata": {},
     "output_type": "execute_result"
    }
   ],
   "source": [
    "# 현재 회귀모델의 가설은 다음과 같음\n",
    "# 동, 아파트명, 아파트브랜드명, 전용면적, 계약년월, 층, 건축년도가 보증금에 영향을 준다\n",
    "\n",
    "\n",
    "# 서울시 동별 보증금이 다를 것이라는 가설을 전제로 '동' 컬럼 추가\n",
    "df['동'] = df['시군구'].str.replace('서울특별시', '')\n",
    "df = df[df['전월세구분'] == '전세']\n",
    "remove_gu = ['서울특별시 ', '강남구 ', '강동구 ', '강북구 ', '강서구 ', '관악구 ', '광진구 ','구로구 ', '금천구 ', '노원구 ', '도봉구 ', '동대문구 ', '동작구 ', '마포구 ', '서대문구 ', '서초구 ', '성동구 ', '성북구 ','송파구 ' , '양천구 ', '영등포구 ', '용산구 ', '은평구 ', '종로구 ', '중구 ', '중랑구 ']\n",
    "df['동'] = df['시군구'].str.replace('|'.join(remove_gu), '', regex=True)\n",
    "\n",
    "#데이터 보기 편하게 재배열\n",
    "df = df[['시군구', '동', '단지명','전월세구분','전용면적(㎡)','계약년월','층', '건축년도', '보증금(만원)']]\n",
    "df.head()"
   ]
  },
  {
   "cell_type": "code",
   "execution_count": 7,
   "id": "45373f3b",
   "metadata": {},
   "outputs": [
    {
     "data": {
      "text/html": [
       "<div>\n",
       "<style scoped>\n",
       "    .dataframe tbody tr th:only-of-type {\n",
       "        vertical-align: middle;\n",
       "    }\n",
       "\n",
       "    .dataframe tbody tr th {\n",
       "        vertical-align: top;\n",
       "    }\n",
       "\n",
       "    .dataframe thead th {\n",
       "        text-align: right;\n",
       "    }\n",
       "</style>\n",
       "<table border=\"1\" class=\"dataframe\">\n",
       "  <thead>\n",
       "    <tr style=\"text-align: right;\">\n",
       "      <th></th>\n",
       "      <th>시군구</th>\n",
       "      <th>동</th>\n",
       "      <th>단지명</th>\n",
       "      <th>전월세구분</th>\n",
       "      <th>전용면적(㎡)</th>\n",
       "      <th>계약년월</th>\n",
       "      <th>층</th>\n",
       "      <th>건축년도</th>\n",
       "      <th>보증금(만원)</th>\n",
       "    </tr>\n",
       "  </thead>\n",
       "  <tbody>\n",
       "    <tr>\n",
       "      <th>0</th>\n",
       "      <td>서울특별시 강남구 개포동</td>\n",
       "      <td>개포동</td>\n",
       "      <td>개포6차우성아파트1동~8동</td>\n",
       "      <td>전세</td>\n",
       "      <td>79.97</td>\n",
       "      <td>202001</td>\n",
       "      <td>1</td>\n",
       "      <td>1987</td>\n",
       "      <td>43000</td>\n",
       "    </tr>\n",
       "    <tr>\n",
       "      <th>1</th>\n",
       "      <td>서울특별시 강남구 개포동</td>\n",
       "      <td>개포동</td>\n",
       "      <td>개포6차우성아파트1동~8동</td>\n",
       "      <td>전세</td>\n",
       "      <td>79.97</td>\n",
       "      <td>202001</td>\n",
       "      <td>5</td>\n",
       "      <td>1987</td>\n",
       "      <td>45000</td>\n",
       "    </tr>\n",
       "    <tr>\n",
       "      <th>2</th>\n",
       "      <td>서울특별시 강남구 개포동</td>\n",
       "      <td>개포동</td>\n",
       "      <td>개포6차우성아파트1동~8동</td>\n",
       "      <td>전세</td>\n",
       "      <td>79.97</td>\n",
       "      <td>202001</td>\n",
       "      <td>4</td>\n",
       "      <td>1987</td>\n",
       "      <td>44000</td>\n",
       "    </tr>\n",
       "    <tr>\n",
       "      <th>3</th>\n",
       "      <td>서울특별시 강남구 개포동</td>\n",
       "      <td>개포동</td>\n",
       "      <td>개포우성3차</td>\n",
       "      <td>전세</td>\n",
       "      <td>133.46</td>\n",
       "      <td>202001</td>\n",
       "      <td>11</td>\n",
       "      <td>1984</td>\n",
       "      <td>90000</td>\n",
       "    </tr>\n",
       "    <tr>\n",
       "      <th>4</th>\n",
       "      <td>서울특별시 강남구 개포동</td>\n",
       "      <td>개포동</td>\n",
       "      <td>개포우성3차</td>\n",
       "      <td>전세</td>\n",
       "      <td>133.46</td>\n",
       "      <td>202001</td>\n",
       "      <td>11</td>\n",
       "      <td>1984</td>\n",
       "      <td>85000</td>\n",
       "    </tr>\n",
       "  </tbody>\n",
       "</table>\n",
       "</div>"
      ],
      "text/plain": [
       "             시군구    동             단지명 전월세구분  전용면적(㎡)    계약년월   층  건축년도  \\\n",
       "0  서울특별시 강남구 개포동  개포동  개포6차우성아파트1동~8동    전세    79.97  202001   1  1987   \n",
       "1  서울특별시 강남구 개포동  개포동  개포6차우성아파트1동~8동    전세    79.97  202001   5  1987   \n",
       "2  서울특별시 강남구 개포동  개포동  개포6차우성아파트1동~8동    전세    79.97  202001   4  1987   \n",
       "3  서울특별시 강남구 개포동  개포동          개포우성3차    전세   133.46  202001  11  1984   \n",
       "4  서울특별시 강남구 개포동  개포동          개포우성3차    전세   133.46  202001  11  1984   \n",
       "\n",
       "   보증금(만원)  \n",
       "0    43000  \n",
       "1    45000  \n",
       "2    44000  \n",
       "3    90000  \n",
       "4    85000  "
      ]
     },
     "execution_count": 7,
     "metadata": {},
     "output_type": "execute_result"
    }
   ],
   "source": [
    "# 보증금(만원) 컬럼이 문자로 저장되어 있어 숫자로 변환\n",
    "df['보증금(만원)'] = df['보증금(만원)'].str.replace(\",\", \"\").astype(int)\n",
    "df.head()"
   ]
  },
  {
   "cell_type": "code",
   "execution_count": 8,
   "id": "781956c9",
   "metadata": {},
   "outputs": [
    {
     "data": {
      "text/html": [
       "<div>\n",
       "<style scoped>\n",
       "    .dataframe tbody tr th:only-of-type {\n",
       "        vertical-align: middle;\n",
       "    }\n",
       "\n",
       "    .dataframe tbody tr th {\n",
       "        vertical-align: top;\n",
       "    }\n",
       "\n",
       "    .dataframe thead th {\n",
       "        text-align: right;\n",
       "    }\n",
       "</style>\n",
       "<table border=\"1\" class=\"dataframe\">\n",
       "  <thead>\n",
       "    <tr style=\"text-align: right;\">\n",
       "      <th></th>\n",
       "      <th>시군구</th>\n",
       "      <th>동</th>\n",
       "      <th>단지명</th>\n",
       "      <th>전월세구분</th>\n",
       "      <th>전용면적</th>\n",
       "      <th>계약년월</th>\n",
       "      <th>층</th>\n",
       "      <th>건축년도</th>\n",
       "      <th>보증금</th>\n",
       "    </tr>\n",
       "  </thead>\n",
       "  <tbody>\n",
       "    <tr>\n",
       "      <th>0</th>\n",
       "      <td>서울특별시 강남구 개포동</td>\n",
       "      <td>개포동</td>\n",
       "      <td>개포6차우성아파트1동~8동</td>\n",
       "      <td>전세</td>\n",
       "      <td>79.97</td>\n",
       "      <td>202001</td>\n",
       "      <td>1</td>\n",
       "      <td>1987</td>\n",
       "      <td>43000</td>\n",
       "    </tr>\n",
       "    <tr>\n",
       "      <th>1</th>\n",
       "      <td>서울특별시 강남구 개포동</td>\n",
       "      <td>개포동</td>\n",
       "      <td>개포6차우성아파트1동~8동</td>\n",
       "      <td>전세</td>\n",
       "      <td>79.97</td>\n",
       "      <td>202001</td>\n",
       "      <td>5</td>\n",
       "      <td>1987</td>\n",
       "      <td>45000</td>\n",
       "    </tr>\n",
       "    <tr>\n",
       "      <th>2</th>\n",
       "      <td>서울특별시 강남구 개포동</td>\n",
       "      <td>개포동</td>\n",
       "      <td>개포6차우성아파트1동~8동</td>\n",
       "      <td>전세</td>\n",
       "      <td>79.97</td>\n",
       "      <td>202001</td>\n",
       "      <td>4</td>\n",
       "      <td>1987</td>\n",
       "      <td>44000</td>\n",
       "    </tr>\n",
       "    <tr>\n",
       "      <th>3</th>\n",
       "      <td>서울특별시 강남구 개포동</td>\n",
       "      <td>개포동</td>\n",
       "      <td>개포우성3차</td>\n",
       "      <td>전세</td>\n",
       "      <td>133.46</td>\n",
       "      <td>202001</td>\n",
       "      <td>11</td>\n",
       "      <td>1984</td>\n",
       "      <td>90000</td>\n",
       "    </tr>\n",
       "    <tr>\n",
       "      <th>4</th>\n",
       "      <td>서울특별시 강남구 개포동</td>\n",
       "      <td>개포동</td>\n",
       "      <td>개포우성3차</td>\n",
       "      <td>전세</td>\n",
       "      <td>133.46</td>\n",
       "      <td>202001</td>\n",
       "      <td>11</td>\n",
       "      <td>1984</td>\n",
       "      <td>85000</td>\n",
       "    </tr>\n",
       "  </tbody>\n",
       "</table>\n",
       "</div>"
      ],
      "text/plain": [
       "             시군구    동             단지명 전월세구분    전용면적    계약년월   층  건축년도    보증금\n",
       "0  서울특별시 강남구 개포동  개포동  개포6차우성아파트1동~8동    전세   79.97  202001   1  1987  43000\n",
       "1  서울특별시 강남구 개포동  개포동  개포6차우성아파트1동~8동    전세   79.97  202001   5  1987  45000\n",
       "2  서울특별시 강남구 개포동  개포동  개포6차우성아파트1동~8동    전세   79.97  202001   4  1987  44000\n",
       "3  서울특별시 강남구 개포동  개포동          개포우성3차    전세  133.46  202001  11  1984  90000\n",
       "4  서울특별시 강남구 개포동  개포동          개포우성3차    전세  133.46  202001  11  1984  85000"
      ]
     },
     "execution_count": 8,
     "metadata": {},
     "output_type": "execute_result"
    }
   ],
   "source": [
    "# 전용면적(㎡), 보증금(만원) 컬럼명에서 ()가 들어가 삭제함\n",
    "df.rename(columns={'전용면적(㎡)': '전용면적'}, inplace=True)\n",
    "df.rename(columns={'보증금(만원)': '보증금'}, inplace=True)\n",
    "df.head()"
   ]
  },
  {
   "cell_type": "markdown",
   "id": "b58b16f4",
   "metadata": {},
   "source": [
    "# EDA 1\n",
    "# 각 컬럼에 대한 특징 파악하기"
   ]
  },
  {
   "cell_type": "code",
   "execution_count": 9,
   "id": "cd55da5c",
   "metadata": {},
   "outputs": [
    {
     "data": {
      "text/plain": [
       "Index(['시군구', '동', '단지명', '전월세구분', '전용면적', '계약년월', '층', '건축년도', '보증금'], dtype='object')"
      ]
     },
     "execution_count": 9,
     "metadata": {},
     "output_type": "execute_result"
    }
   ],
   "source": [
    "# 1) 피처(Feature) 확인\n",
    "df.columns"
   ]
  },
  {
   "cell_type": "code",
   "execution_count": 10,
   "id": "3ac7bd99",
   "metadata": {},
   "outputs": [
    {
     "name": "stdout",
     "output_type": "stream",
     "text": [
      "<class 'pandas.core.frame.DataFrame'>\n",
      "Int64Index: 11793 entries, 0 to 16613\n",
      "Data columns (total 9 columns):\n",
      " #   Column  Non-Null Count  Dtype  \n",
      "---  ------  --------------  -----  \n",
      " 0   시군구     11793 non-null  object \n",
      " 1   동       11793 non-null  object \n",
      " 2   단지명     11793 non-null  object \n",
      " 3   전월세구분   11793 non-null  object \n",
      " 4   전용면적    11793 non-null  float64\n",
      " 5   계약년월    11793 non-null  int64  \n",
      " 6   층       11793 non-null  int64  \n",
      " 7   건축년도    11793 non-null  int64  \n",
      " 8   보증금     11793 non-null  int32  \n",
      "dtypes: float64(1), int32(1), int64(3), object(4)\n",
      "memory usage: 875.3+ KB\n"
     ]
    }
   ],
   "source": [
    "# 2) 데이터 프레임 정보 확인\n",
    "df.info()"
   ]
  },
  {
   "cell_type": "code",
   "execution_count": 11,
   "id": "d26eae22",
   "metadata": {},
   "outputs": [
    {
     "data": {
      "text/html": [
       "<div>\n",
       "<style scoped>\n",
       "    .dataframe tbody tr th:only-of-type {\n",
       "        vertical-align: middle;\n",
       "    }\n",
       "\n",
       "    .dataframe tbody tr th {\n",
       "        vertical-align: top;\n",
       "    }\n",
       "\n",
       "    .dataframe thead th {\n",
       "        text-align: right;\n",
       "    }\n",
       "</style>\n",
       "<table border=\"1\" class=\"dataframe\">\n",
       "  <thead>\n",
       "    <tr style=\"text-align: right;\">\n",
       "      <th></th>\n",
       "      <th>전용면적</th>\n",
       "      <th>계약년월</th>\n",
       "      <th>층</th>\n",
       "      <th>건축년도</th>\n",
       "      <th>보증금</th>\n",
       "    </tr>\n",
       "  </thead>\n",
       "  <tbody>\n",
       "    <tr>\n",
       "      <th>count</th>\n",
       "      <td>11793.000000</td>\n",
       "      <td>11793.0</td>\n",
       "      <td>11793.000000</td>\n",
       "      <td>11793.000000</td>\n",
       "      <td>11793.000000</td>\n",
       "    </tr>\n",
       "    <tr>\n",
       "      <th>mean</th>\n",
       "      <td>74.690385</td>\n",
       "      <td>202001.0</td>\n",
       "      <td>9.066989</td>\n",
       "      <td>2001.142881</td>\n",
       "      <td>45226.743661</td>\n",
       "    </tr>\n",
       "    <tr>\n",
       "      <th>std</th>\n",
       "      <td>27.586954</td>\n",
       "      <td>0.0</td>\n",
       "      <td>6.057245</td>\n",
       "      <td>11.492580</td>\n",
       "      <td>26264.652552</td>\n",
       "    </tr>\n",
       "    <tr>\n",
       "      <th>min</th>\n",
       "      <td>10.321500</td>\n",
       "      <td>202001.0</td>\n",
       "      <td>1.000000</td>\n",
       "      <td>1968.000000</td>\n",
       "      <td>1600.000000</td>\n",
       "    </tr>\n",
       "    <tr>\n",
       "      <th>25%</th>\n",
       "      <td>59.640000</td>\n",
       "      <td>202001.0</td>\n",
       "      <td>4.000000</td>\n",
       "      <td>1993.000000</td>\n",
       "      <td>29000.000000</td>\n",
       "    </tr>\n",
       "    <tr>\n",
       "      <th>50%</th>\n",
       "      <td>76.790000</td>\n",
       "      <td>202001.0</td>\n",
       "      <td>8.000000</td>\n",
       "      <td>2001.000000</td>\n",
       "      <td>40000.000000</td>\n",
       "    </tr>\n",
       "    <tr>\n",
       "      <th>75%</th>\n",
       "      <td>84.951000</td>\n",
       "      <td>202001.0</td>\n",
       "      <td>13.000000</td>\n",
       "      <td>2010.000000</td>\n",
       "      <td>55000.000000</td>\n",
       "    </tr>\n",
       "    <tr>\n",
       "      <th>max</th>\n",
       "      <td>244.770000</td>\n",
       "      <td>202001.0</td>\n",
       "      <td>61.000000</td>\n",
       "      <td>2022.000000</td>\n",
       "      <td>300000.000000</td>\n",
       "    </tr>\n",
       "  </tbody>\n",
       "</table>\n",
       "</div>"
      ],
      "text/plain": [
       "               전용면적      계약년월             층          건축년도            보증금\n",
       "count  11793.000000   11793.0  11793.000000  11793.000000   11793.000000\n",
       "mean      74.690385  202001.0      9.066989   2001.142881   45226.743661\n",
       "std       27.586954       0.0      6.057245     11.492580   26264.652552\n",
       "min       10.321500  202001.0      1.000000   1968.000000    1600.000000\n",
       "25%       59.640000  202001.0      4.000000   1993.000000   29000.000000\n",
       "50%       76.790000  202001.0      8.000000   2001.000000   40000.000000\n",
       "75%       84.951000  202001.0     13.000000   2010.000000   55000.000000\n",
       "max      244.770000  202001.0     61.000000   2022.000000  300000.000000"
      ]
     },
     "execution_count": 11,
     "metadata": {},
     "output_type": "execute_result"
    }
   ],
   "source": [
    "# 3) 데이터 프레임 통계값 (전체)\n",
    "df.describe()"
   ]
  },
  {
   "cell_type": "code",
   "execution_count": 12,
   "id": "4040497c",
   "metadata": {},
   "outputs": [
    {
     "data": {
      "text/plain": [
       "count     11793\n",
       "unique      274\n",
       "top         상계동\n",
       "freq        426\n",
       "Name: 동, dtype: object"
      ]
     },
     "execution_count": 12,
     "metadata": {},
     "output_type": "execute_result"
    }
   ],
   "source": [
    "# 동 : 서울의 동을 나누었을 때 274개로 나누었으며(충무로1가, 장충동2가 등 포함) 가장 많은 거래(426건)가 상계동에서 있었다는 것을 알 수 있음\n",
    "df.동.describe()"
   ]
  },
  {
   "cell_type": "code",
   "execution_count": 13,
   "id": "e0f5723f",
   "metadata": {},
   "outputs": [
    {
     "data": {
      "text/plain": [
       "count      11793\n",
       "unique      2580\n",
       "top       고덕아르테온\n",
       "freq         126\n",
       "Name: 단지명, dtype: object"
      ]
     },
     "execution_count": 13,
     "metadata": {},
     "output_type": "execute_result"
    }
   ],
   "source": [
    "# 단지명 : 2580의 서로 다른 아파트들이 있다는 것을 알 수 있음 -> 아파트명이 많이 겹침\n",
    "df.단지명.describe()"
   ]
  },
  {
   "cell_type": "code",
   "execution_count": 14,
   "id": "8c21e27f",
   "metadata": {},
   "outputs": [
    {
     "data": {
      "text/plain": [
       "count    11793.000000\n",
       "mean        74.690385\n",
       "std         27.586954\n",
       "min         10.321500\n",
       "25%         59.640000\n",
       "50%         76.790000\n",
       "75%         84.951000\n",
       "max        244.770000\n",
       "Name: 전용면적, dtype: float64"
      ]
     },
     "execution_count": 14,
     "metadata": {},
     "output_type": "execute_result"
    }
   ],
   "source": [
    "# 전용면적 : 거래된 아파트 중 가장 작은 전용면적은 10.321500(㎡), 가장 넓은 전용면적은 244.770000(㎡) 임\n",
    "df.전용면적.describe()"
   ]
  },
  {
   "cell_type": "code",
   "execution_count": 1,
   "id": "82aeeeb9",
   "metadata": {},
   "outputs": [
    {
     "ename": "NameError",
     "evalue": "name 'plt' is not defined",
     "output_type": "error",
     "traceback": [
      "\u001b[1;31m---------------------------------------------------------------------------\u001b[0m",
      "\u001b[1;31mNameError\u001b[0m                                 Traceback (most recent call last)",
      "Cell \u001b[1;32mIn[1], line 1\u001b[0m\n\u001b[1;32m----> 1\u001b[0m \u001b[43mplt\u001b[49m\u001b[38;5;241m.\u001b[39mhist(df[[\u001b[38;5;124m'\u001b[39m\u001b[38;5;124m전용면적\u001b[39m\u001b[38;5;124m'\u001b[39m, \u001b[38;5;124m'\u001b[39m\u001b[38;5;124m보증금\u001b[39m\u001b[38;5;124m'\u001b[39m]], bins\u001b[38;5;241m=\u001b[39m\u001b[38;5;241m10\u001b[39m, facecolor\u001b[38;5;241m=\u001b[39m\u001b[38;5;124m'\u001b[39m\u001b[38;5;124mblue\u001b[39m\u001b[38;5;124m'\u001b[39m, alpha\u001b[38;5;241m=\u001b[39m\u001b[38;5;241m0.5\u001b[39m)\n\u001b[0;32m      2\u001b[0m plt\u001b[38;5;241m.\u001b[39mshow()\n",
      "\u001b[1;31mNameError\u001b[0m: name 'plt' is not defined"
     ]
    }
   ],
   "source": [
    "plt.hist(df.전용면적.value_counts())\n",
    "plt.xlabel('AREA')\n",
    "plt.ylabel('COUNT')\n",
    "plt.show()\n",
    "# 전용면적을 보면 대부분의 거래가 50(㎡) 이하, 더 정확하게는 25(㎡)이하로 이루어지고 있음을 알 수 있음"
   ]
  },
  {
   "cell_type": "code",
   "execution_count": 16,
   "id": "a814e0e2",
   "metadata": {},
   "outputs": [
    {
     "data": {
      "text/plain": [
       "count     11793.0\n",
       "mean     202001.0\n",
       "std           0.0\n",
       "min      202001.0\n",
       "25%      202001.0\n",
       "50%      202001.0\n",
       "75%      202001.0\n",
       "max      202001.0\n",
       "Name: 계약년월, dtype: float64"
      ]
     },
     "execution_count": 16,
     "metadata": {},
     "output_type": "execute_result"
    }
   ],
   "source": [
    "# 계약년월 : 현재는 2020.01 자료만 활용했기 때문에 맞게 나오고 있음\n",
    "df.계약년월.describe()"
   ]
  },
  {
   "cell_type": "code",
   "execution_count": 17,
   "id": "cfdf59c8",
   "metadata": {},
   "outputs": [
    {
     "data": {
      "text/plain": [
       "count    11793.000000\n",
       "mean         9.066989\n",
       "std          6.057245\n",
       "min          1.000000\n",
       "25%          4.000000\n",
       "50%          8.000000\n",
       "75%         13.000000\n",
       "max         61.000000\n",
       "Name: 층, dtype: float64"
      ]
     },
     "execution_count": 17,
     "metadata": {},
     "output_type": "execute_result"
    }
   ],
   "source": [
    "# 층 : 1~61층까지 분포 (지하층이 있는지 확인)\n",
    "df.층.describe()"
   ]
  },
  {
   "cell_type": "code",
   "execution_count": 18,
   "id": "4272b2b9",
   "metadata": {},
   "outputs": [
    {
     "data": {
      "text/plain": [
       "count    11793.000000\n",
       "mean      2001.142881\n",
       "std         11.492580\n",
       "min       1968.000000\n",
       "25%       1993.000000\n",
       "50%       2001.000000\n",
       "75%       2010.000000\n",
       "max       2022.000000\n",
       "Name: 건축년도, dtype: float64"
      ]
     },
     "execution_count": 18,
     "metadata": {},
     "output_type": "execute_result"
    }
   ],
   "source": [
    "#건축년도 : 1968년도~2022년도 신축까지 다양함\n",
    "df.건축년도.describe()"
   ]
  },
  {
   "cell_type": "code",
   "execution_count": 19,
   "id": "4ecdca83",
   "metadata": {},
   "outputs": [
    {
     "data": {
      "text/plain": [
       "count     11793.000000\n",
       "mean      45226.743661\n",
       "std       26264.652552\n",
       "min        1600.000000\n",
       "25%       29000.000000\n",
       "50%       40000.000000\n",
       "75%       55000.000000\n",
       "max      300000.000000\n",
       "Name: 보증금, dtype: float64"
      ]
     },
     "execution_count": 19,
     "metadata": {},
     "output_type": "execute_result"
    }
   ],
   "source": [
    "# 보증금 : 제일 저렴한 것은 1600만원, 비싼 것은 300000만원이 나온다는 것을 알 수 있음\n",
    "df.보증금.describe()"
   ]
  },
  {
   "cell_type": "code",
   "execution_count": 20,
   "id": "5fcb388c",
   "metadata": {},
   "outputs": [
    {
     "data": {
      "text/html": [
       "<div>\n",
       "<style scoped>\n",
       "    .dataframe tbody tr th:only-of-type {\n",
       "        vertical-align: middle;\n",
       "    }\n",
       "\n",
       "    .dataframe tbody tr th {\n",
       "        vertical-align: top;\n",
       "    }\n",
       "\n",
       "    .dataframe thead th {\n",
       "        text-align: right;\n",
       "    }\n",
       "</style>\n",
       "<table border=\"1\" class=\"dataframe\">\n",
       "  <thead>\n",
       "    <tr style=\"text-align: right;\">\n",
       "      <th></th>\n",
       "      <th>시군구</th>\n",
       "      <th>동</th>\n",
       "      <th>단지명</th>\n",
       "      <th>전월세구분</th>\n",
       "      <th>전용면적</th>\n",
       "      <th>계약년월</th>\n",
       "      <th>층</th>\n",
       "      <th>건축년도</th>\n",
       "      <th>보증금</th>\n",
       "    </tr>\n",
       "  </thead>\n",
       "  <tbody>\n",
       "    <tr>\n",
       "      <th>2761</th>\n",
       "      <td>서울특별시 강북구 번동</td>\n",
       "      <td>번동</td>\n",
       "      <td>주공1단지</td>\n",
       "      <td>전세</td>\n",
       "      <td>49.94</td>\n",
       "      <td>202001</td>\n",
       "      <td>11</td>\n",
       "      <td>1991</td>\n",
       "      <td>1600</td>\n",
       "    </tr>\n",
       "  </tbody>\n",
       "</table>\n",
       "</div>"
      ],
      "text/plain": [
       "               시군구   동    단지명 전월세구분   전용면적    계약년월   층  건축년도   보증금\n",
       "2761  서울특별시 강북구 번동  번동  주공1단지    전세  49.94  202001  11  1991  1600"
      ]
     },
     "execution_count": 20,
     "metadata": {},
     "output_type": "execute_result"
    }
   ],
   "source": [
    "#저렴한 곳\n",
    "df.loc[df['보증금']==1600]"
   ]
  },
  {
   "cell_type": "code",
   "execution_count": 21,
   "id": "72c0efe0",
   "metadata": {},
   "outputs": [
    {
     "data": {
      "text/html": [
       "<div>\n",
       "<style scoped>\n",
       "    .dataframe tbody tr th:only-of-type {\n",
       "        vertical-align: middle;\n",
       "    }\n",
       "\n",
       "    .dataframe tbody tr th {\n",
       "        vertical-align: top;\n",
       "    }\n",
       "\n",
       "    .dataframe thead th {\n",
       "        text-align: right;\n",
       "    }\n",
       "</style>\n",
       "<table border=\"1\" class=\"dataframe\">\n",
       "  <thead>\n",
       "    <tr style=\"text-align: right;\">\n",
       "      <th></th>\n",
       "      <th>시군구</th>\n",
       "      <th>동</th>\n",
       "      <th>단지명</th>\n",
       "      <th>전월세구분</th>\n",
       "      <th>전용면적</th>\n",
       "      <th>계약년월</th>\n",
       "      <th>층</th>\n",
       "      <th>건축년도</th>\n",
       "      <th>보증금</th>\n",
       "    </tr>\n",
       "  </thead>\n",
       "  <tbody>\n",
       "    <tr>\n",
       "      <th>606</th>\n",
       "      <td>서울특별시 강남구 도곡동</td>\n",
       "      <td>도곡동</td>\n",
       "      <td>타워팰리스2</td>\n",
       "      <td>전세</td>\n",
       "      <td>244.04</td>\n",
       "      <td>202001</td>\n",
       "      <td>49</td>\n",
       "      <td>2003</td>\n",
       "      <td>300000</td>\n",
       "    </tr>\n",
       "  </tbody>\n",
       "</table>\n",
       "</div>"
      ],
      "text/plain": [
       "               시군구    동     단지명 전월세구분    전용면적    계약년월   층  건축년도     보증금\n",
       "606  서울특별시 강남구 도곡동  도곡동  타워팰리스2    전세  244.04  202001  49  2003  300000"
      ]
     },
     "execution_count": 21,
     "metadata": {},
     "output_type": "execute_result"
    }
   ],
   "source": [
    "#비싼곳\n",
    "df.loc[df['보증금']==300000]"
   ]
  },
  {
   "cell_type": "code",
   "execution_count": 22,
   "id": "4a6ed273",
   "metadata": {},
   "outputs": [
    {
     "data": {
      "image/png": "[encoded data removed]",
      "text/plain": [
       "<Figure size 640x480 with 1 Axes>"
      ]
     },
     "metadata": {},
     "output_type": "display_data"
    }
   ],
   "source": [
    "plt.hist(df.보증금.value_counts())\n",
    "plt.xlabel('DEPOSIT')\n",
    "plt.ylabel('COUNT')\n",
    "plt.show()\n",
    "# 50(만원) 이하 많음"
   ]
  },
  {
   "cell_type": "markdown",
   "id": "dcbfce15",
   "metadata": {},
   "source": [
    "## 데이터 전처리2 : 문자 데이터 수치화하기"
   ]
  },
  {
   "cell_type": "code",
   "execution_count": 23,
   "id": "5c10c278",
   "metadata": {},
   "outputs": [
    {
     "data": {
      "text/plain": [
       "고덕아르테온         126\n",
       "현대              95\n",
       "고덕센트럴IPARK      92\n",
       "고덕롯데캐슬베네루체      86\n",
       "두산              84\n",
       "신동아             83\n",
       "은마              79\n",
       "삼성              60\n",
       "우성              58\n",
       "삼성래미안           58\n",
       "주공2             49\n",
       "신길센트럴자이아파트      47\n",
       "한양수자인사가정파크      45\n",
       "벽산              45\n",
       "한신              43\n",
       "노원센트럴푸르지오       43\n",
       "주공아파트 5단지       42\n",
       "대림e-편한세상        42\n",
       "쌍용              41\n",
       "목동신시가지7         38\n",
       "동아              38\n",
       "중앙하이츠           37\n",
       "선사현대아파트         36\n",
       "고덕그라시움          36\n",
       "북한산두산위브         36\n",
       "잠실엘스            36\n",
       "보라매에스케이뷰        35\n",
       "극동              34\n",
       "미성              33\n",
       "대림              33\n",
       "강남데시앙파크         32\n",
       "목동신시가지14        32\n",
       "삼익그린2차          31\n",
       "파크리오            31\n",
       "이편한세상금호파크힐스     31\n",
       "에스케이북한산시티       31\n",
       "삼환              30\n",
       "영등포푸르지오         30\n",
       "상계주공7(고층)       29\n",
       "주공5             29\n",
       "Name: 단지명, dtype: int64"
      ]
     },
     "execution_count": 23,
     "metadata": {},
     "output_type": "execute_result"
    }
   ],
   "source": [
    "# 단지명 기준 매매 많은 상위 40권 아파트 : 이름이 겹치는 곳이 많음 \n",
    "df['단지명'].value_counts()[:40]"
   ]
  },
  {
   "cell_type": "code",
   "execution_count": 24,
   "id": "9d0e3516",
   "metadata": {},
   "outputs": [
    {
     "data": {
      "text/html": [
       "<div>\n",
       "<style scoped>\n",
       "    .dataframe tbody tr th:only-of-type {\n",
       "        vertical-align: middle;\n",
       "    }\n",
       "\n",
       "    .dataframe tbody tr th {\n",
       "        vertical-align: top;\n",
       "    }\n",
       "\n",
       "    .dataframe thead th {\n",
       "        text-align: right;\n",
       "    }\n",
       "</style>\n",
       "<table border=\"1\" class=\"dataframe\">\n",
       "  <thead>\n",
       "    <tr style=\"text-align: right;\">\n",
       "      <th></th>\n",
       "      <th>시군구</th>\n",
       "      <th>동</th>\n",
       "      <th>단지명</th>\n",
       "      <th>전월세구분</th>\n",
       "      <th>전용면적</th>\n",
       "      <th>계약년월</th>\n",
       "      <th>층</th>\n",
       "      <th>건축년도</th>\n",
       "      <th>보증금</th>\n",
       "      <th>apt_counts</th>\n",
       "    </tr>\n",
       "  </thead>\n",
       "  <tbody>\n",
       "    <tr>\n",
       "      <th>0</th>\n",
       "      <td>서울특별시 강남구 개포동</td>\n",
       "      <td>개포동</td>\n",
       "      <td>개포6차우성아파트1동~8동</td>\n",
       "      <td>전세</td>\n",
       "      <td>79.97</td>\n",
       "      <td>202001</td>\n",
       "      <td>1</td>\n",
       "      <td>1987</td>\n",
       "      <td>43000</td>\n",
       "      <td>3</td>\n",
       "    </tr>\n",
       "    <tr>\n",
       "      <th>1</th>\n",
       "      <td>서울특별시 강남구 개포동</td>\n",
       "      <td>개포동</td>\n",
       "      <td>개포6차우성아파트1동~8동</td>\n",
       "      <td>전세</td>\n",
       "      <td>79.97</td>\n",
       "      <td>202001</td>\n",
       "      <td>5</td>\n",
       "      <td>1987</td>\n",
       "      <td>45000</td>\n",
       "      <td>3</td>\n",
       "    </tr>\n",
       "    <tr>\n",
       "      <th>2</th>\n",
       "      <td>서울특별시 강남구 개포동</td>\n",
       "      <td>개포동</td>\n",
       "      <td>개포6차우성아파트1동~8동</td>\n",
       "      <td>전세</td>\n",
       "      <td>79.97</td>\n",
       "      <td>202001</td>\n",
       "      <td>4</td>\n",
       "      <td>1987</td>\n",
       "      <td>44000</td>\n",
       "      <td>3</td>\n",
       "    </tr>\n",
       "  </tbody>\n",
       "</table>\n",
       "</div>"
      ],
      "text/plain": [
       "             시군구    동             단지명 전월세구분   전용면적    계약년월  층  건축년도    보증금  \\\n",
       "0  서울특별시 강남구 개포동  개포동  개포6차우성아파트1동~8동    전세  79.97  202001  1  1987  43000   \n",
       "1  서울특별시 강남구 개포동  개포동  개포6차우성아파트1동~8동    전세  79.97  202001  5  1987  45000   \n",
       "2  서울특별시 강남구 개포동  개포동  개포6차우성아파트1동~8동    전세  79.97  202001  4  1987  44000   \n",
       "\n",
       "   apt_counts  \n",
       "0           3  \n",
       "1           3  \n",
       "2           3  "
      ]
     },
     "execution_count": 24,
     "metadata": {},
     "output_type": "execute_result"
    }
   ],
   "source": [
    "# 같은 아파트 이름을 갖는 수를 저장하는 apt_count 열 생성\n",
    "df['apt_counts'] = 0\n",
    "df.groupby('단지명')['apt_counts'].count()\n",
    "df = pd.merge(df, df.groupby('단지명')['apt_counts'].count(), on='단지명', how='left').drop('apt_counts_x', axis=1).rename(columns={'apt_counts_y':'apt_counts'})\n",
    "df.head(3)"
   ]
  },
  {
   "cell_type": "markdown",
   "id": "918953de",
   "metadata": {},
   "source": [
    "* 시공사명이 아파트값에 영향을 줄 수 있다는 가설추가+  (재은)"
   ]
  },
  {
   "cell_type": "code",
   "execution_count": 25,
   "id": "e80a89b0",
   "metadata": {},
   "outputs": [
    {
     "data": {
      "text/html": [
       "<div>\n",
       "<style scoped>\n",
       "    .dataframe tbody tr th:only-of-type {\n",
       "        vertical-align: middle;\n",
       "    }\n",
       "\n",
       "    .dataframe tbody tr th {\n",
       "        vertical-align: top;\n",
       "    }\n",
       "\n",
       "    .dataframe thead th {\n",
       "        text-align: right;\n",
       "    }\n",
       "</style>\n",
       "<table border=\"1\" class=\"dataframe\">\n",
       "  <thead>\n",
       "    <tr style=\"text-align: right;\">\n",
       "      <th></th>\n",
       "      <th>시군구</th>\n",
       "      <th>동</th>\n",
       "      <th>단지명</th>\n",
       "      <th>전월세구분</th>\n",
       "      <th>전용면적</th>\n",
       "      <th>계약년월</th>\n",
       "      <th>층</th>\n",
       "      <th>건축년도</th>\n",
       "      <th>보증금</th>\n",
       "      <th>apt_counts</th>\n",
       "      <th>top10</th>\n",
       "    </tr>\n",
       "  </thead>\n",
       "  <tbody>\n",
       "    <tr>\n",
       "      <th>0</th>\n",
       "      <td>서울특별시 강남구 개포동</td>\n",
       "      <td>개포동</td>\n",
       "      <td>개포6차우성아파트1동~8동</td>\n",
       "      <td>전세</td>\n",
       "      <td>79.97</td>\n",
       "      <td>202001</td>\n",
       "      <td>1</td>\n",
       "      <td>1987</td>\n",
       "      <td>43000</td>\n",
       "      <td>3</td>\n",
       "      <td>0</td>\n",
       "    </tr>\n",
       "    <tr>\n",
       "      <th>1</th>\n",
       "      <td>서울특별시 강남구 개포동</td>\n",
       "      <td>개포동</td>\n",
       "      <td>개포6차우성아파트1동~8동</td>\n",
       "      <td>전세</td>\n",
       "      <td>79.97</td>\n",
       "      <td>202001</td>\n",
       "      <td>5</td>\n",
       "      <td>1987</td>\n",
       "      <td>45000</td>\n",
       "      <td>3</td>\n",
       "      <td>0</td>\n",
       "    </tr>\n",
       "    <tr>\n",
       "      <th>2</th>\n",
       "      <td>서울특별시 강남구 개포동</td>\n",
       "      <td>개포동</td>\n",
       "      <td>개포6차우성아파트1동~8동</td>\n",
       "      <td>전세</td>\n",
       "      <td>79.97</td>\n",
       "      <td>202001</td>\n",
       "      <td>4</td>\n",
       "      <td>1987</td>\n",
       "      <td>44000</td>\n",
       "      <td>3</td>\n",
       "      <td>0</td>\n",
       "    </tr>\n",
       "    <tr>\n",
       "      <th>3</th>\n",
       "      <td>서울특별시 강남구 개포동</td>\n",
       "      <td>개포동</td>\n",
       "      <td>개포우성3차</td>\n",
       "      <td>전세</td>\n",
       "      <td>133.46</td>\n",
       "      <td>202001</td>\n",
       "      <td>11</td>\n",
       "      <td>1984</td>\n",
       "      <td>90000</td>\n",
       "      <td>2</td>\n",
       "      <td>0</td>\n",
       "    </tr>\n",
       "    <tr>\n",
       "      <th>4</th>\n",
       "      <td>서울특별시 강남구 개포동</td>\n",
       "      <td>개포동</td>\n",
       "      <td>개포우성3차</td>\n",
       "      <td>전세</td>\n",
       "      <td>133.46</td>\n",
       "      <td>202001</td>\n",
       "      <td>11</td>\n",
       "      <td>1984</td>\n",
       "      <td>85000</td>\n",
       "      <td>2</td>\n",
       "      <td>0</td>\n",
       "    </tr>\n",
       "  </tbody>\n",
       "</table>\n",
       "</div>"
      ],
      "text/plain": [
       "             시군구    동             단지명 전월세구분    전용면적    계약년월   층  건축년도    보증금  \\\n",
       "0  서울특별시 강남구 개포동  개포동  개포6차우성아파트1동~8동    전세   79.97  202001   1  1987  43000   \n",
       "1  서울특별시 강남구 개포동  개포동  개포6차우성아파트1동~8동    전세   79.97  202001   5  1987  45000   \n",
       "2  서울특별시 강남구 개포동  개포동  개포6차우성아파트1동~8동    전세   79.97  202001   4  1987  44000   \n",
       "3  서울특별시 강남구 개포동  개포동          개포우성3차    전세  133.46  202001  11  1984  90000   \n",
       "4  서울특별시 강남구 개포동  개포동          개포우성3차    전세  133.46  202001  11  1984  85000   \n",
       "\n",
       "   apt_counts  top10  \n",
       "0           3      0  \n",
       "1           3      0  \n",
       "2           3      0  \n",
       "3           2      0  \n",
       "4           2      0  "
      ]
     },
     "execution_count": 25,
     "metadata": {},
     "output_type": "execute_result"
    }
   ],
   "source": [
    "# 비슷한 아파트들(숫자같은 것으로)끼리 여러번 나오는 것 방지, top시공사 10곳, 데이터에서 많이 나오는 아파트 25개의 이름 통일하기\n",
    "# top시공사 10곳은 2022년도 종합건설사업자 시공능력평가액 <토목건축공사업> 참고& 시공사들끼리 동일 아파트를 짓는 경우가 있어 시공사 및 아파트명으로 검색 진행\n",
    "'''\n",
    "삼성물산 주식회사 - 래미안\n",
    "현대건설(주) - 힐스테이트\n",
    "디엘이앤씨(주) - 이편한|e편한|e-편한\n",
    "(주)포스코건설 - 더샵\n",
    "지에스건설(주) - 자이\n",
    "(주)대우건설 - 푸르지오\n",
    "현대엔지니어링(주) - 아이파크|IPARK\n",
    "롯데건설(주) - 롯데캐슬\n",
    "에스케이에코플랜트(주) - sk|SK|에스케이\n",
    "에이치디씨현대산업개발(주)\n",
    "(주)태영건설 - 데시앙\n",
    "'''\n",
    "df['top10'] = 0\n",
    "top10 = ['자이', '푸르지오', '더샵', '롯데캐슬', '이편한|e편한|e-편한', '힐스테이트', '아이파크', '래미안', 'sk|SK|에스케이', '데시앙']\n",
    "\n",
    "df['단지명'] = df['단지명'].fillna('others')\n",
    "\n",
    "# top 10 시공사면 1, 아니면 0\n",
    "for i, brand in enumerate(top10):\n",
    "    df.loc[df['단지명'].str.contains(brand), 'top10'] = 1\n",
    "\n",
    "df.head(5)"
   ]
  },
  {
   "cell_type": "code",
   "execution_count": 26,
   "id": "baf328a9",
   "metadata": {},
   "outputs": [],
   "source": [
    "# 데이터에 많이 있는 아파트 대표 25개 리스트\n",
    "apt_names = ['고덕아르테온','현대','삼익그린2차','두산','신동아','은마','삼성','우성', '주공2', '한양수자인사가정파크','벽산','한신','주공아파트 5단지',\n",
    "                   '쌍용','목동신시가지7','동아','중앙하이츠','선사현대','고덕그라시움','북한산두산위브','잠실엘스','극동','미성','대림','목동신시가지14','삼환']\n",
    "# top 10 시공사 키워드와 25개 리스트를 통합\n",
    "apt_names_list = top10 + apt_names"
   ]
  },
  {
   "cell_type": "code",
   "execution_count": 27,
   "id": "c1f066d4",
   "metadata": {},
   "outputs": [],
   "source": [
    "# `apt_names_list`의 키워드에 해당하는 아파트명이 있는지 여부를 나타내는 새로운 컬럼 생성\n",
    "df['transformed'] = False"
   ]
  },
  {
   "cell_type": "code",
   "execution_count": 28,
   "id": "bc168828",
   "metadata": {},
   "outputs": [],
   "source": [
    "# `apt_names_list`의 키워드에 아파트명이 포함되면 해당 키워드로 아파트명 통일\n",
    "#  transformed` 컬럼값 True로 변경\n",
    "for a in (apt_names_list):\n",
    "    df.loc[df['단지명'].str.contains(a), '단지명'] = a\n",
    "    df.loc[df['단지명'].str.contains(a), 'transformed'] = True"
   ]
  },
  {
   "cell_type": "code",
   "execution_count": 29,
   "id": "95c90d08",
   "metadata": {},
   "outputs": [],
   "source": [
    "# 아파트 이름이 변경되지 않았을 경우(`transformed=False` 일 경우) 아파트명을 'others'로 변경\n",
    "for a in (apt_names):\n",
    "    df.loc[~df['transformed'], '단지명'] = 'others'"
   ]
  },
  {
   "cell_type": "code",
   "execution_count": 30,
   "id": "6a94f1cb",
   "metadata": {},
   "outputs": [
    {
     "data": {
      "text/plain": [
       "others          5942\n",
       "현대               780\n",
       "래미안              602\n",
       "푸르지오             363\n",
       "우성               335\n",
       "동아               326\n",
       "힐스테이트            299\n",
       "자이               274\n",
       "이편한|e편한|e-편한     257\n",
       "롯데캐슬             243\n",
       "삼성               241\n",
       "한신               229\n",
       "두산               228\n",
       "아이파크             197\n",
       "대림               159\n",
       "sk|SK|에스케이       127\n",
       "고덕아르테온           126\n",
       "쌍용               125\n",
       "벽산               121\n",
       "극동               102\n",
       "은마                79\n",
       "주공2               75\n",
       "중앙하이츠             71\n",
       "미성                69\n",
       "더샵                63\n",
       "데시앙               61\n",
       "한양수자인사가정파크        45\n",
       "주공아파트 5단지         42\n",
       "삼환                39\n",
       "목동신시가지7           38\n",
       "고덕그라시움            36\n",
       "잠실엘스              36\n",
       "목동신시가지14          32\n",
       "삼익그린2차            31\n",
       "Name: 단지명, dtype: int64"
      ]
     },
     "execution_count": 30,
     "metadata": {},
     "output_type": "execute_result"
    }
   ],
   "source": [
    "df['단지명'].value_counts()"
   ]
  },
  {
   "cell_type": "code",
   "execution_count": 31,
   "id": "069164da",
   "metadata": {},
   "outputs": [
    {
     "name": "stdout",
     "output_type": "stream",
     "text": [
      "변환전\n",
      " 단지명\n",
      "잠실엘스    88083.333333\n",
      "더샵      70598.333333\n",
      "자이      65840.492701\n",
      "래미안     64266.313953\n",
      "롯데캐슬    60653.004115\n",
      "Name: 보증금, dtype: float64\n"
     ]
    }
   ],
   "source": [
    "# 아파트별 가격 평균 내림차순으로 정렬\n",
    "apt_price = df.groupby('단지명')['보증금'].agg('mean').sort_values(ascending=False)\n",
    "print('변환전\\n', apt_price[:5])"
   ]
  },
  {
   "cell_type": "code",
   "execution_count": 32,
   "id": "60e391e5",
   "metadata": {},
   "outputs": [
    {
     "name": "stdout",
     "output_type": "stream",
     "text": [
      "변환후\n",
      " 단지명\n",
      "0    88083.333333\n",
      "1    70598.333333\n",
      "2    65840.492701\n",
      "3    64266.313953\n",
      "4    60653.004115\n",
      "Name: 보증금, dtype: float64\n"
     ]
    }
   ],
   "source": [
    "#가격별로 0~ 인코딩 해주기\n",
    "for i, a in enumerate(list(apt_price.index)):\n",
    "    df.loc[df['단지명'] == a, '단지명'] = i \n",
    "apt_price = df.groupby('단지명')['보증금'].agg('mean').sort_values(ascending=False)\n",
    "print('변환후\\n', apt_price[:5])"
   ]
  },
  {
   "cell_type": "code",
   "execution_count": 33,
   "id": "d31f9301",
   "metadata": {},
   "outputs": [
    {
     "name": "stdout",
     "output_type": "stream",
     "text": [
      "변환전\n",
      " [1987 1984 2004 1983 1993]\n",
      "변환후\n",
      " [19 16 36 15 25]\n"
     ]
    }
   ],
   "source": [
    "# 완공연도에서 최소연도 빼서 완공연도 라벨인코딩\n",
    "print('변환전\\n', df['건축년도'].unique()[:5])\n",
    "df['건축년도'] = df['건축년도'] - df['건축년도'].min()\n",
    "print('변환후\\n', df['건축년도'].unique()[:5])"
   ]
  },
  {
   "cell_type": "code",
   "execution_count": 34,
   "id": "52cb6e5f",
   "metadata": {},
   "outputs": [
    {
     "name": "stdout",
     "output_type": "stream",
     "text": [
      "train 변환후\n",
      " 0        0\n",
      "1        0\n",
      "2        0\n",
      "3        0\n",
      "4        0\n",
      "        ..\n",
      "11788    0\n",
      "11789    0\n",
      "11790    0\n",
      "11791    0\n",
      "11792    0\n",
      "Name: 계약년월, Length: 11793, dtype: int64\n",
      "test 변환후\n",
      " [0]\n"
     ]
    }
   ],
   "source": [
    "# 연월 증가하는 순으로 라벨 인코딩 : 계약년월\n",
    "le = LabelEncoder()\n",
    "df['계약년월'] = le.fit_transform(df['계약년월'])\n",
    "print('train 변환후\\n', df['계약년월'])\n",
    "print('test 변환후\\n', df['계약년월'].unique()[:5])"
   ]
  },
  {
   "cell_type": "code",
   "execution_count": 35,
   "id": "9b911be0",
   "metadata": {},
   "outputs": [
    {
     "data": {
      "text/html": [
       "<div>\n",
       "<style scoped>\n",
       "    .dataframe tbody tr th:only-of-type {\n",
       "        vertical-align: middle;\n",
       "    }\n",
       "\n",
       "    .dataframe tbody tr th {\n",
       "        vertical-align: top;\n",
       "    }\n",
       "\n",
       "    .dataframe thead th {\n",
       "        text-align: right;\n",
       "    }\n",
       "</style>\n",
       "<table border=\"1\" class=\"dataframe\">\n",
       "  <thead>\n",
       "    <tr style=\"text-align: right;\">\n",
       "      <th></th>\n",
       "      <th>시군구</th>\n",
       "      <th>동</th>\n",
       "      <th>단지명</th>\n",
       "      <th>전월세구분</th>\n",
       "      <th>전용면적</th>\n",
       "      <th>계약년월</th>\n",
       "      <th>층</th>\n",
       "      <th>건축년도</th>\n",
       "      <th>보증금</th>\n",
       "      <th>apt_counts</th>\n",
       "      <th>top10</th>\n",
       "      <th>transformed</th>\n",
       "    </tr>\n",
       "  </thead>\n",
       "  <tbody>\n",
       "    <tr>\n",
       "      <th>0</th>\n",
       "      <td>서울특별시 강남구 개포동</td>\n",
       "      <td>개포동</td>\n",
       "      <td>16</td>\n",
       "      <td>전세</td>\n",
       "      <td>79.97</td>\n",
       "      <td>0</td>\n",
       "      <td>1</td>\n",
       "      <td>19</td>\n",
       "      <td>43000</td>\n",
       "      <td>3</td>\n",
       "      <td>0</td>\n",
       "      <td>True</td>\n",
       "    </tr>\n",
       "    <tr>\n",
       "      <th>1</th>\n",
       "      <td>서울특별시 강남구 개포동</td>\n",
       "      <td>개포동</td>\n",
       "      <td>16</td>\n",
       "      <td>전세</td>\n",
       "      <td>79.97</td>\n",
       "      <td>0</td>\n",
       "      <td>5</td>\n",
       "      <td>19</td>\n",
       "      <td>45000</td>\n",
       "      <td>3</td>\n",
       "      <td>0</td>\n",
       "      <td>True</td>\n",
       "    </tr>\n",
       "    <tr>\n",
       "      <th>2</th>\n",
       "      <td>서울특별시 강남구 개포동</td>\n",
       "      <td>개포동</td>\n",
       "      <td>16</td>\n",
       "      <td>전세</td>\n",
       "      <td>79.97</td>\n",
       "      <td>0</td>\n",
       "      <td>4</td>\n",
       "      <td>19</td>\n",
       "      <td>44000</td>\n",
       "      <td>3</td>\n",
       "      <td>0</td>\n",
       "      <td>True</td>\n",
       "    </tr>\n",
       "    <tr>\n",
       "      <th>3</th>\n",
       "      <td>서울특별시 강남구 개포동</td>\n",
       "      <td>개포동</td>\n",
       "      <td>16</td>\n",
       "      <td>전세</td>\n",
       "      <td>133.46</td>\n",
       "      <td>0</td>\n",
       "      <td>11</td>\n",
       "      <td>16</td>\n",
       "      <td>90000</td>\n",
       "      <td>2</td>\n",
       "      <td>0</td>\n",
       "      <td>True</td>\n",
       "    </tr>\n",
       "    <tr>\n",
       "      <th>4</th>\n",
       "      <td>서울특별시 강남구 개포동</td>\n",
       "      <td>개포동</td>\n",
       "      <td>16</td>\n",
       "      <td>전세</td>\n",
       "      <td>133.46</td>\n",
       "      <td>0</td>\n",
       "      <td>11</td>\n",
       "      <td>16</td>\n",
       "      <td>85000</td>\n",
       "      <td>2</td>\n",
       "      <td>0</td>\n",
       "      <td>True</td>\n",
       "    </tr>\n",
       "  </tbody>\n",
       "</table>\n",
       "</div>"
      ],
      "text/plain": [
       "             시군구    동 단지명 전월세구분    전용면적  계약년월   층  건축년도    보증금  apt_counts  \\\n",
       "0  서울특별시 강남구 개포동  개포동  16    전세   79.97     0   1    19  43000           3   \n",
       "1  서울특별시 강남구 개포동  개포동  16    전세   79.97     0   5    19  45000           3   \n",
       "2  서울특별시 강남구 개포동  개포동  16    전세   79.97     0   4    19  44000           3   \n",
       "3  서울특별시 강남구 개포동  개포동  16    전세  133.46     0  11    16  90000           2   \n",
       "4  서울특별시 강남구 개포동  개포동  16    전세  133.46     0  11    16  85000           2   \n",
       "\n",
       "   top10  transformed  \n",
       "0      0         True  \n",
       "1      0         True  \n",
       "2      0         True  \n",
       "3      0         True  \n",
       "4      0         True  "
      ]
     },
     "execution_count": 35,
     "metadata": {},
     "output_type": "execute_result"
    }
   ],
   "source": [
    "df.head(5)"
   ]
  },
  {
   "cell_type": "code",
   "execution_count": 36,
   "id": "f1d90a0e",
   "metadata": {},
   "outputs": [
    {
     "data": {
      "text/plain": [
       "동\n",
       "내수동       120000.000000\n",
       "하중동       115000.000000\n",
       "용산동5가     112400.000000\n",
       "도곡동        96121.020408\n",
       "남대문로5가     95000.000000\n",
       "반포동        94562.192982\n",
       "청담동        90826.278689\n",
       "홍파동        90222.222222\n",
       "대치동        86011.764706\n",
       "평동         85980.000000\n",
       "한강로1가      84000.000000\n",
       "서교동        83500.000000\n",
       "압구정동       82608.974359\n",
       "신계동        81200.000000\n",
       "한강로2가      80850.000000\n",
       "한남동        80805.555556\n",
       "삼성동        80156.250000\n",
       "방배동        77991.743119\n",
       "잠실동        76938.379888\n",
       "회현동1가      73200.000000\n",
       "Name: 보증금, dtype: float64"
      ]
     },
     "execution_count": 36,
     "metadata": {},
     "output_type": "execute_result"
    }
   ],
   "source": [
    "# 동 인코딩하기\n",
    "\n",
    "#동 EDA\n",
    "dong_price = df.groupby('동')['보증금'].agg('mean').sort_values(ascending=False)\n",
    "dong_price[:20]\n",
    "\n",
    "#현재 데이터에서는 가장 비싼 동은 종로구 내수동"
   ]
  },
  {
   "cell_type": "code",
   "execution_count": 37,
   "id": "702d1a04",
   "metadata": {},
   "outputs": [
    {
     "data": {
      "text/html": [
       "<div>\n",
       "<style scoped>\n",
       "    .dataframe tbody tr th:only-of-type {\n",
       "        vertical-align: middle;\n",
       "    }\n",
       "\n",
       "    .dataframe tbody tr th {\n",
       "        vertical-align: top;\n",
       "    }\n",
       "\n",
       "    .dataframe thead th {\n",
       "        text-align: right;\n",
       "    }\n",
       "</style>\n",
       "<table border=\"1\" class=\"dataframe\">\n",
       "  <thead>\n",
       "    <tr style=\"text-align: right;\">\n",
       "      <th></th>\n",
       "      <th>시군구</th>\n",
       "      <th>동</th>\n",
       "      <th>단지명</th>\n",
       "      <th>전월세구분</th>\n",
       "      <th>전용면적</th>\n",
       "      <th>계약년월</th>\n",
       "      <th>층</th>\n",
       "      <th>건축년도</th>\n",
       "      <th>보증금</th>\n",
       "      <th>apt_counts</th>\n",
       "      <th>top10</th>\n",
       "      <th>transformed</th>\n",
       "    </tr>\n",
       "  </thead>\n",
       "  <tbody>\n",
       "    <tr>\n",
       "      <th>0</th>\n",
       "      <td>서울특별시 강남구 개포동</td>\n",
       "      <td>64</td>\n",
       "      <td>16</td>\n",
       "      <td>전세</td>\n",
       "      <td>79.97</td>\n",
       "      <td>0</td>\n",
       "      <td>1</td>\n",
       "      <td>19</td>\n",
       "      <td>43000</td>\n",
       "      <td>3</td>\n",
       "      <td>0</td>\n",
       "      <td>True</td>\n",
       "    </tr>\n",
       "    <tr>\n",
       "      <th>1</th>\n",
       "      <td>서울특별시 강남구 개포동</td>\n",
       "      <td>64</td>\n",
       "      <td>16</td>\n",
       "      <td>전세</td>\n",
       "      <td>79.97</td>\n",
       "      <td>0</td>\n",
       "      <td>5</td>\n",
       "      <td>19</td>\n",
       "      <td>45000</td>\n",
       "      <td>3</td>\n",
       "      <td>0</td>\n",
       "      <td>True</td>\n",
       "    </tr>\n",
       "    <tr>\n",
       "      <th>2</th>\n",
       "      <td>서울특별시 강남구 개포동</td>\n",
       "      <td>64</td>\n",
       "      <td>16</td>\n",
       "      <td>전세</td>\n",
       "      <td>79.97</td>\n",
       "      <td>0</td>\n",
       "      <td>4</td>\n",
       "      <td>19</td>\n",
       "      <td>44000</td>\n",
       "      <td>3</td>\n",
       "      <td>0</td>\n",
       "      <td>True</td>\n",
       "    </tr>\n",
       "    <tr>\n",
       "      <th>3</th>\n",
       "      <td>서울특별시 강남구 개포동</td>\n",
       "      <td>64</td>\n",
       "      <td>16</td>\n",
       "      <td>전세</td>\n",
       "      <td>133.46</td>\n",
       "      <td>0</td>\n",
       "      <td>11</td>\n",
       "      <td>16</td>\n",
       "      <td>90000</td>\n",
       "      <td>2</td>\n",
       "      <td>0</td>\n",
       "      <td>True</td>\n",
       "    </tr>\n",
       "    <tr>\n",
       "      <th>4</th>\n",
       "      <td>서울특별시 강남구 개포동</td>\n",
       "      <td>64</td>\n",
       "      <td>16</td>\n",
       "      <td>전세</td>\n",
       "      <td>133.46</td>\n",
       "      <td>0</td>\n",
       "      <td>11</td>\n",
       "      <td>16</td>\n",
       "      <td>85000</td>\n",
       "      <td>2</td>\n",
       "      <td>0</td>\n",
       "      <td>True</td>\n",
       "    </tr>\n",
       "    <tr>\n",
       "      <th>...</th>\n",
       "      <td>...</td>\n",
       "      <td>...</td>\n",
       "      <td>...</td>\n",
       "      <td>...</td>\n",
       "      <td>...</td>\n",
       "      <td>...</td>\n",
       "      <td>...</td>\n",
       "      <td>...</td>\n",
       "      <td>...</td>\n",
       "      <td>...</td>\n",
       "      <td>...</td>\n",
       "      <td>...</td>\n",
       "    </tr>\n",
       "    <tr>\n",
       "      <th>11788</th>\n",
       "      <td>서울특별시 중랑구 중화동</td>\n",
       "      <td>231</td>\n",
       "      <td>23</td>\n",
       "      <td>전세</td>\n",
       "      <td>50.37</td>\n",
       "      <td>0</td>\n",
       "      <td>24</td>\n",
       "      <td>29</td>\n",
       "      <td>28000</td>\n",
       "      <td>11</td>\n",
       "      <td>0</td>\n",
       "      <td>True</td>\n",
       "    </tr>\n",
       "    <tr>\n",
       "      <th>11789</th>\n",
       "      <td>서울특별시 중랑구 중화동</td>\n",
       "      <td>231</td>\n",
       "      <td>23</td>\n",
       "      <td>전세</td>\n",
       "      <td>59.76</td>\n",
       "      <td>0</td>\n",
       "      <td>7</td>\n",
       "      <td>29</td>\n",
       "      <td>31000</td>\n",
       "      <td>11</td>\n",
       "      <td>0</td>\n",
       "      <td>True</td>\n",
       "    </tr>\n",
       "    <tr>\n",
       "      <th>11790</th>\n",
       "      <td>서울특별시 중랑구 중화동</td>\n",
       "      <td>231</td>\n",
       "      <td>23</td>\n",
       "      <td>전세</td>\n",
       "      <td>50.37</td>\n",
       "      <td>0</td>\n",
       "      <td>6</td>\n",
       "      <td>29</td>\n",
       "      <td>27000</td>\n",
       "      <td>11</td>\n",
       "      <td>0</td>\n",
       "      <td>True</td>\n",
       "    </tr>\n",
       "    <tr>\n",
       "      <th>11791</th>\n",
       "      <td>서울특별시 중랑구 중화동</td>\n",
       "      <td>231</td>\n",
       "      <td>23</td>\n",
       "      <td>전세</td>\n",
       "      <td>50.37</td>\n",
       "      <td>0</td>\n",
       "      <td>5</td>\n",
       "      <td>29</td>\n",
       "      <td>26000</td>\n",
       "      <td>11</td>\n",
       "      <td>0</td>\n",
       "      <td>True</td>\n",
       "    </tr>\n",
       "    <tr>\n",
       "      <th>11792</th>\n",
       "      <td>서울특별시 중랑구 중화동</td>\n",
       "      <td>231</td>\n",
       "      <td>23</td>\n",
       "      <td>전세</td>\n",
       "      <td>84.03</td>\n",
       "      <td>0</td>\n",
       "      <td>17</td>\n",
       "      <td>29</td>\n",
       "      <td>34000</td>\n",
       "      <td>11</td>\n",
       "      <td>0</td>\n",
       "      <td>True</td>\n",
       "    </tr>\n",
       "  </tbody>\n",
       "</table>\n",
       "<p>11793 rows × 12 columns</p>\n",
       "</div>"
      ],
      "text/plain": [
       "                 시군구    동 단지명 전월세구분    전용면적  계약년월   층  건축년도    보증금  \\\n",
       "0      서울특별시 강남구 개포동   64  16    전세   79.97     0   1    19  43000   \n",
       "1      서울특별시 강남구 개포동   64  16    전세   79.97     0   5    19  45000   \n",
       "2      서울특별시 강남구 개포동   64  16    전세   79.97     0   4    19  44000   \n",
       "3      서울특별시 강남구 개포동   64  16    전세  133.46     0  11    16  90000   \n",
       "4      서울특별시 강남구 개포동   64  16    전세  133.46     0  11    16  85000   \n",
       "...              ...  ...  ..   ...     ...   ...  ..   ...    ...   \n",
       "11788  서울특별시 중랑구 중화동  231  23    전세   50.37     0  24    29  28000   \n",
       "11789  서울특별시 중랑구 중화동  231  23    전세   59.76     0   7    29  31000   \n",
       "11790  서울특별시 중랑구 중화동  231  23    전세   50.37     0   6    29  27000   \n",
       "11791  서울특별시 중랑구 중화동  231  23    전세   50.37     0   5    29  26000   \n",
       "11792  서울특별시 중랑구 중화동  231  23    전세   84.03     0  17    29  34000   \n",
       "\n",
       "       apt_counts  top10  transformed  \n",
       "0               3      0         True  \n",
       "1               3      0         True  \n",
       "2               3      0         True  \n",
       "3               2      0         True  \n",
       "4               2      0         True  \n",
       "...           ...    ...          ...  \n",
       "11788          11      0         True  \n",
       "11789          11      0         True  \n",
       "11790          11      0         True  \n",
       "11791          11      0         True  \n",
       "11792          11      0         True  \n",
       "\n",
       "[11793 rows x 12 columns]"
      ]
     },
     "execution_count": 37,
     "metadata": {},
     "output_type": "execute_result"
    }
   ],
   "source": [
    "# 동별 인코딩\n",
    "for i, d in enumerate(list(dong_price.index)):\n",
    "    df.loc[df['동'] == d, '동'] = i\n",
    "\n",
    "df"
   ]
  },
  {
   "cell_type": "code",
   "execution_count": 38,
   "id": "d511f60d",
   "metadata": {},
   "outputs": [
    {
     "name": "stdout",
     "output_type": "stream",
     "text": [
      "[ 1  5  4 11 11]\n"
     ]
    }
   ],
   "source": [
    "# 층 수 확인\n",
    "print(df['층'].values[:5])"
   ]
  },
  {
   "cell_type": "code",
   "execution_count": 39,
   "id": "0c25f3ae",
   "metadata": {},
   "outputs": [
    {
     "data": {
      "text/html": [
       "<div>\n",
       "<style scoped>\n",
       "    .dataframe tbody tr th:only-of-type {\n",
       "        vertical-align: middle;\n",
       "    }\n",
       "\n",
       "    .dataframe tbody tr th {\n",
       "        vertical-align: top;\n",
       "    }\n",
       "\n",
       "    .dataframe thead th {\n",
       "        text-align: right;\n",
       "    }\n",
       "</style>\n",
       "<table border=\"1\" class=\"dataframe\">\n",
       "  <thead>\n",
       "    <tr style=\"text-align: right;\">\n",
       "      <th></th>\n",
       "      <th>동</th>\n",
       "      <th>단지명</th>\n",
       "      <th>전용면적</th>\n",
       "      <th>계약년월</th>\n",
       "      <th>층</th>\n",
       "      <th>건축년도</th>\n",
       "      <th>보증금</th>\n",
       "      <th>apt_counts</th>\n",
       "      <th>top10</th>\n",
       "      <th>transformed</th>\n",
       "    </tr>\n",
       "  </thead>\n",
       "  <tbody>\n",
       "    <tr>\n",
       "      <th>0</th>\n",
       "      <td>64</td>\n",
       "      <td>16</td>\n",
       "      <td>79.97</td>\n",
       "      <td>0</td>\n",
       "      <td>1</td>\n",
       "      <td>19</td>\n",
       "      <td>43000</td>\n",
       "      <td>3</td>\n",
       "      <td>0</td>\n",
       "      <td>True</td>\n",
       "    </tr>\n",
       "    <tr>\n",
       "      <th>1</th>\n",
       "      <td>64</td>\n",
       "      <td>16</td>\n",
       "      <td>79.97</td>\n",
       "      <td>0</td>\n",
       "      <td>5</td>\n",
       "      <td>19</td>\n",
       "      <td>45000</td>\n",
       "      <td>3</td>\n",
       "      <td>0</td>\n",
       "      <td>True</td>\n",
       "    </tr>\n",
       "    <tr>\n",
       "      <th>2</th>\n",
       "      <td>64</td>\n",
       "      <td>16</td>\n",
       "      <td>79.97</td>\n",
       "      <td>0</td>\n",
       "      <td>4</td>\n",
       "      <td>19</td>\n",
       "      <td>44000</td>\n",
       "      <td>3</td>\n",
       "      <td>0</td>\n",
       "      <td>True</td>\n",
       "    </tr>\n",
       "    <tr>\n",
       "      <th>3</th>\n",
       "      <td>64</td>\n",
       "      <td>16</td>\n",
       "      <td>133.46</td>\n",
       "      <td>0</td>\n",
       "      <td>11</td>\n",
       "      <td>16</td>\n",
       "      <td>90000</td>\n",
       "      <td>2</td>\n",
       "      <td>0</td>\n",
       "      <td>True</td>\n",
       "    </tr>\n",
       "    <tr>\n",
       "      <th>4</th>\n",
       "      <td>64</td>\n",
       "      <td>16</td>\n",
       "      <td>133.46</td>\n",
       "      <td>0</td>\n",
       "      <td>11</td>\n",
       "      <td>16</td>\n",
       "      <td>85000</td>\n",
       "      <td>2</td>\n",
       "      <td>0</td>\n",
       "      <td>True</td>\n",
       "    </tr>\n",
       "  </tbody>\n",
       "</table>\n",
       "</div>"
      ],
      "text/plain": [
       "    동 단지명    전용면적  계약년월   층  건축년도    보증금  apt_counts  top10  transformed\n",
       "0  64  16   79.97     0   1    19  43000           3      0         True\n",
       "1  64  16   79.97     0   5    19  45000           3      0         True\n",
       "2  64  16   79.97     0   4    19  44000           3      0         True\n",
       "3  64  16  133.46     0  11    16  90000           2      0         True\n",
       "4  64  16  133.46     0  11    16  85000           2      0         True"
      ]
     },
     "execution_count": 39,
     "metadata": {},
     "output_type": "execute_result"
    }
   ],
   "source": [
    "# 시군구,전세 컬럼 삭제\n",
    "df = df.drop(['시군구', '전월세구분'], axis=1)\n",
    "df.head()"
   ]
  },
  {
   "cell_type": "markdown",
   "id": "d62af4bd",
   "metadata": {},
   "source": [
    "# 변수 간 연관분석  # 추가(230703 재은)"
   ]
  },
  {
   "cell_type": "code",
   "execution_count": 40,
   "id": "4eb5a458",
   "metadata": {},
   "outputs": [],
   "source": [
    "# 변수로 뽑은 동, 단지명, 전용면적, 계약년월, 층, 건축년도, 보증금 등을 모두 숫자화 함\n",
    "# 상관분석을 위해 df에서 시군구를 제외하고 동~ 다시 reframe진행함, 표를 보기 위해 영어로 변수 변경\n",
    "# 상관분석 데이터는 기존 데이터 복사본으로 진행 & 동, 단지명, 전용면적, 계약년월, 층, 건축년도, 추가한 top10, 보증금만 확인"
   ]
  },
  {
   "cell_type": "code",
   "execution_count": 41,
   "id": "b3bcb679",
   "metadata": {},
   "outputs": [
    {
     "name": "stdout",
     "output_type": "stream",
     "text": [
      "[9.99993696e-01 5.39394784e-06 6.38594189e-07 1.69993546e-07\n",
      " 5.25929646e-08 4.87857113e-08 8.73669287e-11 3.61518155e-41]\n"
     ]
    }
   ],
   "source": [
    "# PCA를 수행 데이터\n",
    "df_copy = df.copy()\n",
    "df_copy = df_copy[['동', '단지명', '전용면적', '계약년월', '층', '건축년도','top10', '보증금']]\n",
    "df_copy.columns = ['dong', 'apt_name', 'area', 'contract_month', 'floor', 'construction_year','top10', 'deposit']\n",
    "\n",
    "# PCA를 수행합니다.\n",
    "pca = PCA()\n",
    "pca.fit(df_copy)\n",
    "\n",
    "# PCA 결과를 해석\n",
    "print(pca.explained_variance_ratio_)"
   ]
  },
  {
   "cell_type": "code",
   "execution_count": 42,
   "id": "a6b7e6a5",
   "metadata": {},
   "outputs": [],
   "source": [
    "# 첫 번째 주성분이 데이터의 99.99%의 분산을 설명하기 때문에 따로 차원축소를 할 필요가 없음"
   ]
  },
  {
   "cell_type": "markdown",
   "id": "6fc762bc",
   "metadata": {},
   "source": [
    "# 상관분석"
   ]
  },
  {
   "cell_type": "code",
   "execution_count": 43,
   "id": "d9cde096",
   "metadata": {},
   "outputs": [
    {
     "name": "stderr",
     "output_type": "stream",
     "text": [
      "C:\\Users\\tjoeun\\AppData\\Local\\Temp\\ipykernel_18340\\2155561838.py:7: FutureWarning: The default value of numeric_only in DataFrame.corr is deprecated. In a future version, it will default to False. Select only valid columns or specify the value of numeric_only to silence this warning.\n",
      "  df_corr=df_copy.corr()\n"
     ]
    },
    {
     "data": {
      "image/png": "[encoded data removed]",
      "text/plain": [
       "<Figure size 1000x1000 with 1 Axes>"
      ]
     },
     "metadata": {},
     "output_type": "display_data"
    }
   ],
   "source": [
    "# 상관분석1: 상관 관계 행렬\n",
    "# 'dong', 'apt_name' 가 범주형 값이기 때문에 더미코드 활용 : 이걸로 돌리면 무지하게 오래 걸립니다.\n",
    "# df_dummies = pd.get_dummies(df_copy, columns=['dong', 'apt_name'])\n",
    "# df_corr = df_dummies.corr()\n",
    "\n",
    "#퍼포먼스 저하로 일단 두가지 항목 제외한 히트맵 확인\n",
    "df_corr=df_copy.corr()\n",
    "\n",
    "#히트맵\n",
    "plt.figure(figsize=(10,10))\n",
    "sns.set(font_scale=0.8)\n",
    "sns.heatmap(df_corr, annot=True, cbar=False)\n",
    "plt.show()"
   ]
  },
  {
   "cell_type": "code",
   "execution_count": 44,
   "id": "13e84bce",
   "metadata": {},
   "outputs": [
    {
     "name": "stderr",
     "output_type": "stream",
     "text": [
      "C:\\Users\\tjoeun\\AppData\\Local\\Temp\\ipykernel_18340\\1288456240.py:2: FutureWarning: The default value of numeric_only in DataFrame.corr is deprecated. In a future version, it will default to False. Select only valid columns or specify the value of numeric_only to silence this warning.\n",
      "  corr_order = df_copy.corr().loc[:'top10', 'deposit'].abs().sort_values(ascending=False)\n"
     ]
    },
    {
     "data": {
      "text/plain": [
       "area                 0.654156\n",
       "top10                0.261728\n",
       "floor                0.193018\n",
       "construction_year    0.179688\n",
       "contract_month            NaN\n",
       "Name: deposit, dtype: float64"
      ]
     },
     "execution_count": 44,
     "metadata": {},
     "output_type": "execute_result"
    }
   ],
   "source": [
    "# 보증금과 가장 상관관계가 높은 순으로 출력하기\n",
    "corr_order = df_copy.corr().loc[:'top10', 'deposit'].abs().sort_values(ascending=False)\n",
    "corr_order"
   ]
  },
  {
   "cell_type": "code",
   "execution_count": 45,
   "id": "77cadb8b",
   "metadata": {},
   "outputs": [],
   "source": [
    "# 더미 적용 & 더미미적용 두 가지 일단 같은 값으로 나옴"
   ]
  },
  {
   "cell_type": "code",
   "execution_count": 46,
   "id": "735a325a",
   "metadata": {},
   "outputs": [
    {
     "data": {
      "text/html": [
       "<div>\n",
       "<style scoped>\n",
       "    .dataframe tbody tr th:only-of-type {\n",
       "        vertical-align: middle;\n",
       "    }\n",
       "\n",
       "    .dataframe tbody tr th {\n",
       "        vertical-align: top;\n",
       "    }\n",
       "\n",
       "    .dataframe thead th {\n",
       "        text-align: right;\n",
       "    }\n",
       "</style>\n",
       "<table border=\"1\" class=\"dataframe\">\n",
       "  <thead>\n",
       "    <tr style=\"text-align: right;\">\n",
       "      <th></th>\n",
       "      <th>deposit</th>\n",
       "      <th>area</th>\n",
       "      <th>top10</th>\n",
       "      <th>floor</th>\n",
       "      <th>construction_year</th>\n",
       "      <th>contract_month</th>\n",
       "    </tr>\n",
       "  </thead>\n",
       "  <tbody>\n",
       "    <tr>\n",
       "      <th>0</th>\n",
       "      <td>43000</td>\n",
       "      <td>79.97</td>\n",
       "      <td>0</td>\n",
       "      <td>1</td>\n",
       "      <td>19</td>\n",
       "      <td>0</td>\n",
       "    </tr>\n",
       "    <tr>\n",
       "      <th>1</th>\n",
       "      <td>45000</td>\n",
       "      <td>79.97</td>\n",
       "      <td>0</td>\n",
       "      <td>5</td>\n",
       "      <td>19</td>\n",
       "      <td>0</td>\n",
       "    </tr>\n",
       "    <tr>\n",
       "      <th>2</th>\n",
       "      <td>44000</td>\n",
       "      <td>79.97</td>\n",
       "      <td>0</td>\n",
       "      <td>4</td>\n",
       "      <td>19</td>\n",
       "      <td>0</td>\n",
       "    </tr>\n",
       "    <tr>\n",
       "      <th>3</th>\n",
       "      <td>90000</td>\n",
       "      <td>133.46</td>\n",
       "      <td>0</td>\n",
       "      <td>11</td>\n",
       "      <td>16</td>\n",
       "      <td>0</td>\n",
       "    </tr>\n",
       "    <tr>\n",
       "      <th>4</th>\n",
       "      <td>85000</td>\n",
       "      <td>133.46</td>\n",
       "      <td>0</td>\n",
       "      <td>11</td>\n",
       "      <td>16</td>\n",
       "      <td>0</td>\n",
       "    </tr>\n",
       "  </tbody>\n",
       "</table>\n",
       "</div>"
      ],
      "text/plain": [
       "   deposit    area  top10  floor  construction_year  contract_month\n",
       "0    43000   79.97      0      1                 19               0\n",
       "1    45000   79.97      0      5                 19               0\n",
       "2    44000   79.97      0      4                 19               0\n",
       "3    90000  133.46      0     11                 16               0\n",
       "4    85000  133.46      0     11                 16               0"
      ]
     },
     "execution_count": 46,
     "metadata": {},
     "output_type": "execute_result"
    }
   ],
   "source": [
    "# 상관분석2 :  선형회귀로 확인하기\n",
    "# 시각화로 상관분석할 피처 정하기\n",
    "plot_cols = ['deposit', 'area','top10','floor','construction_year','contract_month']\n",
    "plot_df = df_copy.loc[:, plot_cols]\n",
    "\n",
    "plot_df.head()"
   ]
  },
  {
   "cell_type": "code",
   "execution_count": 47,
   "id": "42a8bf55",
   "metadata": {},
   "outputs": [
    {
     "data": {
      "image/png": "[encoded data removed]",
      "text/plain": [
       "<Figure size 1000x1000 with 5 Axes>"
      ]
     },
     "metadata": {},
     "output_type": "display_data"
    }
   ],
   "source": [
    "# regplot으로 선형회귀선 표시하기\n",
    "plt.figure(figsize=(10, 10))\n",
    "for idx, col in enumerate(plot_cols[1:]):\n",
    "  ax1 = plt.subplot(3, 2, idx + 1)\n",
    "  sns.regplot(x=col, y=plot_cols[0], data=plot_df, ax=ax1, color='gray', line_kws={'color': 'red'}) #회귀선 잘 보이게 수정(230703 재은)\n",
    "plt.show()"
   ]
  },
  {
   "cell_type": "code",
   "execution_count": 48,
   "id": "168ce1a9",
   "metadata": {},
   "outputs": [],
   "source": [
    "# 보증금과 비교했을 시\n",
    "# 면적은 양의 상관관계가 있음\n",
    "# 층 역시 양의 상관관계가 보입\n",
    "# top10은 시각화했 시 연관성잘 보이지 않지만, 상관관계가 높은 순으로 출력하면 면적 다음으로 영향을 주는 것으로 나옴\n",
    "# contract_month, construction_year와 관련해서는 자료부족으로 조금 더 많은 분석이 필요함 "
   ]
  },
  {
   "cell_type": "code",
   "execution_count": 49,
   "id": "55efcd38",
   "metadata": {},
   "outputs": [],
   "source": [
    "# 상관분석3 : 스피어만 상관계수로 확인해보기 # 추가(230703 재은)"
   ]
  },
  {
   "cell_type": "code",
   "execution_count": 50,
   "id": "72aea99c",
   "metadata": {},
   "outputs": [
    {
     "data": {
      "text/html": [
       "<div>\n",
       "<style scoped>\n",
       "    .dataframe tbody tr th:only-of-type {\n",
       "        vertical-align: middle;\n",
       "    }\n",
       "\n",
       "    .dataframe tbody tr th {\n",
       "        vertical-align: top;\n",
       "    }\n",
       "\n",
       "    .dataframe thead th {\n",
       "        text-align: right;\n",
       "    }\n",
       "</style>\n",
       "<table border=\"1\" class=\"dataframe\">\n",
       "  <thead>\n",
       "    <tr style=\"text-align: right;\">\n",
       "      <th></th>\n",
       "      <th>dong</th>\n",
       "      <th>apt_name</th>\n",
       "      <th>area</th>\n",
       "      <th>contract_month</th>\n",
       "      <th>floor</th>\n",
       "      <th>construction_year</th>\n",
       "      <th>top10</th>\n",
       "      <th>deposit</th>\n",
       "    </tr>\n",
       "  </thead>\n",
       "  <tbody>\n",
       "    <tr>\n",
       "      <th>0</th>\n",
       "      <td>64</td>\n",
       "      <td>16</td>\n",
       "      <td>79.97</td>\n",
       "      <td>0</td>\n",
       "      <td>1</td>\n",
       "      <td>19</td>\n",
       "      <td>0</td>\n",
       "      <td>43000</td>\n",
       "    </tr>\n",
       "    <tr>\n",
       "      <th>1</th>\n",
       "      <td>64</td>\n",
       "      <td>16</td>\n",
       "      <td>79.97</td>\n",
       "      <td>0</td>\n",
       "      <td>5</td>\n",
       "      <td>19</td>\n",
       "      <td>0</td>\n",
       "      <td>45000</td>\n",
       "    </tr>\n",
       "    <tr>\n",
       "      <th>2</th>\n",
       "      <td>64</td>\n",
       "      <td>16</td>\n",
       "      <td>79.97</td>\n",
       "      <td>0</td>\n",
       "      <td>4</td>\n",
       "      <td>19</td>\n",
       "      <td>0</td>\n",
       "      <td>44000</td>\n",
       "    </tr>\n",
       "    <tr>\n",
       "      <th>3</th>\n",
       "      <td>64</td>\n",
       "      <td>16</td>\n",
       "      <td>133.46</td>\n",
       "      <td>0</td>\n",
       "      <td>11</td>\n",
       "      <td>16</td>\n",
       "      <td>0</td>\n",
       "      <td>90000</td>\n",
       "    </tr>\n",
       "    <tr>\n",
       "      <th>4</th>\n",
       "      <td>64</td>\n",
       "      <td>16</td>\n",
       "      <td>133.46</td>\n",
       "      <td>0</td>\n",
       "      <td>11</td>\n",
       "      <td>16</td>\n",
       "      <td>0</td>\n",
       "      <td>85000</td>\n",
       "    </tr>\n",
       "  </tbody>\n",
       "</table>\n",
       "</div>"
      ],
      "text/plain": [
       "  dong apt_name    area  contract_month  floor  construction_year  top10  \\\n",
       "0   64       16   79.97               0      1                 19      0   \n",
       "1   64       16   79.97               0      5                 19      0   \n",
       "2   64       16   79.97               0      4                 19      0   \n",
       "3   64       16  133.46               0     11                 16      0   \n",
       "4   64       16  133.46               0     11                 16      0   \n",
       "\n",
       "   deposit  \n",
       "0    43000  \n",
       "1    45000  \n",
       "2    44000  \n",
       "3    90000  \n",
       "4    85000  "
      ]
     },
     "execution_count": 50,
     "metadata": {},
     "output_type": "execute_result"
    }
   ],
   "source": [
    "df_copy = df.copy()\n",
    "df_copy = df_copy[['동', '단지명', '전용면적', '계약년월', '층', '건축년도','top10', '보증금']]\n",
    "df_copy.columns = ['dong', 'apt_name', 'area', 'contract_month', 'floor', 'construction_year','top10', 'deposit']\n",
    "df_copy.head()"
   ]
  },
  {
   "cell_type": "code",
   "execution_count": 51,
   "id": "14c0ca74",
   "metadata": {},
   "outputs": [
    {
     "name": "stdout",
     "output_type": "stream",
     "text": [
      "                       dong      area  contract_month     floor  \\\n",
      "dong               1.000000 -0.306399             NaN -0.048456   \n",
      "area              -0.306399  1.000000             NaN  0.056323   \n",
      "contract_month          NaN       NaN             NaN       NaN   \n",
      "floor             -0.048456  0.056323             NaN  1.000000   \n",
      "construction_year -0.060223  0.043615             NaN  0.173686   \n",
      "top10             -0.124763  0.167108             NaN  0.122919   \n",
      "deposit           -0.676504  0.681067             NaN  0.145187   \n",
      "\n",
      "                   construction_year     top10   deposit  \n",
      "dong                       -0.060223 -0.124763 -0.676504  \n",
      "area                        0.043615  0.167108  0.681067  \n",
      "contract_month                   NaN       NaN       NaN  \n",
      "floor                       0.173686  0.122919  0.145187  \n",
      "construction_year           1.000000  0.443378  0.235904  \n",
      "top10                       0.443378  1.000000  0.311658  \n",
      "deposit                     0.235904  0.311658  1.000000  \n"
     ]
    },
    {
     "name": "stderr",
     "output_type": "stream",
     "text": [
      "C:\\Users\\tjoeun\\AppData\\Local\\Temp\\ipykernel_18340\\2789308248.py:7: FutureWarning: The default value of numeric_only in DataFrame.corr is deprecated. In a future version, it will default to False. Select only valid columns or specify the value of numeric_only to silence this warning.\n",
      "  r = df_copy.corr(method='spearman')\n"
     ]
    }
   ],
   "source": [
    "# 범주형 변수 순위 변수로 변환\n",
    "# 범주형의 숫자 값은 연속형의 의미를 가지는 숫자가 아니기 때문에 해석에 있어 주의할 것!\n",
    "df_copy['top10'] = df_copy['top10'].astype('category').cat.codes\n",
    "df_copy['dong'] = df_copy['dong'].astype('category').cat.codes\n",
    "\n",
    "# 스피어만 상관계수 계산\n",
    "r = df_copy.corr(method='spearman')\n",
    "\n",
    "# 스피어만 상관계수를 출력\n",
    "print(r)\n",
    "\n",
    "# 스피어만 상관계수 읽는 방법\n",
    "# 1에 가까울수록 두 변수 간의 상관관계가 강하고, -1에 가까울수록 두 변수 간의 상관관계가 약함 (설사약과 변비약)\n",
    "# 스피어만 상관계수 값이 0에 가까울수록 두 변수 간의 상관관계가 없음"
   ]
  },
  {
   "cell_type": "code",
   "execution_count": 52,
   "id": "f8e76a4f",
   "metadata": {},
   "outputs": [
    {
     "data": {
      "image/png": "[encoded data removed]",
      "text/plain": [
       "<Figure size 640x480 with 2 Axes>"
      ]
     },
     "metadata": {},
     "output_type": "display_data"
    }
   ],
   "source": [
    "# 히트맵으로 확인\n",
    "plt.imshow(r)\n",
    "plt.xticks(np.arange(len(r.columns)), r.columns, rotation='vertical')\n",
    "plt.yticks(np.arange(len(r.columns)), r.columns)\n",
    "plt.colorbar()\n",
    "plt.show()"
   ]
  },
  {
   "cell_type": "code",
   "execution_count": 53,
   "id": "64caa84d",
   "metadata": {},
   "outputs": [
    {
     "name": "stderr",
     "output_type": "stream",
     "text": [
      "C:\\Users\\tjoeun\\anaconda3\\envs\\tf_cpu\\lib\\site-packages\\scipy\\stats\\_stats_py.py:4916: ConstantInputWarning: An input array is constant; the correlation coefficient is not defined.\n",
      "  warnings.warn(stats.ConstantInputWarning(warn_msg))\n"
     ]
    },
    {
     "data": {
      "image/png": "[encoded data removed]",
      "text/plain": [
       "<Figure size 1000x1000 with 5 Axes>"
      ]
     },
     "metadata": {},
     "output_type": "display_data"
    }
   ],
   "source": [
    "# 산점도로 확인하기\n",
    "plt.figure(figsize=(10, 10))\n",
    "for idx, col in enumerate(plot_cols[1:]):\n",
    "  ax1 = plt.subplot(3, 2, idx + 1)\n",
    "  sns.regplot(x=col, y=plot_cols[0], data=plot_df, ax=ax1, color='gray', line_kws={'color': 'red'})\n",
    "  ax1.text(x=0, y=1, s='Spearman correlation: {0:.3f}'.format(plot_df[col].corr(plot_df['deposit'], method='spearman')))\n",
    "plt.show()"
   ]
  },
  {
   "cell_type": "markdown",
   "id": "69f8d3d7",
   "metadata": {},
   "source": [
    "# 전처리 3\n",
    "실제 값들이 정규분포를 이루고 있는지 확인(회귀모델의 전제는 값들이 정규분포를 이루고 있다는 것에서 시작함)"
   ]
  },
  {
   "cell_type": "code",
   "execution_count": 54,
   "id": "f2a07806",
   "metadata": {},
   "outputs": [
    {
     "name": "stderr",
     "output_type": "stream",
     "text": [
      "C:\\Users\\tjoeun\\anaconda3\\envs\\tf_cpu\\lib\\site-packages\\seaborn\\axisgrid.py:118: UserWarning: Glyph 48372 (\\N{HANGUL SYLLABLE BO}) missing from current font.\n",
      "  self._figure.tight_layout(*args, **kwargs)\n",
      "C:\\Users\\tjoeun\\anaconda3\\envs\\tf_cpu\\lib\\site-packages\\seaborn\\axisgrid.py:118: UserWarning: Glyph 51613 (\\N{HANGUL SYLLABLE JEUNG}) missing from current font.\n",
      "  self._figure.tight_layout(*args, **kwargs)\n",
      "C:\\Users\\tjoeun\\anaconda3\\envs\\tf_cpu\\lib\\site-packages\\seaborn\\axisgrid.py:118: UserWarning: Glyph 44552 (\\N{HANGUL SYLLABLE GEUM}) missing from current font.\n",
      "  self._figure.tight_layout(*args, **kwargs)\n"
     ]
    },
    {
     "data": {
      "text/plain": [
       "<Figure size 640x480 with 0 Axes>"
      ]
     },
     "metadata": {},
     "output_type": "display_data"
    },
    {
     "data": {
      "image/png": "[encoded data removed]",
      "text/plain": [
       "<Figure size 500x500 with 1 Axes>"
      ]
     },
     "metadata": {},
     "output_type": "display_data"
    }
   ],
   "source": [
    "# 보증금 EDA\n",
    "plt.figure()\n",
    "sns.displot(df['보증금'], bins=30)\n",
    "plt.xlabel('Price(10000 won)')\n",
    "plt.title('Distribution of Price')\n",
    "plt.show()"
   ]
  },
  {
   "cell_type": "code",
   "execution_count": 55,
   "id": "2816fe0e",
   "metadata": {},
   "outputs": [],
   "source": [
    "# 예상대로 왼쪽으로 엄청나게 많이 치우쳐 있음(왜도 왼쪽으로 치우침)\n",
    "# 타겟 변수의 이상치가 회귀모형을 사용한 예측에 큰 영향을 줄 수 있어 로그 변환후 추후 다시 역변환 하는 것으로"
   ]
  },
  {
   "cell_type": "markdown",
   "id": "feda19af",
   "metadata": {},
   "source": [
    "* 왜도 왼쪽으로 치우칠때 로그가 아니라 제곱으로 진행해야 하는건지...? --확인! "
   ]
  },
  {
   "cell_type": "code",
   "execution_count": 56,
   "id": "a71507e7",
   "metadata": {},
   "outputs": [
    {
     "data": {
      "text/html": [
       "<div>\n",
       "<style scoped>\n",
       "    .dataframe tbody tr th:only-of-type {\n",
       "        vertical-align: middle;\n",
       "    }\n",
       "\n",
       "    .dataframe tbody tr th {\n",
       "        vertical-align: top;\n",
       "    }\n",
       "\n",
       "    .dataframe thead th {\n",
       "        text-align: right;\n",
       "    }\n",
       "</style>\n",
       "<table border=\"1\" class=\"dataframe\">\n",
       "  <thead>\n",
       "    <tr style=\"text-align: right;\">\n",
       "      <th></th>\n",
       "      <th>동</th>\n",
       "      <th>단지명</th>\n",
       "      <th>전용면적</th>\n",
       "      <th>계약년월</th>\n",
       "      <th>층</th>\n",
       "      <th>건축년도</th>\n",
       "      <th>apt_counts</th>\n",
       "      <th>top10</th>\n",
       "      <th>transformed</th>\n",
       "      <th>log_price</th>\n",
       "    </tr>\n",
       "  </thead>\n",
       "  <tbody>\n",
       "    <tr>\n",
       "      <th>0</th>\n",
       "      <td>64</td>\n",
       "      <td>16</td>\n",
       "      <td>79.97</td>\n",
       "      <td>0</td>\n",
       "      <td>1</td>\n",
       "      <td>19</td>\n",
       "      <td>3</td>\n",
       "      <td>0</td>\n",
       "      <td>True</td>\n",
       "      <td>10.668979</td>\n",
       "    </tr>\n",
       "  </tbody>\n",
       "</table>\n",
       "</div>"
      ],
      "text/plain": [
       "    동 단지명   전용면적  계약년월  층  건축년도  apt_counts  top10  transformed  log_price\n",
       "0  64  16  79.97     0  1    19           3      0         True  10.668979"
      ]
     },
     "execution_count": 56,
     "metadata": {},
     "output_type": "execute_result"
    }
   ],
   "source": [
    "df['log_price'] = np.log1p(df['보증금'])\n",
    "real_price = df['보증금'] # 원래 가격\n",
    "df.drop('보증금', axis=1, inplace=True)\n",
    "df.head(1)"
   ]
  },
  {
   "cell_type": "code",
   "execution_count": 57,
   "id": "8c868d34",
   "metadata": {},
   "outputs": [
    {
     "data": {
      "image/png": "[encoded data removed]",
      "text/plain": [
       "<Figure size 1200x600 with 2 Axes>"
      ]
     },
     "metadata": {},
     "output_type": "display_data"
    }
   ],
   "source": [
    "f, (ax1, ax2) = plt.subplots(1,2,figsize=(12,6))\n",
    "\n",
    "ax1.hist(real_price, bins=30)\n",
    "ax1.set_title('Price Distribution')\n",
    "ax1.set_xlabel('Price')\n",
    "\n",
    "ax2.hist(df['log_price'], bins=30)\n",
    "ax2.set_title('Log Price Distribution')\n",
    "ax2.set_xlabel('Log Price')\n",
    "\n",
    "plt.show()"
   ]
  },
  {
   "cell_type": "code",
   "execution_count": 58,
   "id": "6bfa7df4",
   "metadata": {},
   "outputs": [],
   "source": [
    "# 나름 정규분포화 시킴(휴~)"
   ]
  },
  {
   "cell_type": "code",
   "execution_count": 59,
   "id": "398c3145",
   "metadata": {},
   "outputs": [
    {
     "name": "stderr",
     "output_type": "stream",
     "text": [
      "C:\\Users\\tjoeun\\anaconda3\\envs\\tf_cpu\\lib\\site-packages\\seaborn\\axisgrid.py:118: UserWarning: Glyph 51204 (\\N{HANGUL SYLLABLE JEON}) missing from current font.\n",
      "  self._figure.tight_layout(*args, **kwargs)\n",
      "C:\\Users\\tjoeun\\anaconda3\\envs\\tf_cpu\\lib\\site-packages\\seaborn\\axisgrid.py:118: UserWarning: Glyph 50857 (\\N{HANGUL SYLLABLE YONG}) missing from current font.\n",
      "  self._figure.tight_layout(*args, **kwargs)\n",
      "C:\\Users\\tjoeun\\anaconda3\\envs\\tf_cpu\\lib\\site-packages\\seaborn\\axisgrid.py:118: UserWarning: Glyph 47732 (\\N{HANGUL SYLLABLE MYEON}) missing from current font.\n",
      "  self._figure.tight_layout(*args, **kwargs)\n",
      "C:\\Users\\tjoeun\\anaconda3\\envs\\tf_cpu\\lib\\site-packages\\seaborn\\axisgrid.py:118: UserWarning: Glyph 51201 (\\N{HANGUL SYLLABLE JEOG}) missing from current font.\n",
      "  self._figure.tight_layout(*args, **kwargs)\n"
     ]
    },
    {
     "data": {
      "text/plain": [
       "<Figure size 640x480 with 0 Axes>"
      ]
     },
     "metadata": {},
     "output_type": "display_data"
    },
    {
     "data": {
      "image/png": "[encoded data removed]",
      "text/plain": [
       "<Figure size 500x500 with 1 Axes>"
      ]
     },
     "metadata": {},
     "output_type": "display_data"
    }
   ],
   "source": [
    "# 전용면적 EDA\n",
    "plt.figure()\n",
    "sns.displot(df['전용면적'], bins=30)\n",
    "plt.xlabel('Area(Square meter)')\n",
    "plt.title('Distribution of Area')\n",
    "plt.show()"
   ]
  },
  {
   "cell_type": "code",
   "execution_count": 60,
   "id": "7525dddb",
   "metadata": {},
   "outputs": [
    {
     "data": {
      "text/html": [
       "<div>\n",
       "<style scoped>\n",
       "    .dataframe tbody tr th:only-of-type {\n",
       "        vertical-align: middle;\n",
       "    }\n",
       "\n",
       "    .dataframe tbody tr th {\n",
       "        vertical-align: top;\n",
       "    }\n",
       "\n",
       "    .dataframe thead th {\n",
       "        text-align: right;\n",
       "    }\n",
       "</style>\n",
       "<table border=\"1\" class=\"dataframe\">\n",
       "  <thead>\n",
       "    <tr style=\"text-align: right;\">\n",
       "      <th></th>\n",
       "      <th>동</th>\n",
       "      <th>단지명</th>\n",
       "      <th>계약년월</th>\n",
       "      <th>층</th>\n",
       "      <th>건축년도</th>\n",
       "      <th>apt_counts</th>\n",
       "      <th>top10</th>\n",
       "      <th>transformed</th>\n",
       "      <th>log_price</th>\n",
       "      <th>log_area</th>\n",
       "    </tr>\n",
       "  </thead>\n",
       "  <tbody>\n",
       "    <tr>\n",
       "      <th>0</th>\n",
       "      <td>64</td>\n",
       "      <td>16</td>\n",
       "      <td>0</td>\n",
       "      <td>1</td>\n",
       "      <td>19</td>\n",
       "      <td>3</td>\n",
       "      <td>0</td>\n",
       "      <td>True</td>\n",
       "      <td>10.668979</td>\n",
       "      <td>4.394079</td>\n",
       "    </tr>\n",
       "  </tbody>\n",
       "</table>\n",
       "</div>"
      ],
      "text/plain": [
       "    동 단지명  계약년월  층  건축년도  apt_counts  top10  transformed  log_price  log_area\n",
       "0  64  16     0  1    19           3      0         True  10.668979  4.394079"
      ]
     },
     "execution_count": 60,
     "metadata": {},
     "output_type": "execute_result"
    }
   ],
   "source": [
    "# 정규분포화 되어 있는건지 아닌지 애매해서 로그함수 이용해서 한 번 더 전처리 진행\n",
    "# 면적 로그 변환 후 원래 면적 따로 저장\n",
    "df['log_area'] = np.log1p(df['전용면적'])\n",
    "df['log_area'] = np.log1p(df['전용면적'])\n",
    "area = df['전용면적'] # 원래 전용면적\n",
    "df.drop('전용면적', axis=1, inplace=True)\n",
    "df.head(1)"
   ]
  },
  {
   "cell_type": "code",
   "execution_count": 61,
   "id": "f8047afb",
   "metadata": {},
   "outputs": [
    {
     "data": {
      "image/png": "[encoded data removed]",
      "text/plain": [
       "<Figure size 1200x600 with 2 Axes>"
      ]
     },
     "metadata": {},
     "output_type": "display_data"
    }
   ],
   "source": [
    "f, (ax1, ax2) = plt.subplots(1,2,figsize=(12,6))\n",
    "\n",
    "ax1.hist(area, bins=30)\n",
    "ax1.set_title('Distribution of Area')\n",
    "ax1.set_xlabel('Area')\n",
    "\n",
    "ax2.hist(df['log_area'], bins=30)\n",
    "ax2.set_title('Distribution of Log Area')\n",
    "ax2.set_xlabel('Area')\n",
    "\n",
    "plt.show()"
   ]
  },
  {
   "cell_type": "code",
   "execution_count": 62,
   "id": "28afd560",
   "metadata": {},
   "outputs": [],
   "source": [
    "# 조금 더 정규화되어 로그변환값으로 활용하는 것으로"
   ]
  },
  {
   "cell_type": "code",
   "execution_count": 63,
   "id": "3d902e41",
   "metadata": {},
   "outputs": [],
   "source": [
    "# 불필요한 컬럼 삭제2\n",
    "drop_col = ['apt_counts', 'transformed']\n",
    "df.drop(drop_col, axis=1, inplace=True)"
   ]
  },
  {
   "cell_type": "code",
   "execution_count": 64,
   "id": "b81fa56b",
   "metadata": {},
   "outputs": [
    {
     "name": "stdout",
     "output_type": "stream",
     "text": [
      "<class 'pandas.core.frame.DataFrame'>\n",
      "Int64Index: 11793 entries, 0 to 11792\n",
      "Data columns (total 8 columns):\n",
      " #   Column     Non-Null Count  Dtype  \n",
      "---  ------     --------------  -----  \n",
      " 0   동          11793 non-null  object \n",
      " 1   단지명        11793 non-null  object \n",
      " 2   계약년월       11793 non-null  int64  \n",
      " 3   층          11793 non-null  int64  \n",
      " 4   건축년도       11793 non-null  int64  \n",
      " 5   top10      11793 non-null  int64  \n",
      " 6   log_price  11793 non-null  float64\n",
      " 7   log_area   11793 non-null  float64\n",
      "dtypes: float64(2), int64(4), object(2)\n",
      "memory usage: 829.2+ KB\n"
     ]
    }
   ],
   "source": [
    "# 모든 자료 수치화된 것인지 확인\n",
    "df.info()"
   ]
  },
  {
   "cell_type": "code",
   "execution_count": 65,
   "id": "cc3d3151",
   "metadata": {},
   "outputs": [],
   "source": [
    "# 동과 단지명이 숫자화 되어 있지 않아 int형으로 변환 진행\n",
    "df['동'] = df['동'].astype('int64')\n",
    "df['단지명'] = df['단지명'].astype('int64')"
   ]
  },
  {
   "cell_type": "code",
   "execution_count": 66,
   "id": "b03ec2c2",
   "metadata": {},
   "outputs": [
    {
     "name": "stdout",
     "output_type": "stream",
     "text": [
      "<class 'pandas.core.frame.DataFrame'>\n",
      "Int64Index: 11793 entries, 0 to 11792\n",
      "Data columns (total 8 columns):\n",
      " #   Column     Non-Null Count  Dtype  \n",
      "---  ------     --------------  -----  \n",
      " 0   동          11793 non-null  int64  \n",
      " 1   단지명        11793 non-null  int64  \n",
      " 2   계약년월       11793 non-null  int64  \n",
      " 3   층          11793 non-null  int64  \n",
      " 4   건축년도       11793 non-null  int64  \n",
      " 5   top10      11793 non-null  int64  \n",
      " 6   log_price  11793 non-null  float64\n",
      " 7   log_area   11793 non-null  float64\n",
      "dtypes: float64(2), int64(6)\n",
      "memory usage: 829.2 KB\n"
     ]
    }
   ],
   "source": [
    "# 다시 확인\n",
    "df.info()"
   ]
  },
  {
   "cell_type": "code",
   "execution_count": 67,
   "id": "4adb3a47",
   "metadata": {},
   "outputs": [
    {
     "data": {
      "text/html": [
       "<div>\n",
       "<style scoped>\n",
       "    .dataframe tbody tr th:only-of-type {\n",
       "        vertical-align: middle;\n",
       "    }\n",
       "\n",
       "    .dataframe tbody tr th {\n",
       "        vertical-align: top;\n",
       "    }\n",
       "\n",
       "    .dataframe thead th {\n",
       "        text-align: right;\n",
       "    }\n",
       "</style>\n",
       "<table border=\"1\" class=\"dataframe\">\n",
       "  <thead>\n",
       "    <tr style=\"text-align: right;\">\n",
       "      <th></th>\n",
       "      <th>동</th>\n",
       "      <th>단지명</th>\n",
       "      <th>계약년월</th>\n",
       "      <th>층</th>\n",
       "      <th>건축년도</th>\n",
       "      <th>top10</th>\n",
       "      <th>log_price</th>\n",
       "      <th>log_area</th>\n",
       "    </tr>\n",
       "  </thead>\n",
       "  <tbody>\n",
       "    <tr>\n",
       "      <th>0</th>\n",
       "      <td>64</td>\n",
       "      <td>16</td>\n",
       "      <td>0</td>\n",
       "      <td>1</td>\n",
       "      <td>19</td>\n",
       "      <td>0</td>\n",
       "      <td>10.668979</td>\n",
       "      <td>4.394079</td>\n",
       "    </tr>\n",
       "    <tr>\n",
       "      <th>1</th>\n",
       "      <td>64</td>\n",
       "      <td>16</td>\n",
       "      <td>0</td>\n",
       "      <td>5</td>\n",
       "      <td>19</td>\n",
       "      <td>0</td>\n",
       "      <td>10.714440</td>\n",
       "      <td>4.394079</td>\n",
       "    </tr>\n",
       "    <tr>\n",
       "      <th>2</th>\n",
       "      <td>64</td>\n",
       "      <td>16</td>\n",
       "      <td>0</td>\n",
       "      <td>4</td>\n",
       "      <td>19</td>\n",
       "      <td>0</td>\n",
       "      <td>10.691968</td>\n",
       "      <td>4.394079</td>\n",
       "    </tr>\n",
       "    <tr>\n",
       "      <th>3</th>\n",
       "      <td>64</td>\n",
       "      <td>16</td>\n",
       "      <td>0</td>\n",
       "      <td>11</td>\n",
       "      <td>16</td>\n",
       "      <td>0</td>\n",
       "      <td>11.407576</td>\n",
       "      <td>4.901267</td>\n",
       "    </tr>\n",
       "    <tr>\n",
       "      <th>4</th>\n",
       "      <td>64</td>\n",
       "      <td>16</td>\n",
       "      <td>0</td>\n",
       "      <td>11</td>\n",
       "      <td>16</td>\n",
       "      <td>0</td>\n",
       "      <td>11.350418</td>\n",
       "      <td>4.901267</td>\n",
       "    </tr>\n",
       "  </tbody>\n",
       "</table>\n",
       "</div>"
      ],
      "text/plain": [
       "    동  단지명  계약년월   층  건축년도  top10  log_price  log_area\n",
       "0  64   16     0   1    19      0  10.668979  4.394079\n",
       "1  64   16     0   5    19      0  10.714440  4.394079\n",
       "2  64   16     0   4    19      0  10.691968  4.394079\n",
       "3  64   16     0  11    16      0  11.407576  4.901267\n",
       "4  64   16     0  11    16      0  11.350418  4.901267"
      ]
     },
     "execution_count": 67,
     "metadata": {},
     "output_type": "execute_result"
    }
   ],
   "source": [
    "df.head()"
   ]
  },
  {
   "cell_type": "markdown",
   "id": "01c1e813",
   "metadata": {},
   "source": [
    "# 전처리 4 \n",
    "스케일링 진행(정규화/표준화 진행)\n",
    "서로 영향 안주려면 더미코드 필요한가????   \n",
    "의논 : 더미화하면 퍼포먼스 시간 10~20배 더 걸림;ㅁ; 그냥 진행하는 것으로"
   ]
  },
  {
   "cell_type": "code",
   "execution_count": 68,
   "id": "aac12af5",
   "metadata": {},
   "outputs": [
    {
     "name": "stderr",
     "output_type": "stream",
     "text": [
      "C:\\Users\\tjoeun\\AppData\\Local\\Temp\\ipykernel_18340\\3063686401.py:9: DeprecationWarning: In a future version, `df.iloc[:, i] = newvals` will attempt to set the values inplace instead of always setting a new array. To retain the old behavior, use either `df[df.columns[i]] = newvals` or, if columns are non-unique, `df.isetitem(i, newvals)`\n",
      "  df.iloc[:, :-1]=df_scaled[:, :]\n"
     ]
    },
    {
     "data": {
      "text/html": [
       "<div>\n",
       "<style scoped>\n",
       "    .dataframe tbody tr th:only-of-type {\n",
       "        vertical-align: middle;\n",
       "    }\n",
       "\n",
       "    .dataframe tbody tr th {\n",
       "        vertical-align: top;\n",
       "    }\n",
       "\n",
       "    .dataframe thead th {\n",
       "        text-align: right;\n",
       "    }\n",
       "</style>\n",
       "<table border=\"1\" class=\"dataframe\">\n",
       "  <thead>\n",
       "    <tr style=\"text-align: right;\">\n",
       "      <th></th>\n",
       "      <th>동</th>\n",
       "      <th>단지명</th>\n",
       "      <th>계약년월</th>\n",
       "      <th>층</th>\n",
       "      <th>건축년도</th>\n",
       "      <th>top10</th>\n",
       "      <th>log_price</th>\n",
       "      <th>log_area</th>\n",
       "    </tr>\n",
       "  </thead>\n",
       "  <tbody>\n",
       "    <tr>\n",
       "      <th>0</th>\n",
       "      <td>0.234432</td>\n",
       "      <td>0.484848</td>\n",
       "      <td>0.0</td>\n",
       "      <td>0.000000</td>\n",
       "      <td>0.351852</td>\n",
       "      <td>0.0</td>\n",
       "      <td>0.628797</td>\n",
       "      <td>4.394079</td>\n",
       "    </tr>\n",
       "    <tr>\n",
       "      <th>1</th>\n",
       "      <td>0.234432</td>\n",
       "      <td>0.484848</td>\n",
       "      <td>0.0</td>\n",
       "      <td>0.066667</td>\n",
       "      <td>0.351852</td>\n",
       "      <td>0.0</td>\n",
       "      <td>0.637484</td>\n",
       "      <td>4.394079</td>\n",
       "    </tr>\n",
       "    <tr>\n",
       "      <th>2</th>\n",
       "      <td>0.234432</td>\n",
       "      <td>0.484848</td>\n",
       "      <td>0.0</td>\n",
       "      <td>0.050000</td>\n",
       "      <td>0.351852</td>\n",
       "      <td>0.0</td>\n",
       "      <td>0.633190</td>\n",
       "      <td>4.394079</td>\n",
       "    </tr>\n",
       "    <tr>\n",
       "      <th>3</th>\n",
       "      <td>0.234432</td>\n",
       "      <td>0.484848</td>\n",
       "      <td>0.0</td>\n",
       "      <td>0.166667</td>\n",
       "      <td>0.296296</td>\n",
       "      <td>0.0</td>\n",
       "      <td>0.769935</td>\n",
       "      <td>4.901267</td>\n",
       "    </tr>\n",
       "    <tr>\n",
       "      <th>4</th>\n",
       "      <td>0.234432</td>\n",
       "      <td>0.484848</td>\n",
       "      <td>0.0</td>\n",
       "      <td>0.166667</td>\n",
       "      <td>0.296296</td>\n",
       "      <td>0.0</td>\n",
       "      <td>0.759013</td>\n",
       "      <td>4.901267</td>\n",
       "    </tr>\n",
       "  </tbody>\n",
       "</table>\n",
       "</div>"
      ],
      "text/plain": [
       "          동       단지명  계약년월         층      건축년도  top10  log_price  log_area\n",
       "0  0.234432  0.484848   0.0  0.000000  0.351852    0.0   0.628797  4.394079\n",
       "1  0.234432  0.484848   0.0  0.066667  0.351852    0.0   0.637484  4.394079\n",
       "2  0.234432  0.484848   0.0  0.050000  0.351852    0.0   0.633190  4.394079\n",
       "3  0.234432  0.484848   0.0  0.166667  0.296296    0.0   0.769935  4.901267\n",
       "4  0.234432  0.484848   0.0  0.166667  0.296296    0.0   0.759013  4.901267"
      ]
     },
     "execution_count": 68,
     "metadata": {},
     "output_type": "execute_result"
    }
   ],
   "source": [
    "scaler=MinMaxScaler()\n",
    "\n",
    "#마지막열임을 나타내는 -1은 포함하지 않음\n",
    "df_scaled=df.iloc[:, :-1]   \n",
    "scaler.fit(df_scaled)\n",
    "df_scaled=scaler.transform(df_scaled)\n",
    "\n",
    "#스케일링 변환된 값을 데이터프레임에 반영\n",
    "df.iloc[:, :-1]=df_scaled[:, :]\n",
    "df.head()"
   ]
  }
 ],
 "metadata": {
  "kernelspec": {
   "display_name": "Python [conda env:tf_cpu] *",
   "language": "python",
   "name": "conda-env-tf_cpu-py"
  },
  "language_info": {
   "codemirror_mode": {
    "name": "ipython",
    "version": 3
   },
   "file_extension": ".py",
   "mimetype": "text/x-python",
   "name": "python",
   "nbconvert_exporter": "python",
   "pygments_lexer": "ipython3",
   "version": "3.8.16"
  }
 },
 "nbformat": 4,
 "nbformat_minor": 5
}
